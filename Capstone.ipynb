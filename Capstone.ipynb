{
 "cells": [
  {
   "cell_type": "code",
   "execution_count": 1,
   "id": "4d06d3f9",
   "metadata": {},
   "outputs": [],
   "source": [
    "import matplotlib.pyplot as plt\n",
    "import numpy as np\n",
    "import seaborn as sns\n",
    "import pandas as pd\n",
    "import os\n",
    "import re\n",
    "import warnings\n",
    "warnings.filterwarnings('ignore') # We can suppress the warnings"
   ]
  },
  {
   "cell_type": "code",
   "execution_count": 87,
   "id": "28a74127",
   "metadata": {},
   "outputs": [
    {
     "data": {
      "text/html": [
       "<div>\n",
       "<style scoped>\n",
       "    .dataframe tbody tr th:only-of-type {\n",
       "        vertical-align: middle;\n",
       "    }\n",
       "\n",
       "    .dataframe tbody tr th {\n",
       "        vertical-align: top;\n",
       "    }\n",
       "\n",
       "    .dataframe thead th {\n",
       "        text-align: right;\n",
       "    }\n",
       "</style>\n",
       "<table border=\"1\" class=\"dataframe\">\n",
       "  <thead>\n",
       "    <tr style=\"text-align: right;\">\n",
       "      <th></th>\n",
       "      <th>transaction_id</th>\n",
       "      <th>transaction_date</th>\n",
       "      <th>Hours</th>\n",
       "      <th>Minutes</th>\n",
       "      <th>Seconds</th>\n",
       "      <th>sales_outlet_id</th>\n",
       "      <th>staff_id</th>\n",
       "      <th>customer_id</th>\n",
       "      <th>instore_yn</th>\n",
       "      <th>order</th>\n",
       "      <th>line_item_id</th>\n",
       "      <th>product_id</th>\n",
       "      <th>quantity</th>\n",
       "      <th>line_item_amount</th>\n",
       "      <th>unit_price</th>\n",
       "      <th>promo_item_yn</th>\n",
       "    </tr>\n",
       "  </thead>\n",
       "  <tbody>\n",
       "    <tr>\n",
       "      <th>0</th>\n",
       "      <td>7</td>\n",
       "      <td>01/04/2019</td>\n",
       "      <td>12</td>\n",
       "      <td>4</td>\n",
       "      <td>43</td>\n",
       "      <td>3</td>\n",
       "      <td>12</td>\n",
       "      <td>558</td>\n",
       "      <td>N</td>\n",
       "      <td>1</td>\n",
       "      <td>1</td>\n",
       "      <td>52</td>\n",
       "      <td>1</td>\n",
       "      <td>2.50</td>\n",
       "      <td>2.50</td>\n",
       "      <td>N</td>\n",
       "    </tr>\n",
       "    <tr>\n",
       "      <th>1</th>\n",
       "      <td>11</td>\n",
       "      <td>01/04/2019</td>\n",
       "      <td>15</td>\n",
       "      <td>54</td>\n",
       "      <td>39</td>\n",
       "      <td>3</td>\n",
       "      <td>17</td>\n",
       "      <td>781</td>\n",
       "      <td>N</td>\n",
       "      <td>1</td>\n",
       "      <td>1</td>\n",
       "      <td>27</td>\n",
       "      <td>2</td>\n",
       "      <td>7.00</td>\n",
       "      <td>3.50</td>\n",
       "      <td>N</td>\n",
       "    </tr>\n",
       "    <tr>\n",
       "      <th>2</th>\n",
       "      <td>19</td>\n",
       "      <td>01/04/2019</td>\n",
       "      <td>14</td>\n",
       "      <td>34</td>\n",
       "      <td>59</td>\n",
       "      <td>3</td>\n",
       "      <td>17</td>\n",
       "      <td>788</td>\n",
       "      <td>Y</td>\n",
       "      <td>1</td>\n",
       "      <td>1</td>\n",
       "      <td>46</td>\n",
       "      <td>2</td>\n",
       "      <td>5.00</td>\n",
       "      <td>2.50</td>\n",
       "      <td>N</td>\n",
       "    </tr>\n",
       "    <tr>\n",
       "      <th>3</th>\n",
       "      <td>32</td>\n",
       "      <td>01/04/2019</td>\n",
       "      <td>16</td>\n",
       "      <td>6</td>\n",
       "      <td>4</td>\n",
       "      <td>3</td>\n",
       "      <td>12</td>\n",
       "      <td>683</td>\n",
       "      <td>N</td>\n",
       "      <td>1</td>\n",
       "      <td>1</td>\n",
       "      <td>23</td>\n",
       "      <td>2</td>\n",
       "      <td>5.00</td>\n",
       "      <td>2.50</td>\n",
       "      <td>N</td>\n",
       "    </tr>\n",
       "    <tr>\n",
       "      <th>4</th>\n",
       "      <td>33</td>\n",
       "      <td>01/04/2019</td>\n",
       "      <td>19</td>\n",
       "      <td>18</td>\n",
       "      <td>37</td>\n",
       "      <td>3</td>\n",
       "      <td>17</td>\n",
       "      <td>99</td>\n",
       "      <td>Y</td>\n",
       "      <td>1</td>\n",
       "      <td>1</td>\n",
       "      <td>34</td>\n",
       "      <td>1</td>\n",
       "      <td>2.45</td>\n",
       "      <td>2.45</td>\n",
       "      <td>N</td>\n",
       "    </tr>\n",
       "  </tbody>\n",
       "</table>\n",
       "</div>"
      ],
      "text/plain": [
       "   transaction_id transaction_date  Hours  Minutes  Seconds  sales_outlet_id  \\\n",
       "0               7       01/04/2019     12        4       43                3   \n",
       "1              11       01/04/2019     15       54       39                3   \n",
       "2              19       01/04/2019     14       34       59                3   \n",
       "3              32       01/04/2019     16        6        4                3   \n",
       "4              33       01/04/2019     19       18       37                3   \n",
       "\n",
       "   staff_id  customer_id instore_yn  order  line_item_id  product_id  \\\n",
       "0        12          558          N      1             1          52   \n",
       "1        17          781          N      1             1          27   \n",
       "2        17          788          Y      1             1          46   \n",
       "3        12          683          N      1             1          23   \n",
       "4        17           99          Y      1             1          34   \n",
       "\n",
       "   quantity  line_item_amount  unit_price promo_item_yn  \n",
       "0         1              2.50        2.50             N  \n",
       "1         2              7.00        3.50             N  \n",
       "2         2              5.00        2.50             N  \n",
       "3         2              5.00        2.50             N  \n",
       "4         1              2.45        2.45             N  "
      ]
     },
     "execution_count": 87,
     "metadata": {},
     "output_type": "execute_result"
    }
   ],
   "source": [
    "df1 = pd.read_csv(\"C:\\\\ESTERA\\\\CCT\\\\PROJECT\\\\Data sets\\\\Coffee shop sample data\\\\201904 sales reciepts.csv\")\n",
    "df1.head()"
   ]
  },
  {
   "cell_type": "code",
   "execution_count": 88,
   "id": "abba95c9",
   "metadata": {},
   "outputs": [
    {
     "name": "stdout",
     "output_type": "stream",
     "text": [
      "<class 'pandas.core.frame.DataFrame'>\n",
      "RangeIndex: 49894 entries, 0 to 49893\n",
      "Data columns (total 16 columns):\n",
      " #   Column            Non-Null Count  Dtype  \n",
      "---  ------            --------------  -----  \n",
      " 0   transaction_id    49894 non-null  int64  \n",
      " 1   transaction_date  49894 non-null  object \n",
      " 2   Hours             49894 non-null  int64  \n",
      " 3   Minutes           49894 non-null  int64  \n",
      " 4   Seconds           49894 non-null  int64  \n",
      " 5   sales_outlet_id   49894 non-null  int64  \n",
      " 6   staff_id          49894 non-null  int64  \n",
      " 7   customer_id       49894 non-null  int64  \n",
      " 8   instore_yn        49894 non-null  object \n",
      " 9   order             49894 non-null  int64  \n",
      " 10  line_item_id      49894 non-null  int64  \n",
      " 11  product_id        49894 non-null  int64  \n",
      " 12  quantity          49894 non-null  int64  \n",
      " 13  line_item_amount  49894 non-null  float64\n",
      " 14  unit_price        49894 non-null  float64\n",
      " 15  promo_item_yn     49894 non-null  object \n",
      "dtypes: float64(2), int64(11), object(3)\n",
      "memory usage: 6.1+ MB\n"
     ]
    }
   ],
   "source": [
    "df1.info()"
   ]
  },
  {
   "cell_type": "code",
   "execution_count": 89,
   "id": "e44e5785",
   "metadata": {},
   "outputs": [
    {
     "data": {
      "text/html": [
       "<div>\n",
       "<style scoped>\n",
       "    .dataframe tbody tr th:only-of-type {\n",
       "        vertical-align: middle;\n",
       "    }\n",
       "\n",
       "    .dataframe tbody tr th {\n",
       "        vertical-align: top;\n",
       "    }\n",
       "\n",
       "    .dataframe thead th {\n",
       "        text-align: right;\n",
       "    }\n",
       "</style>\n",
       "<table border=\"1\" class=\"dataframe\">\n",
       "  <thead>\n",
       "    <tr style=\"text-align: right;\">\n",
       "      <th></th>\n",
       "      <th>customer_id</th>\n",
       "      <th>home_store</th>\n",
       "      <th>customer_first-name</th>\n",
       "      <th>customer_email</th>\n",
       "      <th>customer_since</th>\n",
       "      <th>loyalty_card_number</th>\n",
       "      <th>birthdate</th>\n",
       "      <th>gender</th>\n",
       "      <th>birth_year</th>\n",
       "    </tr>\n",
       "  </thead>\n",
       "  <tbody>\n",
       "    <tr>\n",
       "      <th>0</th>\n",
       "      <td>1</td>\n",
       "      <td>3</td>\n",
       "      <td>Kelly Key</td>\n",
       "      <td>Venus@adipiscing.edu</td>\n",
       "      <td>04/01/2017</td>\n",
       "      <td>908-424-2890</td>\n",
       "      <td>29/05/1950</td>\n",
       "      <td>M</td>\n",
       "      <td>1950</td>\n",
       "    </tr>\n",
       "    <tr>\n",
       "      <th>1</th>\n",
       "      <td>2</td>\n",
       "      <td>3</td>\n",
       "      <td>Clark Schroeder</td>\n",
       "      <td>Nora@fames.gov</td>\n",
       "      <td>07/01/2017</td>\n",
       "      <td>032-732-6308</td>\n",
       "      <td>30/07/1950</td>\n",
       "      <td>M</td>\n",
       "      <td>1950</td>\n",
       "    </tr>\n",
       "    <tr>\n",
       "      <th>2</th>\n",
       "      <td>3</td>\n",
       "      <td>3</td>\n",
       "      <td>Elvis Cardenas</td>\n",
       "      <td>Brianna@tellus.edu</td>\n",
       "      <td>10/01/2017</td>\n",
       "      <td>459-375-9187</td>\n",
       "      <td>30/09/1950</td>\n",
       "      <td>M</td>\n",
       "      <td>1950</td>\n",
       "    </tr>\n",
       "    <tr>\n",
       "      <th>3</th>\n",
       "      <td>4</td>\n",
       "      <td>3</td>\n",
       "      <td>Rafael Estes</td>\n",
       "      <td>Ina@non.gov</td>\n",
       "      <td>13/01/2017</td>\n",
       "      <td>576-640-9226</td>\n",
       "      <td>01/12/1950</td>\n",
       "      <td>M</td>\n",
       "      <td>1950</td>\n",
       "    </tr>\n",
       "    <tr>\n",
       "      <th>4</th>\n",
       "      <td>5</td>\n",
       "      <td>3</td>\n",
       "      <td>Colin Lynn</td>\n",
       "      <td>Dale@Integer.com</td>\n",
       "      <td>15/01/2017</td>\n",
       "      <td>344-674-6569</td>\n",
       "      <td>01/02/1951</td>\n",
       "      <td>M</td>\n",
       "      <td>1951</td>\n",
       "    </tr>\n",
       "  </tbody>\n",
       "</table>\n",
       "</div>"
      ],
      "text/plain": [
       "   customer_id  home_store customer_first-name        customer_email  \\\n",
       "0            1           3           Kelly Key  Venus@adipiscing.edu   \n",
       "1            2           3     Clark Schroeder        Nora@fames.gov   \n",
       "2            3           3      Elvis Cardenas    Brianna@tellus.edu   \n",
       "3            4           3        Rafael Estes           Ina@non.gov   \n",
       "4            5           3          Colin Lynn      Dale@Integer.com   \n",
       "\n",
       "  customer_since loyalty_card_number   birthdate gender  birth_year  \n",
       "0     04/01/2017        908-424-2890  29/05/1950      M        1950  \n",
       "1     07/01/2017        032-732-6308  30/07/1950      M        1950  \n",
       "2     10/01/2017        459-375-9187  30/09/1950      M        1950  \n",
       "3     13/01/2017        576-640-9226  01/12/1950      M        1950  \n",
       "4     15/01/2017        344-674-6569  01/02/1951      M        1951  "
      ]
     },
     "execution_count": 89,
     "metadata": {},
     "output_type": "execute_result"
    }
   ],
   "source": [
    "df2 = pd.read_csv(\"C:\\\\ESTERA\\\\CCT\\\\PROJECT\\\\Data sets\\\\Coffee shop sample data\\\\customer.csv\")\n",
    "df2.head()"
   ]
  },
  {
   "cell_type": "code",
   "execution_count": 159,
   "id": "2715c10c",
   "metadata": {},
   "outputs": [
    {
     "data": {
      "text/html": [
       "<div>\n",
       "<style scoped>\n",
       "    .dataframe tbody tr th:only-of-type {\n",
       "        vertical-align: middle;\n",
       "    }\n",
       "\n",
       "    .dataframe tbody tr th {\n",
       "        vertical-align: top;\n",
       "    }\n",
       "\n",
       "    .dataframe thead th {\n",
       "        text-align: right;\n",
       "    }\n",
       "</style>\n",
       "<table border=\"1\" class=\"dataframe\">\n",
       "  <thead>\n",
       "    <tr style=\"text-align: right;\">\n",
       "      <th></th>\n",
       "      <th>transaction_id</th>\n",
       "      <th>transaction_date</th>\n",
       "      <th>Hours</th>\n",
       "      <th>Minutes</th>\n",
       "      <th>Seconds</th>\n",
       "      <th>sales_outlet_id</th>\n",
       "      <th>staff_id</th>\n",
       "      <th>customer_id</th>\n",
       "      <th>instore_yn</th>\n",
       "      <th>order</th>\n",
       "      <th>...</th>\n",
       "      <th>unit_price</th>\n",
       "      <th>promo_item_yn</th>\n",
       "      <th>home_store</th>\n",
       "      <th>customer_first-name</th>\n",
       "      <th>customer_email</th>\n",
       "      <th>customer_since</th>\n",
       "      <th>loyalty_card_number</th>\n",
       "      <th>birthdate</th>\n",
       "      <th>gender</th>\n",
       "      <th>birth_year</th>\n",
       "    </tr>\n",
       "  </thead>\n",
       "  <tbody>\n",
       "    <tr>\n",
       "      <th>0</th>\n",
       "      <td>7</td>\n",
       "      <td>01/04/2019</td>\n",
       "      <td>12</td>\n",
       "      <td>4</td>\n",
       "      <td>43</td>\n",
       "      <td>3</td>\n",
       "      <td>12</td>\n",
       "      <td>558</td>\n",
       "      <td>N</td>\n",
       "      <td>1</td>\n",
       "      <td>...</td>\n",
       "      <td>2.50</td>\n",
       "      <td>N</td>\n",
       "      <td>3</td>\n",
       "      <td>Melissa Johnson</td>\n",
       "      <td>Luke@eget.net</td>\n",
       "      <td>19/06/2018</td>\n",
       "      <td>816-924-9433</td>\n",
       "      <td>25/02/1983</td>\n",
       "      <td>F</td>\n",
       "      <td>1983</td>\n",
       "    </tr>\n",
       "    <tr>\n",
       "      <th>1</th>\n",
       "      <td>1539</td>\n",
       "      <td>01/04/2019</td>\n",
       "      <td>16</td>\n",
       "      <td>49</td>\n",
       "      <td>47</td>\n",
       "      <td>3</td>\n",
       "      <td>12</td>\n",
       "      <td>558</td>\n",
       "      <td>N</td>\n",
       "      <td>1</td>\n",
       "      <td>...</td>\n",
       "      <td>2.50</td>\n",
       "      <td>N</td>\n",
       "      <td>3</td>\n",
       "      <td>Melissa Johnson</td>\n",
       "      <td>Luke@eget.net</td>\n",
       "      <td>19/06/2018</td>\n",
       "      <td>816-924-9433</td>\n",
       "      <td>25/02/1983</td>\n",
       "      <td>F</td>\n",
       "      <td>1983</td>\n",
       "    </tr>\n",
       "    <tr>\n",
       "      <th>2</th>\n",
       "      <td>2188</td>\n",
       "      <td>01/04/2019</td>\n",
       "      <td>15</td>\n",
       "      <td>1</td>\n",
       "      <td>2</td>\n",
       "      <td>3</td>\n",
       "      <td>17</td>\n",
       "      <td>558</td>\n",
       "      <td>Y</td>\n",
       "      <td>1</td>\n",
       "      <td>...</td>\n",
       "      <td>2.50</td>\n",
       "      <td>N</td>\n",
       "      <td>3</td>\n",
       "      <td>Melissa Johnson</td>\n",
       "      <td>Luke@eget.net</td>\n",
       "      <td>19/06/2018</td>\n",
       "      <td>816-924-9433</td>\n",
       "      <td>25/02/1983</td>\n",
       "      <td>F</td>\n",
       "      <td>1983</td>\n",
       "    </tr>\n",
       "    <tr>\n",
       "      <th>3</th>\n",
       "      <td>78</td>\n",
       "      <td>02/04/2019</td>\n",
       "      <td>15</td>\n",
       "      <td>24</td>\n",
       "      <td>16</td>\n",
       "      <td>3</td>\n",
       "      <td>17</td>\n",
       "      <td>558</td>\n",
       "      <td>N</td>\n",
       "      <td>1</td>\n",
       "      <td>...</td>\n",
       "      <td>3.75</td>\n",
       "      <td>N</td>\n",
       "      <td>3</td>\n",
       "      <td>Melissa Johnson</td>\n",
       "      <td>Luke@eget.net</td>\n",
       "      <td>19/06/2018</td>\n",
       "      <td>816-924-9433</td>\n",
       "      <td>25/02/1983</td>\n",
       "      <td>F</td>\n",
       "      <td>1983</td>\n",
       "    </tr>\n",
       "    <tr>\n",
       "      <th>4</th>\n",
       "      <td>14</td>\n",
       "      <td>03/04/2019</td>\n",
       "      <td>19</td>\n",
       "      <td>45</td>\n",
       "      <td>56</td>\n",
       "      <td>3</td>\n",
       "      <td>12</td>\n",
       "      <td>558</td>\n",
       "      <td>N</td>\n",
       "      <td>1</td>\n",
       "      <td>...</td>\n",
       "      <td>3.00</td>\n",
       "      <td>N</td>\n",
       "      <td>3</td>\n",
       "      <td>Melissa Johnson</td>\n",
       "      <td>Luke@eget.net</td>\n",
       "      <td>19/06/2018</td>\n",
       "      <td>816-924-9433</td>\n",
       "      <td>25/02/1983</td>\n",
       "      <td>F</td>\n",
       "      <td>1983</td>\n",
       "    </tr>\n",
       "  </tbody>\n",
       "</table>\n",
       "<p>5 rows × 24 columns</p>\n",
       "</div>"
      ],
      "text/plain": [
       "   transaction_id transaction_date  Hours  Minutes  Seconds  sales_outlet_id  \\\n",
       "0               7       01/04/2019     12        4       43                3   \n",
       "1            1539       01/04/2019     16       49       47                3   \n",
       "2            2188       01/04/2019     15        1        2                3   \n",
       "3              78       02/04/2019     15       24       16                3   \n",
       "4              14       03/04/2019     19       45       56                3   \n",
       "\n",
       "   staff_id  customer_id instore_yn  order  ...  unit_price  promo_item_yn  \\\n",
       "0        12          558          N      1  ...        2.50              N   \n",
       "1        12          558          N      1  ...        2.50              N   \n",
       "2        17          558          Y      1  ...        2.50              N   \n",
       "3        17          558          N      1  ...        3.75              N   \n",
       "4        12          558          N      1  ...        3.00              N   \n",
       "\n",
       "   home_store  customer_first-name  customer_email customer_since  \\\n",
       "0           3      Melissa Johnson   Luke@eget.net     19/06/2018   \n",
       "1           3      Melissa Johnson   Luke@eget.net     19/06/2018   \n",
       "2           3      Melissa Johnson   Luke@eget.net     19/06/2018   \n",
       "3           3      Melissa Johnson   Luke@eget.net     19/06/2018   \n",
       "4           3      Melissa Johnson   Luke@eget.net     19/06/2018   \n",
       "\n",
       "   loyalty_card_number   birthdate gender birth_year  \n",
       "0         816-924-9433  25/02/1983      F       1983  \n",
       "1         816-924-9433  25/02/1983      F       1983  \n",
       "2         816-924-9433  25/02/1983      F       1983  \n",
       "3         816-924-9433  25/02/1983      F       1983  \n",
       "4         816-924-9433  25/02/1983      F       1983  \n",
       "\n",
       "[5 rows x 24 columns]"
      ]
     },
     "execution_count": 159,
     "metadata": {},
     "output_type": "execute_result"
    }
   ],
   "source": [
    "df = pd.merge(df1, df2, on='customer_id')\n",
    "df.head()"
   ]
  },
  {
   "cell_type": "markdown",
   "id": "2ecd73f0",
   "metadata": {},
   "source": [
    "# EDA"
   ]
  },
  {
   "cell_type": "code",
   "execution_count": 116,
   "id": "3eaf0028",
   "metadata": {
    "scrolled": true
   },
   "outputs": [],
   "source": [
    "#df.isnull().sum()"
   ]
  },
  {
   "cell_type": "code",
   "execution_count": 117,
   "id": "1f0d0cd6",
   "metadata": {
    "scrolled": true
   },
   "outputs": [
    {
     "name": "stdout",
     "output_type": "stream",
     "text": [
      "<class 'pandas.core.frame.DataFrame'>\n",
      "Int64Index: 24852 entries, 0 to 24851\n",
      "Data columns (total 24 columns):\n",
      " #   Column               Non-Null Count  Dtype  \n",
      "---  ------               --------------  -----  \n",
      " 0   transaction_id       24852 non-null  int64  \n",
      " 1   transaction_date     24852 non-null  object \n",
      " 2   Hours                24852 non-null  int64  \n",
      " 3   Minutes              24852 non-null  int64  \n",
      " 4   Seconds              24852 non-null  int64  \n",
      " 5   sales_outlet_id      24852 non-null  int64  \n",
      " 6   staff_id             24852 non-null  int64  \n",
      " 7   customer_id          24852 non-null  int64  \n",
      " 8   instore_yn           24852 non-null  object \n",
      " 9   order                24852 non-null  int64  \n",
      " 10  line_item_id         24852 non-null  int64  \n",
      " 11  product_id           24852 non-null  int64  \n",
      " 12  quantity             24852 non-null  int64  \n",
      " 13  line_item_amount     24852 non-null  float64\n",
      " 14  unit_price           24852 non-null  float64\n",
      " 15  promo_item_yn        24852 non-null  object \n",
      " 16  home_store           24852 non-null  int64  \n",
      " 17  customer_first-name  24852 non-null  object \n",
      " 18  customer_email       24852 non-null  object \n",
      " 19  customer_since       24852 non-null  object \n",
      " 20  loyalty_card_number  24852 non-null  object \n",
      " 21  birthdate            24852 non-null  object \n",
      " 22  gender               24852 non-null  object \n",
      " 23  birth_year           24852 non-null  int64  \n",
      "dtypes: float64(2), int64(13), object(9)\n",
      "memory usage: 4.7+ MB\n"
     ]
    }
   ],
   "source": [
    "df.info()"
   ]
  },
  {
   "cell_type": "markdown",
   "id": "f3e47ca0",
   "metadata": {},
   "source": [
    "### Data transformation"
   ]
  },
  {
   "cell_type": "code",
   "execution_count": 160,
   "id": "02cb785d",
   "metadata": {},
   "outputs": [],
   "source": [
    "# Gender maping\n",
    "gender_mapping = {'F': 1, 'M': 0}\n",
    "df['gender'] = df['gender'].map(gender_mapping)\n",
    "\n",
    "YN_mapping = {'Y': 1, 'N': 0}\n",
    "df['promo_item_yn'] = df['promo_item_yn'].map(YN_mapping)\n",
    "df['instore_yn'] = df['instore_yn'].map(YN_mapping)\n",
    "\n",
    "df['transaction_date'] = pd.to_datetime(df['transaction_date'], format='%d/%m/%Y')\n",
    "df['birthdate'] = pd.to_datetime(df['birthdate'], format='%d/%m/%Y')\n",
    "df['customer_since'] = pd.to_datetime(df['customer_since'], format='%d/%m/%Y')"
   ]
  },
  {
   "cell_type": "code",
   "execution_count": 148,
   "id": "f753ef68",
   "metadata": {},
   "outputs": [
    {
     "data": {
      "text/html": [
       "<div>\n",
       "<style scoped>\n",
       "    .dataframe tbody tr th:only-of-type {\n",
       "        vertical-align: middle;\n",
       "    }\n",
       "\n",
       "    .dataframe tbody tr th {\n",
       "        vertical-align: top;\n",
       "    }\n",
       "\n",
       "    .dataframe thead th {\n",
       "        text-align: right;\n",
       "    }\n",
       "</style>\n",
       "<table border=\"1\" class=\"dataframe\">\n",
       "  <thead>\n",
       "    <tr style=\"text-align: right;\">\n",
       "      <th></th>\n",
       "      <th>transaction_id</th>\n",
       "      <th>transaction_date</th>\n",
       "      <th>Hours</th>\n",
       "      <th>Minutes</th>\n",
       "      <th>Seconds</th>\n",
       "      <th>sales_outlet_id</th>\n",
       "      <th>staff_id</th>\n",
       "      <th>customer_id</th>\n",
       "      <th>instore_yn</th>\n",
       "      <th>order</th>\n",
       "      <th>...</th>\n",
       "      <th>unit_price</th>\n",
       "      <th>promo_item_yn</th>\n",
       "      <th>home_store</th>\n",
       "      <th>customer_first-name</th>\n",
       "      <th>customer_email</th>\n",
       "      <th>customer_since</th>\n",
       "      <th>loyalty_card_number</th>\n",
       "      <th>birthdate</th>\n",
       "      <th>gender</th>\n",
       "      <th>birth_year</th>\n",
       "    </tr>\n",
       "  </thead>\n",
       "  <tbody>\n",
       "    <tr>\n",
       "      <th>0</th>\n",
       "      <td>7</td>\n",
       "      <td>2019-04-01</td>\n",
       "      <td>12</td>\n",
       "      <td>4</td>\n",
       "      <td>43</td>\n",
       "      <td>3</td>\n",
       "      <td>12</td>\n",
       "      <td>558</td>\n",
       "      <td>0.0</td>\n",
       "      <td>1</td>\n",
       "      <td>...</td>\n",
       "      <td>2.50</td>\n",
       "      <td>0</td>\n",
       "      <td>3</td>\n",
       "      <td>Melissa Johnson</td>\n",
       "      <td>Luke@eget.net</td>\n",
       "      <td>2018-06-19</td>\n",
       "      <td>816-924-9433</td>\n",
       "      <td>1983-02-25</td>\n",
       "      <td>1.0</td>\n",
       "      <td>1983</td>\n",
       "    </tr>\n",
       "    <tr>\n",
       "      <th>1</th>\n",
       "      <td>1539</td>\n",
       "      <td>2019-04-01</td>\n",
       "      <td>16</td>\n",
       "      <td>49</td>\n",
       "      <td>47</td>\n",
       "      <td>3</td>\n",
       "      <td>12</td>\n",
       "      <td>558</td>\n",
       "      <td>0.0</td>\n",
       "      <td>1</td>\n",
       "      <td>...</td>\n",
       "      <td>2.50</td>\n",
       "      <td>0</td>\n",
       "      <td>3</td>\n",
       "      <td>Melissa Johnson</td>\n",
       "      <td>Luke@eget.net</td>\n",
       "      <td>2018-06-19</td>\n",
       "      <td>816-924-9433</td>\n",
       "      <td>1983-02-25</td>\n",
       "      <td>1.0</td>\n",
       "      <td>1983</td>\n",
       "    </tr>\n",
       "    <tr>\n",
       "      <th>2</th>\n",
       "      <td>2188</td>\n",
       "      <td>2019-04-01</td>\n",
       "      <td>15</td>\n",
       "      <td>1</td>\n",
       "      <td>2</td>\n",
       "      <td>3</td>\n",
       "      <td>17</td>\n",
       "      <td>558</td>\n",
       "      <td>1.0</td>\n",
       "      <td>1</td>\n",
       "      <td>...</td>\n",
       "      <td>2.50</td>\n",
       "      <td>0</td>\n",
       "      <td>3</td>\n",
       "      <td>Melissa Johnson</td>\n",
       "      <td>Luke@eget.net</td>\n",
       "      <td>2018-06-19</td>\n",
       "      <td>816-924-9433</td>\n",
       "      <td>1983-02-25</td>\n",
       "      <td>1.0</td>\n",
       "      <td>1983</td>\n",
       "    </tr>\n",
       "    <tr>\n",
       "      <th>3</th>\n",
       "      <td>78</td>\n",
       "      <td>2019-04-02</td>\n",
       "      <td>15</td>\n",
       "      <td>24</td>\n",
       "      <td>16</td>\n",
       "      <td>3</td>\n",
       "      <td>17</td>\n",
       "      <td>558</td>\n",
       "      <td>0.0</td>\n",
       "      <td>1</td>\n",
       "      <td>...</td>\n",
       "      <td>3.75</td>\n",
       "      <td>0</td>\n",
       "      <td>3</td>\n",
       "      <td>Melissa Johnson</td>\n",
       "      <td>Luke@eget.net</td>\n",
       "      <td>2018-06-19</td>\n",
       "      <td>816-924-9433</td>\n",
       "      <td>1983-02-25</td>\n",
       "      <td>1.0</td>\n",
       "      <td>1983</td>\n",
       "    </tr>\n",
       "    <tr>\n",
       "      <th>4</th>\n",
       "      <td>14</td>\n",
       "      <td>2019-04-03</td>\n",
       "      <td>19</td>\n",
       "      <td>45</td>\n",
       "      <td>56</td>\n",
       "      <td>3</td>\n",
       "      <td>12</td>\n",
       "      <td>558</td>\n",
       "      <td>0.0</td>\n",
       "      <td>1</td>\n",
       "      <td>...</td>\n",
       "      <td>3.00</td>\n",
       "      <td>0</td>\n",
       "      <td>3</td>\n",
       "      <td>Melissa Johnson</td>\n",
       "      <td>Luke@eget.net</td>\n",
       "      <td>2018-06-19</td>\n",
       "      <td>816-924-9433</td>\n",
       "      <td>1983-02-25</td>\n",
       "      <td>1.0</td>\n",
       "      <td>1983</td>\n",
       "    </tr>\n",
       "  </tbody>\n",
       "</table>\n",
       "<p>5 rows × 24 columns</p>\n",
       "</div>"
      ],
      "text/plain": [
       "   transaction_id transaction_date  Hours  Minutes  Seconds  sales_outlet_id  \\\n",
       "0               7       2019-04-01     12        4       43                3   \n",
       "1            1539       2019-04-01     16       49       47                3   \n",
       "2            2188       2019-04-01     15        1        2                3   \n",
       "3              78       2019-04-02     15       24       16                3   \n",
       "4              14       2019-04-03     19       45       56                3   \n",
       "\n",
       "   staff_id  customer_id  instore_yn  order  ...  unit_price  promo_item_yn  \\\n",
       "0        12          558         0.0      1  ...        2.50              0   \n",
       "1        12          558         0.0      1  ...        2.50              0   \n",
       "2        17          558         1.0      1  ...        2.50              0   \n",
       "3        17          558         0.0      1  ...        3.75              0   \n",
       "4        12          558         0.0      1  ...        3.00              0   \n",
       "\n",
       "   home_store  customer_first-name  customer_email  customer_since  \\\n",
       "0           3      Melissa Johnson   Luke@eget.net      2018-06-19   \n",
       "1           3      Melissa Johnson   Luke@eget.net      2018-06-19   \n",
       "2           3      Melissa Johnson   Luke@eget.net      2018-06-19   \n",
       "3           3      Melissa Johnson   Luke@eget.net      2018-06-19   \n",
       "4           3      Melissa Johnson   Luke@eget.net      2018-06-19   \n",
       "\n",
       "   loyalty_card_number  birthdate gender birth_year  \n",
       "0         816-924-9433 1983-02-25    1.0       1983  \n",
       "1         816-924-9433 1983-02-25    1.0       1983  \n",
       "2         816-924-9433 1983-02-25    1.0       1983  \n",
       "3         816-924-9433 1983-02-25    1.0       1983  \n",
       "4         816-924-9433 1983-02-25    1.0       1983  \n",
       "\n",
       "[5 rows x 24 columns]"
      ]
     },
     "execution_count": 148,
     "metadata": {},
     "output_type": "execute_result"
    }
   ],
   "source": [
    "df.head()"
   ]
  },
  {
   "cell_type": "code",
   "execution_count": 161,
   "id": "7ebec16d",
   "metadata": {},
   "outputs": [],
   "source": [
    "columns_to_drop = ['customer_first-name', 'customer_email', 'loyalty_card_number']\n",
    "df = df.drop(columns=columns_to_drop)"
   ]
  },
  {
   "cell_type": "code",
   "execution_count": 150,
   "id": "eeeb636b",
   "metadata": {
    "scrolled": true
   },
   "outputs": [
    {
     "name": "stdout",
     "output_type": "stream",
     "text": [
      "<class 'pandas.core.frame.DataFrame'>\n",
      "Int64Index: 24852 entries, 0 to 24851\n",
      "Data columns (total 21 columns):\n",
      " #   Column            Non-Null Count  Dtype         \n",
      "---  ------            --------------  -----         \n",
      " 0   transaction_id    24852 non-null  int64         \n",
      " 1   transaction_date  24852 non-null  datetime64[ns]\n",
      " 2   Hours             24852 non-null  int64         \n",
      " 3   Minutes           24852 non-null  int64         \n",
      " 4   Seconds           24852 non-null  int64         \n",
      " 5   sales_outlet_id   24852 non-null  int64         \n",
      " 6   staff_id          24852 non-null  int64         \n",
      " 7   customer_id       24852 non-null  int64         \n",
      " 8   instore_yn        24809 non-null  float64       \n",
      " 9   order             24852 non-null  int64         \n",
      " 10  line_item_id      24852 non-null  int64         \n",
      " 11  product_id        24852 non-null  int64         \n",
      " 12  quantity          24852 non-null  int64         \n",
      " 13  line_item_amount  24852 non-null  float64       \n",
      " 14  unit_price        24852 non-null  float64       \n",
      " 15  promo_item_yn     24852 non-null  int64         \n",
      " 16  home_store        24852 non-null  int64         \n",
      " 17  customer_since    24852 non-null  datetime64[ns]\n",
      " 18  birthdate         24852 non-null  datetime64[ns]\n",
      " 19  gender            19073 non-null  float64       \n",
      " 20  birth_year        24852 non-null  int64         \n",
      "dtypes: datetime64[ns](3), float64(4), int64(14)\n",
      "memory usage: 4.2 MB\n"
     ]
    }
   ],
   "source": [
    "df.info()"
   ]
  },
  {
   "cell_type": "code",
   "execution_count": 151,
   "id": "32829af0",
   "metadata": {
    "scrolled": true
   },
   "outputs": [
    {
     "name": "stderr",
     "output_type": "stream",
     "text": [
      "\n",
      "KeyboardInterrupt\n",
      "\n"
     ]
    }
   ],
   "source": [
    "#sns.pairplot(df)\n",
    "#plt.show()"
   ]
  },
  {
   "cell_type": "code",
   "execution_count": 127,
   "id": "d385f1d7",
   "metadata": {},
   "outputs": [
    {
     "data": {
      "image/png": "[encoded data removed]",
      "text/plain": [
       "<Figure size 2500x2000 with 2 Axes>"
      ]
     },
     "metadata": {},
     "output_type": "display_data"
    }
   ],
   "source": [
    "# plotig a heatmap to see a correlation between variables\n",
    "#corrmat = df.corr()\n",
    "\n",
    "# setting mask for upper triangle\n",
    "#mask = np.triu(np.ones_like(corrmat, dtype=bool))\n",
    "\n",
    "# setting colour scheme:  hot-cold \n",
    "# cmap = sns.diverging_palette(240, 15, as_cmap=True)\n",
    "#cmap = 'coolwarm'\n",
    "\n",
    "#plotting graph\n",
    "#f, ax = plt.subplots(figsize=(25, 20))\n",
    "#sns.heatmap(corrmat, square = True, mask=mask, cmap=cmap,\n",
    "            vmax=1, vmin=-1, center=0,\n",
    "            annot = True, annot_kws = {'size': 12},\n",
    "            linewidths=.5, cbar_kws={\"shrink\": .5})\n",
    "#plt.show()"
   ]
  },
  {
   "cell_type": "code",
   "execution_count": 162,
   "id": "e43103d8",
   "metadata": {},
   "outputs": [],
   "source": [
    "transaction_counts = df.groupby('transaction_id').size().reset_index(name='row_count')"
   ]
  },
  {
   "cell_type": "code",
   "execution_count": 163,
   "id": "cac39b94",
   "metadata": {},
   "outputs": [
    {
     "data": {
      "text/html": [
       "<div>\n",
       "<style scoped>\n",
       "    .dataframe tbody tr th:only-of-type {\n",
       "        vertical-align: middle;\n",
       "    }\n",
       "\n",
       "    .dataframe tbody tr th {\n",
       "        vertical-align: top;\n",
       "    }\n",
       "\n",
       "    .dataframe thead th {\n",
       "        text-align: right;\n",
       "    }\n",
       "</style>\n",
       "<table border=\"1\" class=\"dataframe\">\n",
       "  <thead>\n",
       "    <tr style=\"text-align: right;\">\n",
       "      <th></th>\n",
       "      <th>transaction_id</th>\n",
       "      <th>row_count</th>\n",
       "    </tr>\n",
       "  </thead>\n",
       "  <tbody>\n",
       "    <tr>\n",
       "      <th>0</th>\n",
       "      <td>1</td>\n",
       "      <td>33</td>\n",
       "    </tr>\n",
       "    <tr>\n",
       "      <th>1</th>\n",
       "      <td>2</td>\n",
       "      <td>31</td>\n",
       "    </tr>\n",
       "    <tr>\n",
       "      <th>2</th>\n",
       "      <td>3</td>\n",
       "      <td>30</td>\n",
       "    </tr>\n",
       "    <tr>\n",
       "      <th>3</th>\n",
       "      <td>4</td>\n",
       "      <td>32</td>\n",
       "    </tr>\n",
       "    <tr>\n",
       "      <th>4</th>\n",
       "      <td>5</td>\n",
       "      <td>32</td>\n",
       "    </tr>\n",
       "    <tr>\n",
       "      <th>...</th>\n",
       "      <td>...</td>\n",
       "      <td>...</td>\n",
       "    </tr>\n",
       "    <tr>\n",
       "      <th>3252</th>\n",
       "      <td>4184</td>\n",
       "      <td>1</td>\n",
       "    </tr>\n",
       "    <tr>\n",
       "      <th>3253</th>\n",
       "      <td>4188</td>\n",
       "      <td>1</td>\n",
       "    </tr>\n",
       "    <tr>\n",
       "      <th>3254</th>\n",
       "      <td>4191</td>\n",
       "      <td>1</td>\n",
       "    </tr>\n",
       "    <tr>\n",
       "      <th>3255</th>\n",
       "      <td>4200</td>\n",
       "      <td>1</td>\n",
       "    </tr>\n",
       "    <tr>\n",
       "      <th>3256</th>\n",
       "      <td>4203</td>\n",
       "      <td>1</td>\n",
       "    </tr>\n",
       "  </tbody>\n",
       "</table>\n",
       "<p>3257 rows × 2 columns</p>\n",
       "</div>"
      ],
      "text/plain": [
       "      transaction_id  row_count\n",
       "0                  1         33\n",
       "1                  2         31\n",
       "2                  3         30\n",
       "3                  4         32\n",
       "4                  5         32\n",
       "...              ...        ...\n",
       "3252            4184          1\n",
       "3253            4188          1\n",
       "3254            4191          1\n",
       "3255            4200          1\n",
       "3256            4203          1\n",
       "\n",
       "[3257 rows x 2 columns]"
      ]
     },
     "execution_count": 163,
     "metadata": {},
     "output_type": "execute_result"
    }
   ],
   "source": [
    "transaction_counts"
   ]
  },
  {
   "cell_type": "code",
   "execution_count": 164,
   "id": "4c8630d5",
   "metadata": {},
   "outputs": [
    {
     "data": {
      "text/html": [
       "<div>\n",
       "<style scoped>\n",
       "    .dataframe tbody tr th:only-of-type {\n",
       "        vertical-align: middle;\n",
       "    }\n",
       "\n",
       "    .dataframe tbody tr th {\n",
       "        vertical-align: top;\n",
       "    }\n",
       "\n",
       "    .dataframe thead th {\n",
       "        text-align: right;\n",
       "    }\n",
       "</style>\n",
       "<table border=\"1\" class=\"dataframe\">\n",
       "  <thead>\n",
       "    <tr style=\"text-align: right;\">\n",
       "      <th></th>\n",
       "      <th>transaction_id</th>\n",
       "      <th>row_count</th>\n",
       "    </tr>\n",
       "  </thead>\n",
       "  <tbody>\n",
       "    <tr>\n",
       "      <th>0</th>\n",
       "      <td>1</td>\n",
       "      <td>33</td>\n",
       "    </tr>\n",
       "    <tr>\n",
       "      <th>1</th>\n",
       "      <td>2</td>\n",
       "      <td>31</td>\n",
       "    </tr>\n",
       "    <tr>\n",
       "      <th>2</th>\n",
       "      <td>3</td>\n",
       "      <td>30</td>\n",
       "    </tr>\n",
       "    <tr>\n",
       "      <th>3</th>\n",
       "      <td>4</td>\n",
       "      <td>32</td>\n",
       "    </tr>\n",
       "    <tr>\n",
       "      <th>4</th>\n",
       "      <td>5</td>\n",
       "      <td>32</td>\n",
       "    </tr>\n",
       "    <tr>\n",
       "      <th>...</th>\n",
       "      <td>...</td>\n",
       "      <td>...</td>\n",
       "    </tr>\n",
       "    <tr>\n",
       "      <th>3219</th>\n",
       "      <td>4073</td>\n",
       "      <td>2</td>\n",
       "    </tr>\n",
       "    <tr>\n",
       "      <th>3233</th>\n",
       "      <td>4105</td>\n",
       "      <td>2</td>\n",
       "    </tr>\n",
       "    <tr>\n",
       "      <th>3240</th>\n",
       "      <td>4124</td>\n",
       "      <td>2</td>\n",
       "    </tr>\n",
       "    <tr>\n",
       "      <th>3243</th>\n",
       "      <td>4135</td>\n",
       "      <td>2</td>\n",
       "    </tr>\n",
       "    <tr>\n",
       "      <th>3244</th>\n",
       "      <td>4136</td>\n",
       "      <td>2</td>\n",
       "    </tr>\n",
       "  </tbody>\n",
       "</table>\n",
       "<p>2723 rows × 2 columns</p>\n",
       "</div>"
      ],
      "text/plain": [
       "      transaction_id  row_count\n",
       "0                  1         33\n",
       "1                  2         31\n",
       "2                  3         30\n",
       "3                  4         32\n",
       "4                  5         32\n",
       "...              ...        ...\n",
       "3219            4073          2\n",
       "3233            4105          2\n",
       "3240            4124          2\n",
       "3243            4135          2\n",
       "3244            4136          2\n",
       "\n",
       "[2723 rows x 2 columns]"
      ]
     },
     "execution_count": 164,
     "metadata": {},
     "output_type": "execute_result"
    }
   ],
   "source": [
    "filtered_transaction_counts = transaction_counts[transaction_counts['row_count'] >= 2]\n",
    "filtered_transaction_counts"
   ]
  },
  {
   "cell_type": "markdown",
   "id": "6884f2f9",
   "metadata": {},
   "source": [
    "#### There are very small percentage of single item bought"
   ]
  },
  {
   "cell_type": "code",
   "execution_count": 135,
   "id": "567eb0e1",
   "metadata": {},
   "outputs": [
    {
     "data": {
      "application/vnd.plotly.v1+json": {
       "config": {
        "plotlyServerURL": "https://plot.ly"
       },
       "data": [
        {
         "alignmentgroup": "True",
         "bingroup": "x",
         "hovertemplate": "row_count=%{x}<br>count=%{y}<extra></extra>",
         "legendgroup": "",
         "marker": {
          "color": "#636efa",
          "pattern": {
           "shape": ""
          }
         },
         "name": "",
         "offsetgroup": "",
         "orientation": "v",
         "showlegend": false,
         "type": "histogram",
         "x": [
          33,
          31,
          30,
          32,
          32,
          19,
          26,
          25,
          20,
          29,
          34,
          31,
          26,
          23,
          31,
          28,
          34,
          28,
          30,
          33,
          28,
          23,
          39,
          21,
          26,
          19,
          31,
          27,
          30,
          24,
          29,
          21,
          36,
          25,
          22,
          33,
          29,
          33,
          36,
          26,
          26,
          26,
          25,
          26,
          33,
          24,
          30,
          32,
          33,
          36,
          20,
          23,
          22,
          29,
          23,
          25,
          20,
          28,
          24,
          37,
          27,
          35,
          26,
          35,
          24,
          28,
          26,
          20,
          28,
          23,
          33,
          25,
          31,
          28,
          22,
          22,
          18,
          31,
          27,
          33,
          17,
          20,
          27,
          24,
          24,
          29,
          37,
          27,
          30,
          28,
          32,
          25,
          34,
          29,
          17,
          26,
          32,
          24,
          31,
          31,
          33,
          23,
          29,
          30,
          27,
          21,
          32,
          35,
          25,
          23,
          27,
          26,
          27,
          24,
          31,
          27,
          29,
          33,
          33,
          29,
          29,
          23,
          30,
          20,
          27,
          30,
          27,
          25,
          28,
          34,
          31,
          27,
          30,
          23,
          24,
          29,
          23,
          19,
          38,
          24,
          24,
          22,
          28,
          22,
          29,
          26,
          28,
          25,
          21,
          22,
          18,
          32,
          29,
          32,
          31,
          34,
          34,
          22,
          28,
          31,
          30,
          35,
          28,
          24,
          28,
          29,
          24,
          36,
          27,
          28,
          26,
          31,
          27,
          33,
          25,
          25,
          34,
          28,
          31,
          34,
          25,
          22,
          21,
          33,
          32,
          32,
          33,
          23,
          22,
          24,
          27,
          18,
          31,
          26,
          23,
          28,
          25,
          25,
          30,
          30,
          32,
          27,
          29,
          22,
          27,
          26,
          28,
          30,
          23,
          29,
          25,
          25,
          19,
          25,
          29,
          27,
          24,
          26,
          28,
          32,
          28,
          26,
          27,
          34,
          27,
          36,
          20,
          28,
          30,
          25,
          29,
          29,
          30,
          26,
          22,
          31,
          30,
          22,
          22,
          29,
          23,
          18,
          27,
          26,
          27,
          27,
          32,
          24,
          33,
          27,
          27,
          32,
          22,
          37,
          26,
          21,
          23,
          25,
          25,
          25,
          23,
          21,
          27,
          25,
          30,
          21,
          27,
          25,
          30,
          33,
          25,
          23,
          19,
          30,
          29,
          30,
          26,
          31,
          25,
          27,
          27,
          29,
          30,
          30,
          24,
          18,
          25,
          29,
          24,
          26,
          29,
          25,
          29,
          31,
          26,
          32,
          34,
          23,
          39,
          21,
          19,
          23,
          25,
          26,
          31,
          27,
          26,
          21,
          28,
          23,
          29,
          30,
          26,
          29,
          20,
          39,
          25,
          25,
          30,
          29,
          26,
          33,
          20,
          29,
          26,
          26,
          26,
          24,
          24,
          29,
          27,
          28,
          29,
          25,
          24,
          34,
          33,
          26,
          27,
          24,
          24,
          31,
          27,
          22,
          21,
          31,
          20,
          26,
          28,
          25,
          30,
          28,
          25,
          28,
          28,
          26,
          20,
          22,
          21,
          16,
          25,
          21,
          26,
          24,
          24,
          25,
          23,
          23,
          25,
          22,
          22,
          21,
          17,
          24,
          25,
          20,
          25,
          32,
          14,
          24,
          30,
          25,
          28,
          18,
          21,
          24,
          25,
          20,
          29,
          30,
          22,
          24,
          21,
          22,
          26,
          17,
          14,
          25,
          21,
          15,
          17,
          25,
          26,
          23,
          20,
          35,
          22,
          18,
          22,
          21,
          16,
          23,
          24,
          17,
          20,
          16,
          24,
          16,
          18,
          18,
          21,
          21,
          18,
          18,
          25,
          26,
          27,
          19,
          21,
          16,
          16,
          23,
          14,
          19,
          23,
          15,
          17,
          18,
          17,
          17,
          19,
          16,
          11,
          15,
          18,
          20,
          20,
          21,
          17,
          17,
          14,
          15,
          14,
          13,
          15,
          14,
          14,
          12,
          11,
          10,
          11,
          15,
          13,
          8,
          12,
          10,
          15,
          11,
          7,
          15,
          17,
          10,
          10,
          8,
          9,
          9,
          14,
          12,
          12,
          9,
          11,
          8,
          18,
          12,
          10,
          10,
          10,
          12,
          14,
          8,
          5,
          18,
          17,
          13,
          9,
          5,
          12,
          11,
          8,
          9,
          8,
          9,
          15,
          7,
          10,
          11,
          7,
          8,
          11,
          9,
          6,
          10,
          11,
          11,
          10,
          5,
          9,
          7,
          10,
          7,
          8,
          8,
          7,
          6,
          13,
          6,
          6,
          7,
          7,
          9,
          9,
          8,
          5,
          6,
          9,
          10,
          6,
          7,
          5,
          12,
          8,
          8,
          5,
          8,
          8,
          11,
          9,
          7,
          9,
          5,
          8,
          11,
          7,
          8,
          7,
          9,
          11,
          5,
          12,
          13,
          6,
          9,
          8,
          7,
          7,
          10,
          10,
          7,
          6,
          8,
          6,
          6,
          6,
          10,
          12,
          8,
          12,
          8,
          5,
          8,
          10,
          11,
          11,
          7,
          10,
          8,
          11,
          8,
          8,
          8,
          11,
          9,
          8,
          12,
          13,
          11,
          10,
          9,
          6,
          9,
          7,
          6,
          8,
          9,
          9,
          5,
          7,
          8,
          10,
          9,
          9,
          7,
          6,
          11,
          6,
          9,
          8,
          5,
          6,
          11,
          9,
          5,
          8,
          10,
          8,
          11,
          7,
          6,
          13,
          9,
          12,
          8,
          7,
          8,
          14,
          7,
          11,
          7,
          7,
          11,
          10,
          7,
          5,
          8,
          9,
          8,
          6,
          7,
          5,
          8,
          6,
          15,
          7,
          4,
          11,
          7,
          10,
          11,
          12,
          7,
          6,
          10,
          8,
          12,
          12,
          10,
          8,
          8,
          11,
          7,
          9,
          8,
          7,
          6,
          8,
          7,
          10,
          6,
          7,
          9,
          8,
          12,
          7,
          6,
          7,
          6,
          8,
          13,
          5,
          8,
          9,
          10,
          7,
          6,
          8,
          10,
          10,
          8,
          9,
          7,
          8,
          10,
          6,
          7,
          7,
          7,
          13,
          8,
          9,
          7,
          7,
          9,
          8,
          12,
          7,
          7,
          8,
          5,
          7,
          10,
          5,
          5,
          11,
          5,
          6,
          6,
          8,
          7,
          10,
          13,
          7,
          6,
          7,
          5,
          11,
          8,
          7,
          9,
          11,
          6,
          5,
          5,
          6,
          9,
          10,
          5,
          12,
          6,
          10,
          13,
          8,
          9,
          6,
          7,
          12,
          12,
          7,
          8,
          7,
          9,
          4,
          4,
          9,
          8,
          8,
          7,
          6,
          6,
          7,
          6,
          9,
          4,
          6,
          5,
          6,
          8,
          6,
          6,
          8,
          5,
          6,
          5,
          4,
          5,
          8,
          4,
          6,
          5,
          6,
          5,
          6,
          9,
          8,
          6,
          5,
          8,
          9,
          3,
          5,
          5,
          4,
          4,
          5,
          4,
          8,
          10,
          5,
          5,
          6,
          6,
          7,
          10,
          4,
          6,
          7,
          6,
          6,
          5,
          6,
          6,
          8,
          4,
          5,
          5,
          7,
          4,
          11,
          4,
          4,
          4,
          7,
          7,
          3,
          4,
          4,
          5,
          4,
          7,
          6,
          8,
          5,
          8,
          4,
          5,
          6,
          5,
          4,
          5,
          5,
          6,
          4,
          7,
          8,
          8,
          9,
          6,
          6,
          9,
          5,
          5,
          6,
          4,
          5,
          7,
          8,
          6,
          5,
          7,
          4,
          7,
          6,
          6,
          8,
          6,
          7,
          6,
          5,
          5,
          4,
          5,
          3,
          6,
          5,
          5,
          7,
          7,
          4,
          4,
          9,
          6,
          5,
          3,
          5,
          4,
          4,
          5,
          3,
          6,
          7,
          7,
          5,
          6,
          6,
          4,
          8,
          5,
          7,
          4,
          7,
          6,
          7,
          7,
          5,
          7,
          8,
          7,
          7,
          11,
          7,
          8,
          4,
          6,
          7,
          5,
          4,
          4,
          4,
          5,
          4,
          5,
          5,
          4,
          4,
          7,
          7,
          7,
          9,
          6,
          6,
          6,
          7,
          3,
          10,
          6,
          6,
          7,
          6,
          5,
          5,
          7,
          7,
          6,
          8,
          7,
          3,
          5,
          8,
          5,
          7,
          6,
          7,
          4,
          7,
          5,
          5,
          7,
          8,
          3,
          4,
          4,
          6,
          5,
          5,
          7,
          10,
          3,
          8,
          9,
          10,
          3,
          4,
          6,
          6,
          6,
          7,
          5,
          4,
          5,
          6,
          5,
          7,
          6,
          5,
          3,
          8,
          8,
          5,
          12,
          6,
          3,
          6,
          4,
          6,
          7,
          7,
          5,
          8,
          5,
          11,
          5,
          8,
          6,
          5,
          6,
          6,
          3,
          7,
          6,
          7,
          4,
          8,
          3,
          6,
          4,
          7,
          5,
          5,
          6,
          6,
          7,
          6,
          4,
          5,
          4,
          7,
          5,
          6,
          4,
          6,
          5,
          5,
          3,
          6,
          3,
          10,
          5,
          5,
          7,
          4,
          3,
          5,
          4,
          7,
          5,
          5,
          6,
          8,
          8,
          3,
          6,
          5,
          6,
          5,
          5,
          4,
          6,
          6,
          4,
          7,
          7,
          4,
          5,
          5,
          6,
          6,
          9,
          6,
          6,
          4,
          4,
          5,
          5,
          3,
          6,
          8,
          8,
          7,
          6,
          3,
          4,
          7,
          6,
          7,
          5,
          5,
          5,
          6,
          5,
          7,
          11,
          7,
          8,
          3,
          7,
          11,
          6,
          7,
          5,
          5,
          7,
          12,
          6,
          9,
          4,
          4,
          9,
          5,
          6,
          6,
          4,
          8,
          7,
          4,
          5,
          6,
          5,
          8,
          3,
          6,
          3,
          5,
          5,
          6,
          6,
          6,
          6,
          5,
          4,
          5,
          6,
          7,
          5,
          7,
          6,
          4,
          5,
          6,
          4,
          5,
          4,
          5,
          5,
          7,
          8,
          5,
          3,
          9,
          8,
          9,
          6,
          6,
          8,
          5,
          6,
          4,
          6,
          6,
          3,
          6,
          4,
          6,
          6,
          6,
          7,
          4,
          7,
          6,
          10,
          5,
          9,
          4,
          5,
          3,
          7,
          8,
          4,
          6,
          4,
          7,
          9,
          4,
          4,
          4,
          5,
          4,
          8,
          6,
          5,
          5,
          8,
          8,
          5,
          7,
          8,
          5,
          3,
          7,
          3,
          5,
          5,
          4,
          4,
          9,
          8,
          4,
          4,
          8,
          5,
          6,
          4,
          5,
          5,
          5,
          4,
          6,
          6,
          8,
          5,
          6,
          5,
          9,
          7,
          5,
          4,
          5,
          4,
          6,
          4,
          7,
          5,
          4,
          4,
          7,
          5,
          6,
          6,
          7,
          5,
          3,
          6,
          3,
          6,
          3,
          7,
          6,
          3,
          8,
          4,
          4,
          4,
          5,
          12,
          4,
          4,
          7,
          10,
          5,
          5,
          3,
          3,
          6,
          7,
          5,
          7,
          4,
          7,
          5,
          6,
          5,
          3,
          5,
          7,
          6,
          5,
          6,
          3,
          4,
          4,
          8,
          6,
          6,
          7,
          4,
          7,
          5,
          5,
          5,
          7,
          5,
          8,
          5,
          6,
          7,
          4,
          5,
          3,
          9,
          4,
          8,
          6,
          6,
          5,
          6,
          5,
          6,
          5,
          10,
          10,
          6,
          5,
          8,
          3,
          5,
          6,
          6,
          4,
          6,
          8,
          8,
          7,
          10,
          6,
          7,
          6,
          6,
          4,
          7,
          8,
          5,
          6,
          5,
          10,
          5,
          5,
          5,
          4,
          6,
          9,
          4,
          5,
          7,
          4,
          7,
          4,
          7,
          8,
          6,
          5,
          7,
          5,
          9,
          7,
          6,
          7,
          6,
          4,
          7,
          5,
          8,
          9,
          5,
          4,
          11,
          6,
          6,
          7,
          7,
          6,
          4,
          4,
          6,
          7,
          4,
          5,
          5,
          4,
          6,
          7,
          3,
          4,
          5,
          3,
          9,
          7,
          3,
          5,
          5,
          5,
          6,
          9,
          11,
          6,
          5,
          3,
          3,
          4,
          5,
          7,
          6,
          8,
          4,
          7,
          7,
          7,
          5,
          6,
          6,
          9,
          8,
          3,
          7,
          6,
          5,
          10,
          3,
          8,
          12,
          4,
          7,
          8,
          7,
          4,
          7,
          5,
          4,
          4,
          5,
          3,
          6,
          4,
          7,
          5,
          6,
          7,
          7,
          7,
          7,
          5,
          5,
          3,
          5,
          8,
          3,
          4,
          6,
          4,
          6,
          5,
          9,
          4,
          3,
          4,
          8,
          6,
          7,
          5,
          7,
          5,
          4,
          10,
          5,
          8,
          4,
          4,
          4,
          7,
          8,
          4,
          5,
          4,
          4,
          6,
          5,
          6,
          6,
          7,
          7,
          4,
          6,
          5,
          4,
          5,
          5,
          4,
          3,
          4,
          6,
          8,
          8,
          5,
          5,
          7,
          6,
          5,
          5,
          6,
          8,
          3,
          5,
          6,
          3,
          4,
          6,
          5,
          8,
          5,
          5,
          5,
          10,
          7,
          5,
          8,
          3,
          9,
          6,
          4,
          4,
          4,
          7,
          6,
          5,
          5,
          5,
          5,
          3,
          5,
          6,
          6,
          4,
          5,
          4,
          4,
          4,
          8,
          3,
          5,
          6,
          7,
          8,
          5,
          5,
          5,
          8,
          4,
          6,
          4,
          5,
          7,
          6,
          6,
          6,
          7,
          3,
          4,
          9,
          7,
          3,
          3,
          5,
          4,
          5,
          7,
          5,
          6,
          6,
          3,
          4,
          5,
          5,
          5,
          4,
          5,
          6,
          9,
          7,
          6,
          6,
          6,
          5,
          9,
          8,
          3,
          7,
          6,
          6,
          5,
          7,
          6,
          5,
          5,
          6,
          7,
          6,
          8,
          7,
          4,
          8,
          9,
          5,
          5,
          5,
          4,
          5,
          6,
          6,
          4,
          9,
          6,
          4,
          4,
          5,
          6,
          6,
          9,
          7,
          3,
          4,
          7,
          4,
          8,
          5,
          6,
          8,
          6,
          5,
          8,
          8,
          7,
          6,
          6,
          6,
          6,
          4,
          7,
          4,
          9,
          10,
          6,
          5,
          6,
          5,
          6,
          5,
          6,
          5,
          5,
          5,
          4,
          4,
          7,
          4,
          3,
          5,
          6,
          5,
          6,
          4,
          4,
          5,
          7,
          5,
          6,
          8,
          9,
          4,
          7,
          6,
          7,
          7,
          6,
          7,
          8,
          4,
          4,
          5,
          3,
          5,
          6,
          5,
          5,
          9,
          6,
          6,
          6,
          4,
          6,
          8,
          6,
          3,
          5,
          4,
          6,
          3,
          6,
          5,
          4,
          5,
          6,
          6,
          4,
          5,
          4,
          4,
          5,
          4,
          4,
          6,
          8,
          7,
          8,
          3,
          8,
          5,
          7,
          4,
          8,
          4,
          5,
          6,
          5,
          5,
          6,
          4,
          5,
          6,
          6,
          10,
          8,
          6,
          6,
          5,
          7,
          6,
          4,
          8,
          5,
          4,
          5,
          5,
          8,
          5,
          6,
          7,
          4,
          5,
          6,
          5,
          4,
          7,
          13,
          5,
          7,
          5,
          5,
          7,
          4,
          5,
          5,
          7,
          5,
          7,
          5,
          4,
          3,
          6,
          7,
          5,
          6,
          5,
          5,
          8,
          4,
          10,
          7,
          6,
          9,
          6,
          4,
          9,
          4,
          4,
          3,
          5,
          5,
          4,
          7,
          7,
          6,
          5,
          7,
          8,
          6,
          7,
          6,
          6,
          6,
          3,
          5,
          5,
          5,
          10,
          3,
          11,
          8,
          8,
          4,
          4,
          5,
          6,
          3,
          7,
          3,
          6,
          11,
          8,
          7,
          6,
          4,
          6,
          5,
          5,
          4,
          9,
          11,
          8,
          5,
          5,
          4,
          8,
          6,
          4,
          4,
          5,
          9,
          5,
          5,
          7,
          5,
          8,
          4,
          8,
          5,
          6,
          5,
          4,
          5,
          8,
          6,
          3,
          7,
          4,
          4,
          8,
          5,
          6,
          6,
          6,
          5,
          4,
          5,
          4,
          4,
          6,
          5,
          3,
          3,
          5,
          8,
          5,
          4,
          9,
          4,
          4,
          5,
          4,
          7,
          6,
          7,
          6,
          8,
          4,
          6,
          3,
          5,
          7,
          11,
          3,
          4,
          5,
          5,
          8,
          4,
          7,
          5,
          5,
          3,
          7,
          7,
          5,
          7,
          3,
          4,
          5,
          5,
          8,
          8,
          3,
          7,
          4,
          5,
          6,
          8,
          4,
          4,
          5,
          8,
          7,
          6,
          6,
          4,
          5,
          4,
          3,
          7,
          10,
          7,
          6,
          8,
          8,
          6,
          7,
          6,
          4,
          8,
          7,
          7,
          9,
          5,
          7,
          7,
          8,
          9,
          6,
          5,
          7,
          8,
          4,
          7,
          4,
          7,
          5,
          6,
          5,
          6,
          5,
          4,
          7,
          3,
          6,
          4,
          4,
          4,
          8,
          6,
          6,
          8,
          8,
          8,
          3,
          5,
          6,
          8,
          5,
          5,
          7,
          6,
          4,
          3,
          7,
          7,
          3,
          5,
          6,
          4,
          8,
          5,
          4,
          7,
          4,
          5,
          4,
          4,
          7,
          5,
          5,
          6,
          5,
          8,
          4,
          5,
          4,
          7,
          5,
          9,
          6,
          5,
          4,
          5,
          4,
          4,
          3,
          6,
          9,
          5,
          5,
          6,
          4,
          7,
          5,
          3,
          5,
          4,
          6,
          7,
          4,
          4,
          8,
          5,
          5,
          5,
          5,
          4,
          5,
          6,
          4,
          6,
          6,
          6,
          4,
          5,
          7,
          3,
          4,
          3,
          3,
          4,
          6,
          4,
          4,
          4,
          6,
          5,
          4,
          4,
          5,
          5,
          5,
          7,
          6,
          3,
          4,
          5,
          6,
          4,
          7,
          4,
          3,
          3,
          7,
          6,
          4,
          6,
          4,
          7,
          6,
          7,
          4,
          5,
          5,
          4,
          6,
          4,
          6,
          3,
          5,
          6,
          7,
          3,
          5,
          8,
          5,
          7,
          4,
          4,
          4,
          4,
          6,
          4,
          7,
          7,
          4,
          4,
          4,
          4,
          6,
          5,
          5,
          4,
          5,
          5,
          4,
          5,
          6,
          4,
          5,
          3,
          4,
          4,
          4,
          4,
          3,
          5,
          8,
          6,
          4,
          6,
          4,
          6,
          6,
          3,
          4,
          5,
          5,
          6,
          6,
          3,
          4,
          6,
          7,
          4,
          5,
          6,
          4,
          4,
          3,
          3,
          4,
          6,
          4,
          3,
          4,
          6,
          6,
          3,
          4,
          4,
          3,
          4,
          5,
          4,
          4,
          3,
          4,
          5,
          5,
          4,
          4,
          3,
          6,
          4,
          4,
          6,
          4,
          5,
          5,
          5,
          4,
          4,
          4,
          4,
          5,
          3,
          3,
          5,
          3,
          4,
          5,
          6,
          3,
          5,
          5,
          5,
          3,
          3,
          6,
          3,
          3,
          5,
          5,
          4,
          5,
          4,
          5,
          3,
          6,
          4,
          4,
          5,
          5,
          6,
          5,
          3,
          4,
          4,
          5,
          4,
          5,
          3,
          4,
          3,
          3,
          5,
          4,
          5,
          3,
          4,
          5,
          7,
          5,
          4,
          3,
          4,
          6,
          4,
          4,
          4,
          3,
          5,
          4,
          8,
          5,
          4,
          3,
          4,
          6,
          6,
          4,
          4,
          3,
          4,
          5,
          5,
          3,
          3,
          7,
          6,
          5,
          4,
          5,
          3,
          3,
          4,
          4,
          3,
          4,
          3,
          5,
          4,
          5,
          5,
          7,
          3,
          3,
          5,
          4,
          4,
          6,
          6,
          6,
          3,
          4,
          3,
          3,
          4,
          3,
          3,
          3,
          3,
          6,
          4,
          4,
          3,
          3,
          6,
          3,
          4,
          4,
          4,
          4,
          4,
          3,
          5,
          5,
          5,
          3,
          3,
          4,
          4,
          4,
          5,
          3,
          5,
          3,
          3,
          3,
          4,
          4,
          5,
          4,
          5,
          5,
          4,
          3,
          4,
          4,
          3,
          4,
          6,
          4,
          3,
          7,
          3,
          5,
          5,
          5,
          5,
          4,
          7,
          5,
          5,
          5,
          5,
          4,
          5,
          4,
          2,
          5,
          4,
          5,
          6,
          5,
          4,
          4,
          4,
          3,
          4,
          4,
          3,
          4,
          4,
          5,
          6,
          3,
          3,
          4,
          3,
          3,
          4,
          3,
          4,
          5,
          4,
          4,
          3,
          3,
          4,
          5,
          3,
          3,
          4,
          5,
          6,
          5,
          4,
          3,
          5,
          6,
          6,
          4,
          6,
          4,
          4,
          4,
          3,
          4,
          5,
          4,
          3,
          3,
          6,
          4,
          4,
          3,
          6,
          4,
          4,
          3,
          4,
          4,
          5,
          4,
          3,
          3,
          4,
          4,
          4,
          9,
          3,
          4,
          3,
          5,
          5,
          3,
          5,
          3,
          3,
          4,
          4,
          4,
          4,
          4,
          4,
          5,
          5,
          5,
          3,
          4,
          4,
          4,
          3,
          5,
          4,
          3,
          4,
          4,
          4,
          3,
          3,
          3,
          3,
          5,
          4,
          3,
          4,
          3,
          3,
          3,
          3,
          4,
          5,
          3,
          3,
          4,
          3,
          4,
          3,
          3,
          4,
          3,
          5,
          3,
          3,
          3,
          6,
          3,
          4,
          4,
          5,
          3,
          4,
          4,
          4,
          3,
          3,
          3,
          4,
          3,
          4,
          5,
          3,
          5,
          4,
          3,
          3,
          4,
          5,
          3,
          3,
          5,
          4,
          3,
          4,
          4,
          3,
          5,
          4,
          6,
          5,
          3,
          4,
          4,
          4,
          4,
          5,
          4,
          3,
          2,
          3,
          4,
          2,
          2,
          2,
          2,
          2,
          2,
          3,
          5,
          3,
          3,
          4,
          2,
          2,
          2,
          3,
          3,
          3,
          4,
          2,
          3,
          3,
          4,
          3,
          3,
          3,
          2,
          2,
          4,
          3,
          2,
          2,
          2,
          1,
          1,
          3,
          2,
          2,
          1,
          2,
          2,
          2,
          2,
          1,
          1,
          1,
          1,
          2,
          1,
          1,
          1,
          1,
          1,
          1,
          2,
          2,
          2,
          2,
          1,
          1,
          1,
          1,
          2,
          1,
          1,
          1,
          1,
          2,
          1,
          1,
          1,
          1,
          3,
          1,
          1,
          1,
          1,
          2,
          1,
          2,
          1,
          2,
          1,
          1,
          1,
          1,
          1,
          1,
          2,
          1,
          1,
          1,
          3,
          2,
          1,
          2,
          2,
          1,
          2,
          2,
          1,
          2,
          1,
          2,
          1,
          1,
          2,
          1,
          1,
          1,
          1,
          1,
          2,
          1,
          2,
          1,
          3,
          1,
          1,
          1,
          1,
          1,
          1,
          2,
          2,
          1,
          2,
          1,
          1,
          1,
          1,
          1,
          1,
          1,
          2,
          3,
          1,
          2,
          1,
          1,
          1,
          1,
          1,
          1,
          1,
          2,
          1,
          1,
          1,
          1,
          1,
          1,
          1,
          1,
          2,
          1,
          1,
          1,
          2,
          1,
          1,
          1,
          1,
          2,
          2,
          2,
          1,
          1,
          1,
          1,
          2,
          1,
          1,
          2,
          1,
          1,
          1,
          1,
          1,
          2,
          1,
          1,
          2,
          1,
          2,
          1,
          1,
          1,
          1,
          1,
          2,
          1,
          1,
          1,
          2,
          1,
          1,
          2,
          2,
          2,
          1,
          1,
          1,
          1,
          1,
          1,
          2,
          1,
          1,
          2,
          2,
          1,
          1,
          1,
          2,
          1,
          2,
          1,
          2,
          2,
          1,
          1,
          1,
          1,
          2,
          3,
          1,
          1,
          2,
          3,
          1,
          1,
          2,
          1,
          1,
          1,
          2,
          2,
          1,
          1,
          1,
          2,
          2,
          1,
          1,
          1,
          1,
          1,
          1,
          1,
          1,
          1,
          1,
          1,
          1,
          1,
          1,
          1,
          2,
          1,
          1,
          1,
          1,
          1,
          2,
          2,
          1,
          1,
          1,
          1,
          1,
          2,
          1,
          2,
          1,
          2,
          2,
          2,
          1,
          1,
          1,
          1,
          1,
          1,
          1,
          2,
          2,
          2,
          2,
          1,
          1,
          1,
          1,
          3,
          2,
          1,
          3,
          1,
          2,
          1,
          1,
          2,
          1,
          2,
          1,
          2,
          1,
          1,
          1,
          2,
          1,
          2,
          2,
          1,
          1,
          1,
          1,
          2,
          2,
          2,
          2,
          2,
          1,
          2,
          1,
          1,
          3,
          1,
          1,
          1,
          2,
          1,
          2,
          1,
          1,
          1,
          1,
          1,
          1,
          2,
          1,
          1,
          1,
          1,
          1,
          1,
          1,
          1,
          1,
          1,
          1,
          2,
          1,
          1,
          1,
          2,
          2,
          1,
          1,
          1,
          1,
          2,
          1,
          1,
          1,
          1,
          2,
          1,
          1,
          1,
          1,
          1,
          2,
          1,
          1,
          1,
          1,
          1,
          1,
          2,
          1,
          1,
          1,
          1,
          1,
          1,
          2,
          1,
          1,
          1,
          1,
          2,
          1,
          1,
          1,
          1,
          1,
          1,
          2,
          1,
          1,
          1,
          1,
          2,
          1,
          1,
          1,
          2,
          1,
          1,
          1,
          1,
          1,
          1,
          1,
          1,
          1,
          1,
          1,
          1,
          1,
          2,
          2,
          2,
          1,
          1,
          1,
          2,
          1,
          1,
          2,
          1,
          1,
          1,
          1,
          1,
          1,
          1,
          1,
          1,
          1,
          1,
          1,
          1,
          1,
          1,
          1,
          1,
          1,
          1,
          1,
          1,
          1,
          1,
          1,
          1,
          1,
          1,
          2,
          1,
          1,
          1,
          1,
          1,
          1,
          1,
          1,
          1,
          1,
          1,
          1,
          1,
          1,
          1,
          1,
          2,
          1,
          2,
          1,
          1,
          2,
          2,
          1,
          1,
          1,
          1,
          1,
          1,
          1,
          1,
          1,
          1,
          2,
          1,
          2,
          1,
          1,
          2,
          1,
          1,
          1,
          1,
          1,
          1,
          2,
          1,
          1,
          1,
          1,
          2,
          1,
          2,
          1,
          1,
          1,
          1,
          1,
          1,
          1,
          1,
          1,
          1,
          1,
          2,
          2,
          1,
          2,
          1,
          1,
          1,
          2,
          1,
          1,
          1,
          1,
          1,
          2,
          1,
          1,
          1,
          1,
          1,
          1,
          2,
          1,
          1,
          2,
          1,
          1,
          1,
          1,
          1,
          1,
          1,
          1,
          1,
          2,
          1,
          1,
          1,
          2,
          1,
          1,
          1,
          2,
          2,
          1,
          1,
          2,
          1,
          1,
          1,
          2,
          1,
          1,
          1,
          1,
          1,
          1,
          1,
          1,
          2,
          1,
          1,
          1,
          1,
          1,
          1,
          1,
          1,
          1,
          1,
          1,
          1,
          1,
          1,
          1,
          1,
          2,
          2,
          1,
          1,
          2,
          1,
          2,
          1,
          1,
          1,
          2,
          1,
          1,
          1,
          1,
          1,
          1,
          1,
          1,
          1,
          1,
          1,
          2,
          1,
          1,
          2,
          2,
          1,
          1,
          1,
          1,
          1,
          2,
          1,
          1,
          1,
          2,
          1,
          1,
          1,
          1,
          1,
          1,
          1,
          1,
          1,
          1,
          1,
          1,
          1,
          1,
          1,
          1,
          1,
          1,
          1,
          1,
          1,
          1,
          1,
          1,
          1,
          1,
          1,
          2,
          1,
          1,
          2,
          1,
          1,
          1,
          1,
          1,
          1,
          2,
          1,
          1,
          1,
          1,
          1,
          1,
          1,
          2,
          1,
          1,
          1,
          1,
          1,
          1,
          1,
          1,
          1,
          1,
          2,
          1,
          1,
          1,
          1,
          1,
          1,
          1,
          1,
          1,
          1,
          1,
          1,
          1,
          2,
          1,
          1,
          1,
          1,
          1,
          1,
          2,
          1,
          1,
          2,
          2,
          1,
          1,
          1,
          1,
          1,
          1,
          1,
          1,
          1,
          1,
          1,
          1
         ],
         "xaxis": "x",
         "yaxis": "y"
        }
       ],
       "layout": {
        "bargap": 0.1,
        "barmode": "relative",
        "legend": {
         "tracegroupgap": 0
        },
        "template": {
         "data": {
          "bar": [
           {
            "error_x": {
             "color": "#2a3f5f"
            },
            "error_y": {
             "color": "#2a3f5f"
            },
            "marker": {
             "line": {
              "color": "#E5ECF6",
              "width": 0.5
             },
             "pattern": {
              "fillmode": "overlay",
              "size": 10,
              "solidity": 0.2
             }
            },
            "type": "bar"
           }
          ],
          "barpolar": [
           {
            "marker": {
             "line": {
              "color": "#E5ECF6",
              "width": 0.5
             },
             "pattern": {
              "fillmode": "overlay",
              "size": 10,
              "solidity": 0.2
             }
            },
            "type": "barpolar"
           }
          ],
          "carpet": [
           {
            "aaxis": {
             "endlinecolor": "#2a3f5f",
             "gridcolor": "white",
             "linecolor": "white",
             "minorgridcolor": "white",
             "startlinecolor": "#2a3f5f"
            },
            "baxis": {
             "endlinecolor": "#2a3f5f",
             "gridcolor": "white",
             "linecolor": "white",
             "minorgridcolor": "white",
             "startlinecolor": "#2a3f5f"
            },
            "type": "carpet"
           }
          ],
          "choropleth": [
           {
            "colorbar": {
             "outlinewidth": 0,
             "ticks": ""
            },
            "type": "choropleth"
           }
          ],
          "contour": [
           {
            "colorbar": {
             "outlinewidth": 0,
             "ticks": ""
            },
            "colorscale": [
             [
              0,
              "#0d0887"
             ],
             [
              0.1111111111111111,
              "#46039f"
             ],
             [
              0.2222222222222222,
              "#7201a8"
             ],
             [
              0.3333333333333333,
              "#9c179e"
             ],
             [
              0.4444444444444444,
              "#bd3786"
             ],
             [
              0.5555555555555556,
              "#d8576b"
             ],
             [
              0.6666666666666666,
              "#ed7953"
             ],
             [
              0.7777777777777778,
              "#fb9f3a"
             ],
             [
              0.8888888888888888,
              "#fdca26"
             ],
             [
              1,
              "#f0f921"
             ]
            ],
            "type": "contour"
           }
          ],
          "contourcarpet": [
           {
            "colorbar": {
             "outlinewidth": 0,
             "ticks": ""
            },
            "type": "contourcarpet"
           }
          ],
          "heatmap": [
           {
            "colorbar": {
             "outlinewidth": 0,
             "ticks": ""
            },
            "colorscale": [
             [
              0,
              "#0d0887"
             ],
             [
              0.1111111111111111,
              "#46039f"
             ],
             [
              0.2222222222222222,
              "#7201a8"
             ],
             [
              0.3333333333333333,
              "#9c179e"
             ],
             [
              0.4444444444444444,
              "#bd3786"
             ],
             [
              0.5555555555555556,
              "#d8576b"
             ],
             [
              0.6666666666666666,
              "#ed7953"
             ],
             [
              0.7777777777777778,
              "#fb9f3a"
             ],
             [
              0.8888888888888888,
              "#fdca26"
             ],
             [
              1,
              "#f0f921"
             ]
            ],
            "type": "heatmap"
           }
          ],
          "heatmapgl": [
           {
            "colorbar": {
             "outlinewidth": 0,
             "ticks": ""
            },
            "colorscale": [
             [
              0,
              "#0d0887"
             ],
             [
              0.1111111111111111,
              "#46039f"
             ],
             [
              0.2222222222222222,
              "#7201a8"
             ],
             [
              0.3333333333333333,
              "#9c179e"
             ],
             [
              0.4444444444444444,
              "#bd3786"
             ],
             [
              0.5555555555555556,
              "#d8576b"
             ],
             [
              0.6666666666666666,
              "#ed7953"
             ],
             [
              0.7777777777777778,
              "#fb9f3a"
             ],
             [
              0.8888888888888888,
              "#fdca26"
             ],
             [
              1,
              "#f0f921"
             ]
            ],
            "type": "heatmapgl"
           }
          ],
          "histogram": [
           {
            "marker": {
             "pattern": {
              "fillmode": "overlay",
              "size": 10,
              "solidity": 0.2
             }
            },
            "type": "histogram"
           }
          ],
          "histogram2d": [
           {
            "colorbar": {
             "outlinewidth": 0,
             "ticks": ""
            },
            "colorscale": [
             [
              0,
              "#0d0887"
             ],
             [
              0.1111111111111111,
              "#46039f"
             ],
             [
              0.2222222222222222,
              "#7201a8"
             ],
             [
              0.3333333333333333,
              "#9c179e"
             ],
             [
              0.4444444444444444,
              "#bd3786"
             ],
             [
              0.5555555555555556,
              "#d8576b"
             ],
             [
              0.6666666666666666,
              "#ed7953"
             ],
             [
              0.7777777777777778,
              "#fb9f3a"
             ],
             [
              0.8888888888888888,
              "#fdca26"
             ],
             [
              1,
              "#f0f921"
             ]
            ],
            "type": "histogram2d"
           }
          ],
          "histogram2dcontour": [
           {
            "colorbar": {
             "outlinewidth": 0,
             "ticks": ""
            },
            "colorscale": [
             [
              0,
              "#0d0887"
             ],
             [
              0.1111111111111111,
              "#46039f"
             ],
             [
              0.2222222222222222,
              "#7201a8"
             ],
             [
              0.3333333333333333,
              "#9c179e"
             ],
             [
              0.4444444444444444,
              "#bd3786"
             ],
             [
              0.5555555555555556,
              "#d8576b"
             ],
             [
              0.6666666666666666,
              "#ed7953"
             ],
             [
              0.7777777777777778,
              "#fb9f3a"
             ],
             [
              0.8888888888888888,
              "#fdca26"
             ],
             [
              1,
              "#f0f921"
             ]
            ],
            "type": "histogram2dcontour"
           }
          ],
          "mesh3d": [
           {
            "colorbar": {
             "outlinewidth": 0,
             "ticks": ""
            },
            "type": "mesh3d"
           }
          ],
          "parcoords": [
           {
            "line": {
             "colorbar": {
              "outlinewidth": 0,
              "ticks": ""
             }
            },
            "type": "parcoords"
           }
          ],
          "pie": [
           {
            "automargin": true,
            "type": "pie"
           }
          ],
          "scatter": [
           {
            "fillpattern": {
             "fillmode": "overlay",
             "size": 10,
             "solidity": 0.2
            },
            "type": "scatter"
           }
          ],
          "scatter3d": [
           {
            "line": {
             "colorbar": {
              "outlinewidth": 0,
              "ticks": ""
             }
            },
            "marker": {
             "colorbar": {
              "outlinewidth": 0,
              "ticks": ""
             }
            },
            "type": "scatter3d"
           }
          ],
          "scattercarpet": [
           {
            "marker": {
             "colorbar": {
              "outlinewidth": 0,
              "ticks": ""
             }
            },
            "type": "scattercarpet"
           }
          ],
          "scattergeo": [
           {
            "marker": {
             "colorbar": {
              "outlinewidth": 0,
              "ticks": ""
             }
            },
            "type": "scattergeo"
           }
          ],
          "scattergl": [
           {
            "marker": {
             "colorbar": {
              "outlinewidth": 0,
              "ticks": ""
             }
            },
            "type": "scattergl"
           }
          ],
          "scattermapbox": [
           {
            "marker": {
             "colorbar": {
              "outlinewidth": 0,
              "ticks": ""
             }
            },
            "type": "scattermapbox"
           }
          ],
          "scatterpolar": [
           {
            "marker": {
             "colorbar": {
              "outlinewidth": 0,
              "ticks": ""
             }
            },
            "type": "scatterpolar"
           }
          ],
          "scatterpolargl": [
           {
            "marker": {
             "colorbar": {
              "outlinewidth": 0,
              "ticks": ""
             }
            },
            "type": "scatterpolargl"
           }
          ],
          "scatterternary": [
           {
            "marker": {
             "colorbar": {
              "outlinewidth": 0,
              "ticks": ""
             }
            },
            "type": "scatterternary"
           }
          ],
          "surface": [
           {
            "colorbar": {
             "outlinewidth": 0,
             "ticks": ""
            },
            "colorscale": [
             [
              0,
              "#0d0887"
             ],
             [
              0.1111111111111111,
              "#46039f"
             ],
             [
              0.2222222222222222,
              "#7201a8"
             ],
             [
              0.3333333333333333,
              "#9c179e"
             ],
             [
              0.4444444444444444,
              "#bd3786"
             ],
             [
              0.5555555555555556,
              "#d8576b"
             ],
             [
              0.6666666666666666,
              "#ed7953"
             ],
             [
              0.7777777777777778,
              "#fb9f3a"
             ],
             [
              0.8888888888888888,
              "#fdca26"
             ],
             [
              1,
              "#f0f921"
             ]
            ],
            "type": "surface"
           }
          ],
          "table": [
           {
            "cells": {
             "fill": {
              "color": "#EBF0F8"
             },
             "line": {
              "color": "white"
             }
            },
            "header": {
             "fill": {
              "color": "#C8D4E3"
             },
             "line": {
              "color": "white"
             }
            },
            "type": "table"
           }
          ]
         },
         "layout": {
          "annotationdefaults": {
           "arrowcolor": "#2a3f5f",
           "arrowhead": 0,
           "arrowwidth": 1
          },
          "autotypenumbers": "strict",
          "coloraxis": {
           "colorbar": {
            "outlinewidth": 0,
            "ticks": ""
           }
          },
          "colorscale": {
           "diverging": [
            [
             0,
             "#8e0152"
            ],
            [
             0.1,
             "#c51b7d"
            ],
            [
             0.2,
             "#de77ae"
            ],
            [
             0.3,
             "#f1b6da"
            ],
            [
             0.4,
             "#fde0ef"
            ],
            [
             0.5,
             "#f7f7f7"
            ],
            [
             0.6,
             "#e6f5d0"
            ],
            [
             0.7,
             "#b8e186"
            ],
            [
             0.8,
             "#7fbc41"
            ],
            [
             0.9,
             "#4d9221"
            ],
            [
             1,
             "#276419"
            ]
           ],
           "sequential": [
            [
             0,
             "#0d0887"
            ],
            [
             0.1111111111111111,
             "#46039f"
            ],
            [
             0.2222222222222222,
             "#7201a8"
            ],
            [
             0.3333333333333333,
             "#9c179e"
            ],
            [
             0.4444444444444444,
             "#bd3786"
            ],
            [
             0.5555555555555556,
             "#d8576b"
            ],
            [
             0.6666666666666666,
             "#ed7953"
            ],
            [
             0.7777777777777778,
             "#fb9f3a"
            ],
            [
             0.8888888888888888,
             "#fdca26"
            ],
            [
             1,
             "#f0f921"
            ]
           ],
           "sequentialminus": [
            [
             0,
             "#0d0887"
            ],
            [
             0.1111111111111111,
             "#46039f"
            ],
            [
             0.2222222222222222,
             "#7201a8"
            ],
            [
             0.3333333333333333,
             "#9c179e"
            ],
            [
             0.4444444444444444,
             "#bd3786"
            ],
            [
             0.5555555555555556,
             "#d8576b"
            ],
            [
             0.6666666666666666,
             "#ed7953"
            ],
            [
             0.7777777777777778,
             "#fb9f3a"
            ],
            [
             0.8888888888888888,
             "#fdca26"
            ],
            [
             1,
             "#f0f921"
            ]
           ]
          },
          "colorway": [
           "#636efa",
           "#EF553B",
           "#00cc96",
           "#ab63fa",
           "#FFA15A",
           "#19d3f3",
           "#FF6692",
           "#B6E880",
           "#FF97FF",
           "#FECB52"
          ],
          "font": {
           "color": "#2a3f5f"
          },
          "geo": {
           "bgcolor": "white",
           "lakecolor": "white",
           "landcolor": "#E5ECF6",
           "showlakes": true,
           "showland": true,
           "subunitcolor": "white"
          },
          "hoverlabel": {
           "align": "left"
          },
          "hovermode": "closest",
          "mapbox": {
           "style": "light"
          },
          "paper_bgcolor": "white",
          "plot_bgcolor": "#E5ECF6",
          "polar": {
           "angularaxis": {
            "gridcolor": "white",
            "linecolor": "white",
            "ticks": ""
           },
           "bgcolor": "#E5ECF6",
           "radialaxis": {
            "gridcolor": "white",
            "linecolor": "white",
            "ticks": ""
           }
          },
          "scene": {
           "xaxis": {
            "backgroundcolor": "#E5ECF6",
            "gridcolor": "white",
            "gridwidth": 2,
            "linecolor": "white",
            "showbackground": true,
            "ticks": "",
            "zerolinecolor": "white"
           },
           "yaxis": {
            "backgroundcolor": "#E5ECF6",
            "gridcolor": "white",
            "gridwidth": 2,
            "linecolor": "white",
            "showbackground": true,
            "ticks": "",
            "zerolinecolor": "white"
           },
           "zaxis": {
            "backgroundcolor": "#E5ECF6",
            "gridcolor": "white",
            "gridwidth": 2,
            "linecolor": "white",
            "showbackground": true,
            "ticks": "",
            "zerolinecolor": "white"
           }
          },
          "shapedefaults": {
           "line": {
            "color": "#2a3f5f"
           }
          },
          "ternary": {
           "aaxis": {
            "gridcolor": "white",
            "linecolor": "white",
            "ticks": ""
           },
           "baxis": {
            "gridcolor": "white",
            "linecolor": "white",
            "ticks": ""
           },
           "bgcolor": "#E5ECF6",
           "caxis": {
            "gridcolor": "white",
            "linecolor": "white",
            "ticks": ""
           }
          },
          "title": {
           "x": 0.05
          },
          "xaxis": {
           "automargin": true,
           "gridcolor": "white",
           "linecolor": "white",
           "ticks": "",
           "title": {
            "standoff": 15
           },
           "zerolinecolor": "white",
           "zerolinewidth": 2
          },
          "yaxis": {
           "automargin": true,
           "gridcolor": "white",
           "linecolor": "white",
           "ticks": "",
           "title": {
            "standoff": 15
           },
           "zerolinecolor": "white",
           "zerolinewidth": 2
          }
         }
        },
        "title": {
         "text": "Frequency of Multiple-Item Transactions"
        },
        "xaxis": {
         "anchor": "y",
         "domain": [
          0,
          1
         ],
         "title": {
          "text": "Number of Items in Transaction"
         }
        },
        "yaxis": {
         "anchor": "x",
         "domain": [
          0,
          1
         ],
         "title": {
          "text": "Frequency"
         }
        }
       }
      },
      "text/html": [
       "<div>                            <div id=\"3538aca8-2ed5-4dd5-8352-7a1faa8c7bd6\" class=\"plotly-graph-div\" style=\"height:525px; width:100%;\"></div>            <script type=\"text/javascript\">                require([\"plotly\"], function(Plotly) {                    window.PLOTLYENV=window.PLOTLYENV || {};                                    if (document.getElementById(\"3538aca8-2ed5-4dd5-8352-7a1faa8c7bd6\")) {                    Plotly.newPlot(                        \"3538aca8-2ed5-4dd5-8352-7a1faa8c7bd6\",                        [{\"alignmentgroup\":\"True\",\"bingroup\":\"x\",\"hovertemplate\":\"row_count=%{x}<br>count=%{y}<extra></extra>\",\"legendgroup\":\"\",\"marker\":{\"color\":\"#636efa\",\"pattern\":{\"shape\":\"\"}},\"name\":\"\",\"offsetgroup\":\"\",\"orientation\":\"v\",\"showlegend\":false,\"x\":[33,31,30,32,32,19,26,25,20,29,34,31,26,23,31,28,34,28,30,33,28,23,39,21,26,19,31,27,30,24,29,21,36,25,22,33,29,33,36,26,26,26,25,26,33,24,30,32,33,36,20,23,22,29,23,25,20,28,24,37,27,35,26,35,24,28,26,20,28,23,33,25,31,28,22,22,18,31,27,33,17,20,27,24,24,29,37,27,30,28,32,25,34,29,17,26,32,24,31,31,33,23,29,30,27,21,32,35,25,23,27,26,27,24,31,27,29,33,33,29,29,23,30,20,27,30,27,25,28,34,31,27,30,23,24,29,23,19,38,24,24,22,28,22,29,26,28,25,21,22,18,32,29,32,31,34,34,22,28,31,30,35,28,24,28,29,24,36,27,28,26,31,27,33,25,25,34,28,31,34,25,22,21,33,32,32,33,23,22,24,27,18,31,26,23,28,25,25,30,30,32,27,29,22,27,26,28,30,23,29,25,25,19,25,29,27,24,26,28,32,28,26,27,34,27,36,20,28,30,25,29,29,30,26,22,31,30,22,22,29,23,18,27,26,27,27,32,24,33,27,27,32,22,37,26,21,23,25,25,25,23,21,27,25,30,21,27,25,30,33,25,23,19,30,29,30,26,31,25,27,27,29,30,30,24,18,25,29,24,26,29,25,29,31,26,32,34,23,39,21,19,23,25,26,31,27,26,21,28,23,29,30,26,29,20,39,25,25,30,29,26,33,20,29,26,26,26,24,24,29,27,28,29,25,24,34,33,26,27,24,24,31,27,22,21,31,20,26,28,25,30,28,25,28,28,26,20,22,21,16,25,21,26,24,24,25,23,23,25,22,22,21,17,24,25,20,25,32,14,24,30,25,28,18,21,24,25,20,29,30,22,24,21,22,26,17,14,25,21,15,17,25,26,23,20,35,22,18,22,21,16,23,24,17,20,16,24,16,18,18,21,21,18,18,25,26,27,19,21,16,16,23,14,19,23,15,17,18,17,17,19,16,11,15,18,20,20,21,17,17,14,15,14,13,15,14,14,12,11,10,11,15,13,8,12,10,15,11,7,15,17,10,10,8,9,9,14,12,12,9,11,8,18,12,10,10,10,12,14,8,5,18,17,13,9,5,12,11,8,9,8,9,15,7,10,11,7,8,11,9,6,10,11,11,10,5,9,7,10,7,8,8,7,6,13,6,6,7,7,9,9,8,5,6,9,10,6,7,5,12,8,8,5,8,8,11,9,7,9,5,8,11,7,8,7,9,11,5,12,13,6,9,8,7,7,10,10,7,6,8,6,6,6,10,12,8,12,8,5,8,10,11,11,7,10,8,11,8,8,8,11,9,8,12,13,11,10,9,6,9,7,6,8,9,9,5,7,8,10,9,9,7,6,11,6,9,8,5,6,11,9,5,8,10,8,11,7,6,13,9,12,8,7,8,14,7,11,7,7,11,10,7,5,8,9,8,6,7,5,8,6,15,7,4,11,7,10,11,12,7,6,10,8,12,12,10,8,8,11,7,9,8,7,6,8,7,10,6,7,9,8,12,7,6,7,6,8,13,5,8,9,10,7,6,8,10,10,8,9,7,8,10,6,7,7,7,13,8,9,7,7,9,8,12,7,7,8,5,7,10,5,5,11,5,6,6,8,7,10,13,7,6,7,5,11,8,7,9,11,6,5,5,6,9,10,5,12,6,10,13,8,9,6,7,12,12,7,8,7,9,4,4,9,8,8,7,6,6,7,6,9,4,6,5,6,8,6,6,8,5,6,5,4,5,8,4,6,5,6,5,6,9,8,6,5,8,9,3,5,5,4,4,5,4,8,10,5,5,6,6,7,10,4,6,7,6,6,5,6,6,8,4,5,5,7,4,11,4,4,4,7,7,3,4,4,5,4,7,6,8,5,8,4,5,6,5,4,5,5,6,4,7,8,8,9,6,6,9,5,5,6,4,5,7,8,6,5,7,4,7,6,6,8,6,7,6,5,5,4,5,3,6,5,5,7,7,4,4,9,6,5,3,5,4,4,5,3,6,7,7,5,6,6,4,8,5,7,4,7,6,7,7,5,7,8,7,7,11,7,8,4,6,7,5,4,4,4,5,4,5,5,4,4,7,7,7,9,6,6,6,7,3,10,6,6,7,6,5,5,7,7,6,8,7,3,5,8,5,7,6,7,4,7,5,5,7,8,3,4,4,6,5,5,7,10,3,8,9,10,3,4,6,6,6,7,5,4,5,6,5,7,6,5,3,8,8,5,12,6,3,6,4,6,7,7,5,8,5,11,5,8,6,5,6,6,3,7,6,7,4,8,3,6,4,7,5,5,6,6,7,6,4,5,4,7,5,6,4,6,5,5,3,6,3,10,5,5,7,4,3,5,4,7,5,5,6,8,8,3,6,5,6,5,5,4,6,6,4,7,7,4,5,5,6,6,9,6,6,4,4,5,5,3,6,8,8,7,6,3,4,7,6,7,5,5,5,6,5,7,11,7,8,3,7,11,6,7,5,5,7,12,6,9,4,4,9,5,6,6,4,8,7,4,5,6,5,8,3,6,3,5,5,6,6,6,6,5,4,5,6,7,5,7,6,4,5,6,4,5,4,5,5,7,8,5,3,9,8,9,6,6,8,5,6,4,6,6,3,6,4,6,6,6,7,4,7,6,10,5,9,4,5,3,7,8,4,6,4,7,9,4,4,4,5,4,8,6,5,5,8,8,5,7,8,5,3,7,3,5,5,4,4,9,8,4,4,8,5,6,4,5,5,5,4,6,6,8,5,6,5,9,7,5,4,5,4,6,4,7,5,4,4,7,5,6,6,7,5,3,6,3,6,3,7,6,3,8,4,4,4,5,12,4,4,7,10,5,5,3,3,6,7,5,7,4,7,5,6,5,3,5,7,6,5,6,3,4,4,8,6,6,7,4,7,5,5,5,7,5,8,5,6,7,4,5,3,9,4,8,6,6,5,6,5,6,5,10,10,6,5,8,3,5,6,6,4,6,8,8,7,10,6,7,6,6,4,7,8,5,6,5,10,5,5,5,4,6,9,4,5,7,4,7,4,7,8,6,5,7,5,9,7,6,7,6,4,7,5,8,9,5,4,11,6,6,7,7,6,4,4,6,7,4,5,5,4,6,7,3,4,5,3,9,7,3,5,5,5,6,9,11,6,5,3,3,4,5,7,6,8,4,7,7,7,5,6,6,9,8,3,7,6,5,10,3,8,12,4,7,8,7,4,7,5,4,4,5,3,6,4,7,5,6,7,7,7,7,5,5,3,5,8,3,4,6,4,6,5,9,4,3,4,8,6,7,5,7,5,4,10,5,8,4,4,4,7,8,4,5,4,4,6,5,6,6,7,7,4,6,5,4,5,5,4,3,4,6,8,8,5,5,7,6,5,5,6,8,3,5,6,3,4,6,5,8,5,5,5,10,7,5,8,3,9,6,4,4,4,7,6,5,5,5,5,3,5,6,6,4,5,4,4,4,8,3,5,6,7,8,5,5,5,8,4,6,4,5,7,6,6,6,7,3,4,9,7,3,3,5,4,5,7,5,6,6,3,4,5,5,5,4,5,6,9,7,6,6,6,5,9,8,3,7,6,6,5,7,6,5,5,6,7,6,8,7,4,8,9,5,5,5,4,5,6,6,4,9,6,4,4,5,6,6,9,7,3,4,7,4,8,5,6,8,6,5,8,8,7,6,6,6,6,4,7,4,9,10,6,5,6,5,6,5,6,5,5,5,4,4,7,4,3,5,6,5,6,4,4,5,7,5,6,8,9,4,7,6,7,7,6,7,8,4,4,5,3,5,6,5,5,9,6,6,6,4,6,8,6,3,5,4,6,3,6,5,4,5,6,6,4,5,4,4,5,4,4,6,8,7,8,3,8,5,7,4,8,4,5,6,5,5,6,4,5,6,6,10,8,6,6,5,7,6,4,8,5,4,5,5,8,5,6,7,4,5,6,5,4,7,13,5,7,5,5,7,4,5,5,7,5,7,5,4,3,6,7,5,6,5,5,8,4,10,7,6,9,6,4,9,4,4,3,5,5,4,7,7,6,5,7,8,6,7,6,6,6,3,5,5,5,10,3,11,8,8,4,4,5,6,3,7,3,6,11,8,7,6,4,6,5,5,4,9,11,8,5,5,4,8,6,4,4,5,9,5,5,7,5,8,4,8,5,6,5,4,5,8,6,3,7,4,4,8,5,6,6,6,5,4,5,4,4,6,5,3,3,5,8,5,4,9,4,4,5,4,7,6,7,6,8,4,6,3,5,7,11,3,4,5,5,8,4,7,5,5,3,7,7,5,7,3,4,5,5,8,8,3,7,4,5,6,8,4,4,5,8,7,6,6,4,5,4,3,7,10,7,6,8,8,6,7,6,4,8,7,7,9,5,7,7,8,9,6,5,7,8,4,7,4,7,5,6,5,6,5,4,7,3,6,4,4,4,8,6,6,8,8,8,3,5,6,8,5,5,7,6,4,3,7,7,3,5,6,4,8,5,4,7,4,5,4,4,7,5,5,6,5,8,4,5,4,7,5,9,6,5,4,5,4,4,3,6,9,5,5,6,4,7,5,3,5,4,6,7,4,4,8,5,5,5,5,4,5,6,4,6,6,6,4,5,7,3,4,3,3,4,6,4,4,4,6,5,4,4,5,5,5,7,6,3,4,5,6,4,7,4,3,3,7,6,4,6,4,7,6,7,4,5,5,4,6,4,6,3,5,6,7,3,5,8,5,7,4,4,4,4,6,4,7,7,4,4,4,4,6,5,5,4,5,5,4,5,6,4,5,3,4,4,4,4,3,5,8,6,4,6,4,6,6,3,4,5,5,6,6,3,4,6,7,4,5,6,4,4,3,3,4,6,4,3,4,6,6,3,4,4,3,4,5,4,4,3,4,5,5,4,4,3,6,4,4,6,4,5,5,5,4,4,4,4,5,3,3,5,3,4,5,6,3,5,5,5,3,3,6,3,3,5,5,4,5,4,5,3,6,4,4,5,5,6,5,3,4,4,5,4,5,3,4,3,3,5,4,5,3,4,5,7,5,4,3,4,6,4,4,4,3,5,4,8,5,4,3,4,6,6,4,4,3,4,5,5,3,3,7,6,5,4,5,3,3,4,4,3,4,3,5,4,5,5,7,3,3,5,4,4,6,6,6,3,4,3,3,4,3,3,3,3,6,4,4,3,3,6,3,4,4,4,4,4,3,5,5,5,3,3,4,4,4,5,3,5,3,3,3,4,4,5,4,5,5,4,3,4,4,3,4,6,4,3,7,3,5,5,5,5,4,7,5,5,5,5,4,5,4,2,5,4,5,6,5,4,4,4,3,4,4,3,4,4,5,6,3,3,4,3,3,4,3,4,5,4,4,3,3,4,5,3,3,4,5,6,5,4,3,5,6,6,4,6,4,4,4,3,4,5,4,3,3,6,4,4,3,6,4,4,3,4,4,5,4,3,3,4,4,4,9,3,4,3,5,5,3,5,3,3,4,4,4,4,4,4,5,5,5,3,4,4,4,3,5,4,3,4,4,4,3,3,3,3,5,4,3,4,3,3,3,3,4,5,3,3,4,3,4,3,3,4,3,5,3,3,3,6,3,4,4,5,3,4,4,4,3,3,3,4,3,4,5,3,5,4,3,3,4,5,3,3,5,4,3,4,4,3,5,4,6,5,3,4,4,4,4,5,4,3,2,3,4,2,2,2,2,2,2,3,5,3,3,4,2,2,2,3,3,3,4,2,3,3,4,3,3,3,2,2,4,3,2,2,2,1,1,3,2,2,1,2,2,2,2,1,1,1,1,2,1,1,1,1,1,1,2,2,2,2,1,1,1,1,2,1,1,1,1,2,1,1,1,1,3,1,1,1,1,2,1,2,1,2,1,1,1,1,1,1,2,1,1,1,3,2,1,2,2,1,2,2,1,2,1,2,1,1,2,1,1,1,1,1,2,1,2,1,3,1,1,1,1,1,1,2,2,1,2,1,1,1,1,1,1,1,2,3,1,2,1,1,1,1,1,1,1,2,1,1,1,1,1,1,1,1,2,1,1,1,2,1,1,1,1,2,2,2,1,1,1,1,2,1,1,2,1,1,1,1,1,2,1,1,2,1,2,1,1,1,1,1,2,1,1,1,2,1,1,2,2,2,1,1,1,1,1,1,2,1,1,2,2,1,1,1,2,1,2,1,2,2,1,1,1,1,2,3,1,1,2,3,1,1,2,1,1,1,2,2,1,1,1,2,2,1,1,1,1,1,1,1,1,1,1,1,1,1,1,1,2,1,1,1,1,1,2,2,1,1,1,1,1,2,1,2,1,2,2,2,1,1,1,1,1,1,1,2,2,2,2,1,1,1,1,3,2,1,3,1,2,1,1,2,1,2,1,2,1,1,1,2,1,2,2,1,1,1,1,2,2,2,2,2,1,2,1,1,3,1,1,1,2,1,2,1,1,1,1,1,1,2,1,1,1,1,1,1,1,1,1,1,1,2,1,1,1,2,2,1,1,1,1,2,1,1,1,1,2,1,1,1,1,1,2,1,1,1,1,1,1,2,1,1,1,1,1,1,2,1,1,1,1,2,1,1,1,1,1,1,2,1,1,1,1,2,1,1,1,2,1,1,1,1,1,1,1,1,1,1,1,1,1,2,2,2,1,1,1,2,1,1,2,1,1,1,1,1,1,1,1,1,1,1,1,1,1,1,1,1,1,1,1,1,1,1,1,1,1,1,2,1,1,1,1,1,1,1,1,1,1,1,1,1,1,1,1,2,1,2,1,1,2,2,1,1,1,1,1,1,1,1,1,1,2,1,2,1,1,2,1,1,1,1,1,1,2,1,1,1,1,2,1,2,1,1,1,1,1,1,1,1,1,1,1,2,2,1,2,1,1,1,2,1,1,1,1,1,2,1,1,1,1,1,1,2,1,1,2,1,1,1,1,1,1,1,1,1,2,1,1,1,2,1,1,1,2,2,1,1,2,1,1,1,2,1,1,1,1,1,1,1,1,2,1,1,1,1,1,1,1,1,1,1,1,1,1,1,1,1,2,2,1,1,2,1,2,1,1,1,2,1,1,1,1,1,1,1,1,1,1,1,2,1,1,2,2,1,1,1,1,1,2,1,1,1,2,1,1,1,1,1,1,1,1,1,1,1,1,1,1,1,1,1,1,1,1,1,1,1,1,1,1,1,2,1,1,2,1,1,1,1,1,1,2,1,1,1,1,1,1,1,2,1,1,1,1,1,1,1,1,1,1,2,1,1,1,1,1,1,1,1,1,1,1,1,1,2,1,1,1,1,1,1,2,1,1,2,2,1,1,1,1,1,1,1,1,1,1,1,1],\"xaxis\":\"x\",\"yaxis\":\"y\",\"type\":\"histogram\"}],                        {\"template\":{\"data\":{\"histogram2dcontour\":[{\"type\":\"histogram2dcontour\",\"colorbar\":{\"outlinewidth\":0,\"ticks\":\"\"},\"colorscale\":[[0.0,\"#0d0887\"],[0.1111111111111111,\"#46039f\"],[0.2222222222222222,\"#7201a8\"],[0.3333333333333333,\"#9c179e\"],[0.4444444444444444,\"#bd3786\"],[0.5555555555555556,\"#d8576b\"],[0.6666666666666666,\"#ed7953\"],[0.7777777777777778,\"#fb9f3a\"],[0.8888888888888888,\"#fdca26\"],[1.0,\"#f0f921\"]]}],\"choropleth\":[{\"type\":\"choropleth\",\"colorbar\":{\"outlinewidth\":0,\"ticks\":\"\"}}],\"histogram2d\":[{\"type\":\"histogram2d\",\"colorbar\":{\"outlinewidth\":0,\"ticks\":\"\"},\"colorscale\":[[0.0,\"#0d0887\"],[0.1111111111111111,\"#46039f\"],[0.2222222222222222,\"#7201a8\"],[0.3333333333333333,\"#9c179e\"],[0.4444444444444444,\"#bd3786\"],[0.5555555555555556,\"#d8576b\"],[0.6666666666666666,\"#ed7953\"],[0.7777777777777778,\"#fb9f3a\"],[0.8888888888888888,\"#fdca26\"],[1.0,\"#f0f921\"]]}],\"heatmap\":[{\"type\":\"heatmap\",\"colorbar\":{\"outlinewidth\":0,\"ticks\":\"\"},\"colorscale\":[[0.0,\"#0d0887\"],[0.1111111111111111,\"#46039f\"],[0.2222222222222222,\"#7201a8\"],[0.3333333333333333,\"#9c179e\"],[0.4444444444444444,\"#bd3786\"],[0.5555555555555556,\"#d8576b\"],[0.6666666666666666,\"#ed7953\"],[0.7777777777777778,\"#fb9f3a\"],[0.8888888888888888,\"#fdca26\"],[1.0,\"#f0f921\"]]}],\"heatmapgl\":[{\"type\":\"heatmapgl\",\"colorbar\":{\"outlinewidth\":0,\"ticks\":\"\"},\"colorscale\":[[0.0,\"#0d0887\"],[0.1111111111111111,\"#46039f\"],[0.2222222222222222,\"#7201a8\"],[0.3333333333333333,\"#9c179e\"],[0.4444444444444444,\"#bd3786\"],[0.5555555555555556,\"#d8576b\"],[0.6666666666666666,\"#ed7953\"],[0.7777777777777778,\"#fb9f3a\"],[0.8888888888888888,\"#fdca26\"],[1.0,\"#f0f921\"]]}],\"contourcarpet\":[{\"type\":\"contourcarpet\",\"colorbar\":{\"outlinewidth\":0,\"ticks\":\"\"}}],\"contour\":[{\"type\":\"contour\",\"colorbar\":{\"outlinewidth\":0,\"ticks\":\"\"},\"colorscale\":[[0.0,\"#0d0887\"],[0.1111111111111111,\"#46039f\"],[0.2222222222222222,\"#7201a8\"],[0.3333333333333333,\"#9c179e\"],[0.4444444444444444,\"#bd3786\"],[0.5555555555555556,\"#d8576b\"],[0.6666666666666666,\"#ed7953\"],[0.7777777777777778,\"#fb9f3a\"],[0.8888888888888888,\"#fdca26\"],[1.0,\"#f0f921\"]]}],\"surface\":[{\"type\":\"surface\",\"colorbar\":{\"outlinewidth\":0,\"ticks\":\"\"},\"colorscale\":[[0.0,\"#0d0887\"],[0.1111111111111111,\"#46039f\"],[0.2222222222222222,\"#7201a8\"],[0.3333333333333333,\"#9c179e\"],[0.4444444444444444,\"#bd3786\"],[0.5555555555555556,\"#d8576b\"],[0.6666666666666666,\"#ed7953\"],[0.7777777777777778,\"#fb9f3a\"],[0.8888888888888888,\"#fdca26\"],[1.0,\"#f0f921\"]]}],\"mesh3d\":[{\"type\":\"mesh3d\",\"colorbar\":{\"outlinewidth\":0,\"ticks\":\"\"}}],\"scatter\":[{\"fillpattern\":{\"fillmode\":\"overlay\",\"size\":10,\"solidity\":0.2},\"type\":\"scatter\"}],\"parcoords\":[{\"type\":\"parcoords\",\"line\":{\"colorbar\":{\"outlinewidth\":0,\"ticks\":\"\"}}}],\"scatterpolargl\":[{\"type\":\"scatterpolargl\",\"marker\":{\"colorbar\":{\"outlinewidth\":0,\"ticks\":\"\"}}}],\"bar\":[{\"error_x\":{\"color\":\"#2a3f5f\"},\"error_y\":{\"color\":\"#2a3f5f\"},\"marker\":{\"line\":{\"color\":\"#E5ECF6\",\"width\":0.5},\"pattern\":{\"fillmode\":\"overlay\",\"size\":10,\"solidity\":0.2}},\"type\":\"bar\"}],\"scattergeo\":[{\"type\":\"scattergeo\",\"marker\":{\"colorbar\":{\"outlinewidth\":0,\"ticks\":\"\"}}}],\"scatterpolar\":[{\"type\":\"scatterpolar\",\"marker\":{\"colorbar\":{\"outlinewidth\":0,\"ticks\":\"\"}}}],\"histogram\":[{\"marker\":{\"pattern\":{\"fillmode\":\"overlay\",\"size\":10,\"solidity\":0.2}},\"type\":\"histogram\"}],\"scattergl\":[{\"type\":\"scattergl\",\"marker\":{\"colorbar\":{\"outlinewidth\":0,\"ticks\":\"\"}}}],\"scatter3d\":[{\"type\":\"scatter3d\",\"line\":{\"colorbar\":{\"outlinewidth\":0,\"ticks\":\"\"}},\"marker\":{\"colorbar\":{\"outlinewidth\":0,\"ticks\":\"\"}}}],\"scattermapbox\":[{\"type\":\"scattermapbox\",\"marker\":{\"colorbar\":{\"outlinewidth\":0,\"ticks\":\"\"}}}],\"scatterternary\":[{\"type\":\"scatterternary\",\"marker\":{\"colorbar\":{\"outlinewidth\":0,\"ticks\":\"\"}}}],\"scattercarpet\":[{\"type\":\"scattercarpet\",\"marker\":{\"colorbar\":{\"outlinewidth\":0,\"ticks\":\"\"}}}],\"carpet\":[{\"aaxis\":{\"endlinecolor\":\"#2a3f5f\",\"gridcolor\":\"white\",\"linecolor\":\"white\",\"minorgridcolor\":\"white\",\"startlinecolor\":\"#2a3f5f\"},\"baxis\":{\"endlinecolor\":\"#2a3f5f\",\"gridcolor\":\"white\",\"linecolor\":\"white\",\"minorgridcolor\":\"white\",\"startlinecolor\":\"#2a3f5f\"},\"type\":\"carpet\"}],\"table\":[{\"cells\":{\"fill\":{\"color\":\"#EBF0F8\"},\"line\":{\"color\":\"white\"}},\"header\":{\"fill\":{\"color\":\"#C8D4E3\"},\"line\":{\"color\":\"white\"}},\"type\":\"table\"}],\"barpolar\":[{\"marker\":{\"line\":{\"color\":\"#E5ECF6\",\"width\":0.5},\"pattern\":{\"fillmode\":\"overlay\",\"size\":10,\"solidity\":0.2}},\"type\":\"barpolar\"}],\"pie\":[{\"automargin\":true,\"type\":\"pie\"}]},\"layout\":{\"autotypenumbers\":\"strict\",\"colorway\":[\"#636efa\",\"#EF553B\",\"#00cc96\",\"#ab63fa\",\"#FFA15A\",\"#19d3f3\",\"#FF6692\",\"#B6E880\",\"#FF97FF\",\"#FECB52\"],\"font\":{\"color\":\"#2a3f5f\"},\"hovermode\":\"closest\",\"hoverlabel\":{\"align\":\"left\"},\"paper_bgcolor\":\"white\",\"plot_bgcolor\":\"#E5ECF6\",\"polar\":{\"bgcolor\":\"#E5ECF6\",\"angularaxis\":{\"gridcolor\":\"white\",\"linecolor\":\"white\",\"ticks\":\"\"},\"radialaxis\":{\"gridcolor\":\"white\",\"linecolor\":\"white\",\"ticks\":\"\"}},\"ternary\":{\"bgcolor\":\"#E5ECF6\",\"aaxis\":{\"gridcolor\":\"white\",\"linecolor\":\"white\",\"ticks\":\"\"},\"baxis\":{\"gridcolor\":\"white\",\"linecolor\":\"white\",\"ticks\":\"\"},\"caxis\":{\"gridcolor\":\"white\",\"linecolor\":\"white\",\"ticks\":\"\"}},\"coloraxis\":{\"colorbar\":{\"outlinewidth\":0,\"ticks\":\"\"}},\"colorscale\":{\"sequential\":[[0.0,\"#0d0887\"],[0.1111111111111111,\"#46039f\"],[0.2222222222222222,\"#7201a8\"],[0.3333333333333333,\"#9c179e\"],[0.4444444444444444,\"#bd3786\"],[0.5555555555555556,\"#d8576b\"],[0.6666666666666666,\"#ed7953\"],[0.7777777777777778,\"#fb9f3a\"],[0.8888888888888888,\"#fdca26\"],[1.0,\"#f0f921\"]],\"sequentialminus\":[[0.0,\"#0d0887\"],[0.1111111111111111,\"#46039f\"],[0.2222222222222222,\"#7201a8\"],[0.3333333333333333,\"#9c179e\"],[0.4444444444444444,\"#bd3786\"],[0.5555555555555556,\"#d8576b\"],[0.6666666666666666,\"#ed7953\"],[0.7777777777777778,\"#fb9f3a\"],[0.8888888888888888,\"#fdca26\"],[1.0,\"#f0f921\"]],\"diverging\":[[0,\"#8e0152\"],[0.1,\"#c51b7d\"],[0.2,\"#de77ae\"],[0.3,\"#f1b6da\"],[0.4,\"#fde0ef\"],[0.5,\"#f7f7f7\"],[0.6,\"#e6f5d0\"],[0.7,\"#b8e186\"],[0.8,\"#7fbc41\"],[0.9,\"#4d9221\"],[1,\"#276419\"]]},\"xaxis\":{\"gridcolor\":\"white\",\"linecolor\":\"white\",\"ticks\":\"\",\"title\":{\"standoff\":15},\"zerolinecolor\":\"white\",\"automargin\":true,\"zerolinewidth\":2},\"yaxis\":{\"gridcolor\":\"white\",\"linecolor\":\"white\",\"ticks\":\"\",\"title\":{\"standoff\":15},\"zerolinecolor\":\"white\",\"automargin\":true,\"zerolinewidth\":2},\"scene\":{\"xaxis\":{\"backgroundcolor\":\"#E5ECF6\",\"gridcolor\":\"white\",\"linecolor\":\"white\",\"showbackground\":true,\"ticks\":\"\",\"zerolinecolor\":\"white\",\"gridwidth\":2},\"yaxis\":{\"backgroundcolor\":\"#E5ECF6\",\"gridcolor\":\"white\",\"linecolor\":\"white\",\"showbackground\":true,\"ticks\":\"\",\"zerolinecolor\":\"white\",\"gridwidth\":2},\"zaxis\":{\"backgroundcolor\":\"#E5ECF6\",\"gridcolor\":\"white\",\"linecolor\":\"white\",\"showbackground\":true,\"ticks\":\"\",\"zerolinecolor\":\"white\",\"gridwidth\":2}},\"shapedefaults\":{\"line\":{\"color\":\"#2a3f5f\"}},\"annotationdefaults\":{\"arrowcolor\":\"#2a3f5f\",\"arrowhead\":0,\"arrowwidth\":1},\"geo\":{\"bgcolor\":\"white\",\"landcolor\":\"#E5ECF6\",\"subunitcolor\":\"white\",\"showland\":true,\"showlakes\":true,\"lakecolor\":\"white\"},\"title\":{\"x\":0.05},\"mapbox\":{\"style\":\"light\"}}},\"xaxis\":{\"anchor\":\"y\",\"domain\":[0.0,1.0],\"title\":{\"text\":\"Number of Items in Transaction\"}},\"yaxis\":{\"anchor\":\"x\",\"domain\":[0.0,1.0],\"title\":{\"text\":\"Frequency\"}},\"legend\":{\"tracegroupgap\":0},\"title\":{\"text\":\"Frequency of Multiple-Item Transactions\"},\"barmode\":\"relative\",\"bargap\":0.1},                        {\"responsive\": true}                    ).then(function(){\n",
       "                            \n",
       "var gd = document.getElementById('3538aca8-2ed5-4dd5-8352-7a1faa8c7bd6');\n",
       "var x = new MutationObserver(function (mutations, observer) {{\n",
       "        var display = window.getComputedStyle(gd).display;\n",
       "        if (!display || display === 'none') {{\n",
       "            console.log([gd, 'removed!']);\n",
       "            Plotly.purge(gd);\n",
       "            observer.disconnect();\n",
       "        }}\n",
       "}});\n",
       "\n",
       "// Listen for the removal of the full notebook cells\n",
       "var notebookContainer = gd.closest('#notebook-container');\n",
       "if (notebookContainer) {{\n",
       "    x.observe(notebookContainer, {childList: true});\n",
       "}}\n",
       "\n",
       "// Listen for the clearing of the current output cell\n",
       "var outputEl = gd.closest('.output');\n",
       "if (outputEl) {{\n",
       "    x.observe(outputEl, {childList: true});\n",
       "}}\n",
       "\n",
       "                        })                };                });            </script>        </div>"
      ]
     },
     "metadata": {},
     "output_type": "display_data"
    }
   ],
   "source": [
    "import plotly.express as px\n",
    "\n",
    "fig = px.histogram(transaction_counts, x='row_count', title='Frequency of Multiple-Item Transactions')\n",
    "fig.update_layout(\n",
    "    xaxis_title='Number of Items in Transaction',\n",
    "    yaxis_title='Frequency',\n",
    "    bargap=0.1  # Adjust the gap between bars\n",
    ")\n",
    "fig.show()"
   ]
  },
  {
   "cell_type": "markdown",
   "id": "77174eb7",
   "metadata": {},
   "source": [
    "## Customer segmentation"
   ]
  },
  {
   "cell_type": "code",
   "execution_count": 165,
   "id": "7a8a5d17",
   "metadata": {},
   "outputs": [],
   "source": [
    "from datetime import datetime\n",
    "\n",
    "# Calculate age\n",
    "current_year = datetime.now().year\n",
    "df['age'] = current_year - df['birthdate'].dt.year\n",
    "\n",
    "# Create age groups\n",
    "bins = [0, 18, 25, 35, 45, 55, 65, 100]  # Adjust the age groups as needed\n",
    "labels = ['0-18', '19-25', '26-35', '36-45', '46-55', '56-65', '66+']\n",
    "df['age_group'] = pd.cut(df['age'], bins=bins, labels=labels, right=False)"
   ]
  },
  {
   "cell_type": "code",
   "execution_count": 166,
   "id": "0d554a49",
   "metadata": {},
   "outputs": [
    {
     "data": {
      "text/html": [
       "<div>\n",
       "<style scoped>\n",
       "    .dataframe tbody tr th:only-of-type {\n",
       "        vertical-align: middle;\n",
       "    }\n",
       "\n",
       "    .dataframe tbody tr th {\n",
       "        vertical-align: top;\n",
       "    }\n",
       "\n",
       "    .dataframe thead th {\n",
       "        text-align: right;\n",
       "    }\n",
       "</style>\n",
       "<table border=\"1\" class=\"dataframe\">\n",
       "  <thead>\n",
       "    <tr style=\"text-align: right;\">\n",
       "      <th></th>\n",
       "      <th>transaction_id</th>\n",
       "      <th>transaction_date</th>\n",
       "      <th>Hours</th>\n",
       "      <th>Minutes</th>\n",
       "      <th>Seconds</th>\n",
       "      <th>sales_outlet_id</th>\n",
       "      <th>staff_id</th>\n",
       "      <th>customer_id</th>\n",
       "      <th>instore_yn</th>\n",
       "      <th>order</th>\n",
       "      <th>...</th>\n",
       "      <th>line_item_amount</th>\n",
       "      <th>unit_price</th>\n",
       "      <th>promo_item_yn</th>\n",
       "      <th>home_store</th>\n",
       "      <th>customer_since</th>\n",
       "      <th>birthdate</th>\n",
       "      <th>gender</th>\n",
       "      <th>birth_year</th>\n",
       "      <th>age</th>\n",
       "      <th>age_group</th>\n",
       "    </tr>\n",
       "  </thead>\n",
       "  <tbody>\n",
       "    <tr>\n",
       "      <th>0</th>\n",
       "      <td>7</td>\n",
       "      <td>2019-04-01</td>\n",
       "      <td>12</td>\n",
       "      <td>4</td>\n",
       "      <td>43</td>\n",
       "      <td>3</td>\n",
       "      <td>12</td>\n",
       "      <td>558</td>\n",
       "      <td>0.0</td>\n",
       "      <td>1</td>\n",
       "      <td>...</td>\n",
       "      <td>2.50</td>\n",
       "      <td>2.50</td>\n",
       "      <td>0</td>\n",
       "      <td>3</td>\n",
       "      <td>2018-06-19</td>\n",
       "      <td>1983-02-25</td>\n",
       "      <td>1.0</td>\n",
       "      <td>1983</td>\n",
       "      <td>40</td>\n",
       "      <td>36-45</td>\n",
       "    </tr>\n",
       "    <tr>\n",
       "      <th>1</th>\n",
       "      <td>1539</td>\n",
       "      <td>2019-04-01</td>\n",
       "      <td>16</td>\n",
       "      <td>49</td>\n",
       "      <td>47</td>\n",
       "      <td>3</td>\n",
       "      <td>12</td>\n",
       "      <td>558</td>\n",
       "      <td>0.0</td>\n",
       "      <td>1</td>\n",
       "      <td>...</td>\n",
       "      <td>2.50</td>\n",
       "      <td>2.50</td>\n",
       "      <td>0</td>\n",
       "      <td>3</td>\n",
       "      <td>2018-06-19</td>\n",
       "      <td>1983-02-25</td>\n",
       "      <td>1.0</td>\n",
       "      <td>1983</td>\n",
       "      <td>40</td>\n",
       "      <td>36-45</td>\n",
       "    </tr>\n",
       "    <tr>\n",
       "      <th>2</th>\n",
       "      <td>2188</td>\n",
       "      <td>2019-04-01</td>\n",
       "      <td>15</td>\n",
       "      <td>1</td>\n",
       "      <td>2</td>\n",
       "      <td>3</td>\n",
       "      <td>17</td>\n",
       "      <td>558</td>\n",
       "      <td>1.0</td>\n",
       "      <td>1</td>\n",
       "      <td>...</td>\n",
       "      <td>5.00</td>\n",
       "      <td>2.50</td>\n",
       "      <td>0</td>\n",
       "      <td>3</td>\n",
       "      <td>2018-06-19</td>\n",
       "      <td>1983-02-25</td>\n",
       "      <td>1.0</td>\n",
       "      <td>1983</td>\n",
       "      <td>40</td>\n",
       "      <td>36-45</td>\n",
       "    </tr>\n",
       "    <tr>\n",
       "      <th>3</th>\n",
       "      <td>78</td>\n",
       "      <td>2019-04-02</td>\n",
       "      <td>15</td>\n",
       "      <td>24</td>\n",
       "      <td>16</td>\n",
       "      <td>3</td>\n",
       "      <td>17</td>\n",
       "      <td>558</td>\n",
       "      <td>0.0</td>\n",
       "      <td>1</td>\n",
       "      <td>...</td>\n",
       "      <td>3.75</td>\n",
       "      <td>3.75</td>\n",
       "      <td>0</td>\n",
       "      <td>3</td>\n",
       "      <td>2018-06-19</td>\n",
       "      <td>1983-02-25</td>\n",
       "      <td>1.0</td>\n",
       "      <td>1983</td>\n",
       "      <td>40</td>\n",
       "      <td>36-45</td>\n",
       "    </tr>\n",
       "    <tr>\n",
       "      <th>4</th>\n",
       "      <td>14</td>\n",
       "      <td>2019-04-03</td>\n",
       "      <td>19</td>\n",
       "      <td>45</td>\n",
       "      <td>56</td>\n",
       "      <td>3</td>\n",
       "      <td>12</td>\n",
       "      <td>558</td>\n",
       "      <td>0.0</td>\n",
       "      <td>1</td>\n",
       "      <td>...</td>\n",
       "      <td>3.00</td>\n",
       "      <td>3.00</td>\n",
       "      <td>0</td>\n",
       "      <td>3</td>\n",
       "      <td>2018-06-19</td>\n",
       "      <td>1983-02-25</td>\n",
       "      <td>1.0</td>\n",
       "      <td>1983</td>\n",
       "      <td>40</td>\n",
       "      <td>36-45</td>\n",
       "    </tr>\n",
       "  </tbody>\n",
       "</table>\n",
       "<p>5 rows × 23 columns</p>\n",
       "</div>"
      ],
      "text/plain": [
       "   transaction_id transaction_date  Hours  Minutes  Seconds  sales_outlet_id  \\\n",
       "0               7       2019-04-01     12        4       43                3   \n",
       "1            1539       2019-04-01     16       49       47                3   \n",
       "2            2188       2019-04-01     15        1        2                3   \n",
       "3              78       2019-04-02     15       24       16                3   \n",
       "4              14       2019-04-03     19       45       56                3   \n",
       "\n",
       "   staff_id  customer_id  instore_yn  order  ...  line_item_amount  \\\n",
       "0        12          558         0.0      1  ...              2.50   \n",
       "1        12          558         0.0      1  ...              2.50   \n",
       "2        17          558         1.0      1  ...              5.00   \n",
       "3        17          558         0.0      1  ...              3.75   \n",
       "4        12          558         0.0      1  ...              3.00   \n",
       "\n",
       "   unit_price  promo_item_yn  home_store  customer_since  birthdate  gender  \\\n",
       "0        2.50              0           3      2018-06-19 1983-02-25     1.0   \n",
       "1        2.50              0           3      2018-06-19 1983-02-25     1.0   \n",
       "2        2.50              0           3      2018-06-19 1983-02-25     1.0   \n",
       "3        3.75              0           3      2018-06-19 1983-02-25     1.0   \n",
       "4        3.00              0           3      2018-06-19 1983-02-25     1.0   \n",
       "\n",
       "  birth_year age  age_group  \n",
       "0       1983  40      36-45  \n",
       "1       1983  40      36-45  \n",
       "2       1983  40      36-45  \n",
       "3       1983  40      36-45  \n",
       "4       1983  40      36-45  \n",
       "\n",
       "[5 rows x 23 columns]"
      ]
     },
     "execution_count": 166,
     "metadata": {},
     "output_type": "execute_result"
    }
   ],
   "source": [
    "df.head()"
   ]
  },
  {
   "cell_type": "code",
   "execution_count": 167,
   "id": "d138c6f6",
   "metadata": {},
   "outputs": [],
   "source": [
    "# Segment by gender, age group, and order size\n",
    "segmented_df = df.groupby(['gender', 'age_group', 'order']).size().reset_index(name='customer_count')"
   ]
  },
  {
   "cell_type": "code",
   "execution_count": 176,
   "id": "f7feb7ce",
   "metadata": {
    "scrolled": false
   },
   "outputs": [
    {
     "name": "stdout",
     "output_type": "stream",
     "text": [
      "   age_group  gender  order_count\n",
      "0       0-18  Female            0\n",
      "1       0-18    Male            0\n",
      "2      19-25  Female          578\n",
      "3      19-25    Male          241\n",
      "4      26-35  Female         2185\n",
      "5      26-35    Male         1586\n",
      "6      36-45  Female         2126\n",
      "7      36-45    Male         1595\n",
      "8      46-55  Female         2013\n",
      "9      46-55    Male         1477\n",
      "10     56-65  Female         2155\n",
      "11     56-65    Male         1779\n",
      "12       66+  Female         1794\n",
      "13       66+    Male         1544\n"
     ]
    }
   ],
   "source": [
    "# Create a copy of the original DataFrame\n",
    "df_copy = df.copy()\n",
    "\n",
    "# Convert numeric gender values to strings\n",
    "df_copy['gender'] = df_copy['gender'].map({0: 'Male', 1: 'Female'})\n",
    "\n",
    "# Group by age group and gender, and count the number of orders in each group\n",
    "segmented_df = df_copy.groupby(['age_group', 'gender'])['order'].count().reset_index(name='order_count')\n",
    "\n",
    "# Display the result\n",
    "print(segmented_df)"
   ]
  },
  {
   "cell_type": "code",
   "execution_count": 182,
   "id": "594a0ccb",
   "metadata": {},
   "outputs": [
    {
     "data": {
      "application/vnd.plotly.v1+json": {
       "config": {
        "plotlyServerURL": "https://plot.ly"
       },
       "data": [
        {
         "alignmentgroup": "True",
         "hovertemplate": "gender=Female<br>order_count=%{x}<br>age_group=%{y}<extra></extra>",
         "legendgroup": "Female",
         "marker": {
          "color": "lightcoral",
          "pattern": {
           "shape": ""
          }
         },
         "name": "Female",
         "offsetgroup": "Female",
         "orientation": "h",
         "showlegend": true,
         "textposition": "auto",
         "type": "bar",
         "x": [
          0,
          578,
          2185,
          2126,
          2013,
          2155,
          1794
         ],
         "xaxis": "x",
         "y": [
          "0-18",
          "19-25",
          "26-35",
          "36-45",
          "46-55",
          "56-65",
          "66+"
         ],
         "yaxis": "y"
        },
        {
         "alignmentgroup": "True",
         "hovertemplate": "gender=Male<br>order_count=%{x}<br>age_group=%{y}<extra></extra>",
         "legendgroup": "Male",
         "marker": {
          "color": "cornflowerblue",
          "pattern": {
           "shape": ""
          }
         },
         "name": "Male",
         "offsetgroup": "Male",
         "orientation": "h",
         "showlegend": true,
         "textposition": "auto",
         "type": "bar",
         "x": [
          0,
          241,
          1586,
          1595,
          1477,
          1779,
          1544
         ],
         "xaxis": "x",
         "y": [
          "0-18",
          "19-25",
          "26-35",
          "36-45",
          "46-55",
          "56-65",
          "66+"
         ],
         "yaxis": "y"
        }
       ],
       "layout": {
        "barmode": "group",
        "legend": {
         "title": {
          "text": "gender"
         },
         "tracegroupgap": 0
        },
        "margin": {
         "t": 60
        },
        "template": {
         "data": {
          "bar": [
           {
            "error_x": {
             "color": "#2a3f5f"
            },
            "error_y": {
             "color": "#2a3f5f"
            },
            "marker": {
             "line": {
              "color": "#E5ECF6",
              "width": 0.5
             },
             "pattern": {
              "fillmode": "overlay",
              "size": 10,
              "solidity": 0.2
             }
            },
            "type": "bar"
           }
          ],
          "barpolar": [
           {
            "marker": {
             "line": {
              "color": "#E5ECF6",
              "width": 0.5
             },
             "pattern": {
              "fillmode": "overlay",
              "size": 10,
              "solidity": 0.2
             }
            },
            "type": "barpolar"
           }
          ],
          "carpet": [
           {
            "aaxis": {
             "endlinecolor": "#2a3f5f",
             "gridcolor": "white",
             "linecolor": "white",
             "minorgridcolor": "white",
             "startlinecolor": "#2a3f5f"
            },
            "baxis": {
             "endlinecolor": "#2a3f5f",
             "gridcolor": "white",
             "linecolor": "white",
             "minorgridcolor": "white",
             "startlinecolor": "#2a3f5f"
            },
            "type": "carpet"
           }
          ],
          "choropleth": [
           {
            "colorbar": {
             "outlinewidth": 0,
             "ticks": ""
            },
            "type": "choropleth"
           }
          ],
          "contour": [
           {
            "colorbar": {
             "outlinewidth": 0,
             "ticks": ""
            },
            "colorscale": [
             [
              0,
              "#0d0887"
             ],
             [
              0.1111111111111111,
              "#46039f"
             ],
             [
              0.2222222222222222,
              "#7201a8"
             ],
             [
              0.3333333333333333,
              "#9c179e"
             ],
             [
              0.4444444444444444,
              "#bd3786"
             ],
             [
              0.5555555555555556,
              "#d8576b"
             ],
             [
              0.6666666666666666,
              "#ed7953"
             ],
             [
              0.7777777777777778,
              "#fb9f3a"
             ],
             [
              0.8888888888888888,
              "#fdca26"
             ],
             [
              1,
              "#f0f921"
             ]
            ],
            "type": "contour"
           }
          ],
          "contourcarpet": [
           {
            "colorbar": {
             "outlinewidth": 0,
             "ticks": ""
            },
            "type": "contourcarpet"
           }
          ],
          "heatmap": [
           {
            "colorbar": {
             "outlinewidth": 0,
             "ticks": ""
            },
            "colorscale": [
             [
              0,
              "#0d0887"
             ],
             [
              0.1111111111111111,
              "#46039f"
             ],
             [
              0.2222222222222222,
              "#7201a8"
             ],
             [
              0.3333333333333333,
              "#9c179e"
             ],
             [
              0.4444444444444444,
              "#bd3786"
             ],
             [
              0.5555555555555556,
              "#d8576b"
             ],
             [
              0.6666666666666666,
              "#ed7953"
             ],
             [
              0.7777777777777778,
              "#fb9f3a"
             ],
             [
              0.8888888888888888,
              "#fdca26"
             ],
             [
              1,
              "#f0f921"
             ]
            ],
            "type": "heatmap"
           }
          ],
          "heatmapgl": [
           {
            "colorbar": {
             "outlinewidth": 0,
             "ticks": ""
            },
            "colorscale": [
             [
              0,
              "#0d0887"
             ],
             [
              0.1111111111111111,
              "#46039f"
             ],
             [
              0.2222222222222222,
              "#7201a8"
             ],
             [
              0.3333333333333333,
              "#9c179e"
             ],
             [
              0.4444444444444444,
              "#bd3786"
             ],
             [
              0.5555555555555556,
              "#d8576b"
             ],
             [
              0.6666666666666666,
              "#ed7953"
             ],
             [
              0.7777777777777778,
              "#fb9f3a"
             ],
             [
              0.8888888888888888,
              "#fdca26"
             ],
             [
              1,
              "#f0f921"
             ]
            ],
            "type": "heatmapgl"
           }
          ],
          "histogram": [
           {
            "marker": {
             "pattern": {
              "fillmode": "overlay",
              "size": 10,
              "solidity": 0.2
             }
            },
            "type": "histogram"
           }
          ],
          "histogram2d": [
           {
            "colorbar": {
             "outlinewidth": 0,
             "ticks": ""
            },
            "colorscale": [
             [
              0,
              "#0d0887"
             ],
             [
              0.1111111111111111,
              "#46039f"
             ],
             [
              0.2222222222222222,
              "#7201a8"
             ],
             [
              0.3333333333333333,
              "#9c179e"
             ],
             [
              0.4444444444444444,
              "#bd3786"
             ],
             [
              0.5555555555555556,
              "#d8576b"
             ],
             [
              0.6666666666666666,
              "#ed7953"
             ],
             [
              0.7777777777777778,
              "#fb9f3a"
             ],
             [
              0.8888888888888888,
              "#fdca26"
             ],
             [
              1,
              "#f0f921"
             ]
            ],
            "type": "histogram2d"
           }
          ],
          "histogram2dcontour": [
           {
            "colorbar": {
             "outlinewidth": 0,
             "ticks": ""
            },
            "colorscale": [
             [
              0,
              "#0d0887"
             ],
             [
              0.1111111111111111,
              "#46039f"
             ],
             [
              0.2222222222222222,
              "#7201a8"
             ],
             [
              0.3333333333333333,
              "#9c179e"
             ],
             [
              0.4444444444444444,
              "#bd3786"
             ],
             [
              0.5555555555555556,
              "#d8576b"
             ],
             [
              0.6666666666666666,
              "#ed7953"
             ],
             [
              0.7777777777777778,
              "#fb9f3a"
             ],
             [
              0.8888888888888888,
              "#fdca26"
             ],
             [
              1,
              "#f0f921"
             ]
            ],
            "type": "histogram2dcontour"
           }
          ],
          "mesh3d": [
           {
            "colorbar": {
             "outlinewidth": 0,
             "ticks": ""
            },
            "type": "mesh3d"
           }
          ],
          "parcoords": [
           {
            "line": {
             "colorbar": {
              "outlinewidth": 0,
              "ticks": ""
             }
            },
            "type": "parcoords"
           }
          ],
          "pie": [
           {
            "automargin": true,
            "type": "pie"
           }
          ],
          "scatter": [
           {
            "fillpattern": {
             "fillmode": "overlay",
             "size": 10,
             "solidity": 0.2
            },
            "type": "scatter"
           }
          ],
          "scatter3d": [
           {
            "line": {
             "colorbar": {
              "outlinewidth": 0,
              "ticks": ""
             }
            },
            "marker": {
             "colorbar": {
              "outlinewidth": 0,
              "ticks": ""
             }
            },
            "type": "scatter3d"
           }
          ],
          "scattercarpet": [
           {
            "marker": {
             "colorbar": {
              "outlinewidth": 0,
              "ticks": ""
             }
            },
            "type": "scattercarpet"
           }
          ],
          "scattergeo": [
           {
            "marker": {
             "colorbar": {
              "outlinewidth": 0,
              "ticks": ""
             }
            },
            "type": "scattergeo"
           }
          ],
          "scattergl": [
           {
            "marker": {
             "colorbar": {
              "outlinewidth": 0,
              "ticks": ""
             }
            },
            "type": "scattergl"
           }
          ],
          "scattermapbox": [
           {
            "marker": {
             "colorbar": {
              "outlinewidth": 0,
              "ticks": ""
             }
            },
            "type": "scattermapbox"
           }
          ],
          "scatterpolar": [
           {
            "marker": {
             "colorbar": {
              "outlinewidth": 0,
              "ticks": ""
             }
            },
            "type": "scatterpolar"
           }
          ],
          "scatterpolargl": [
           {
            "marker": {
             "colorbar": {
              "outlinewidth": 0,
              "ticks": ""
             }
            },
            "type": "scatterpolargl"
           }
          ],
          "scatterternary": [
           {
            "marker": {
             "colorbar": {
              "outlinewidth": 0,
              "ticks": ""
             }
            },
            "type": "scatterternary"
           }
          ],
          "surface": [
           {
            "colorbar": {
             "outlinewidth": 0,
             "ticks": ""
            },
            "colorscale": [
             [
              0,
              "#0d0887"
             ],
             [
              0.1111111111111111,
              "#46039f"
             ],
             [
              0.2222222222222222,
              "#7201a8"
             ],
             [
              0.3333333333333333,
              "#9c179e"
             ],
             [
              0.4444444444444444,
              "#bd3786"
             ],
             [
              0.5555555555555556,
              "#d8576b"
             ],
             [
              0.6666666666666666,
              "#ed7953"
             ],
             [
              0.7777777777777778,
              "#fb9f3a"
             ],
             [
              0.8888888888888888,
              "#fdca26"
             ],
             [
              1,
              "#f0f921"
             ]
            ],
            "type": "surface"
           }
          ],
          "table": [
           {
            "cells": {
             "fill": {
              "color": "#EBF0F8"
             },
             "line": {
              "color": "white"
             }
            },
            "header": {
             "fill": {
              "color": "#C8D4E3"
             },
             "line": {
              "color": "white"
             }
            },
            "type": "table"
           }
          ]
         },
         "layout": {
          "annotationdefaults": {
           "arrowcolor": "#2a3f5f",
           "arrowhead": 0,
           "arrowwidth": 1
          },
          "autotypenumbers": "strict",
          "coloraxis": {
           "colorbar": {
            "outlinewidth": 0,
            "ticks": ""
           }
          },
          "colorscale": {
           "diverging": [
            [
             0,
             "#8e0152"
            ],
            [
             0.1,
             "#c51b7d"
            ],
            [
             0.2,
             "#de77ae"
            ],
            [
             0.3,
             "#f1b6da"
            ],
            [
             0.4,
             "#fde0ef"
            ],
            [
             0.5,
             "#f7f7f7"
            ],
            [
             0.6,
             "#e6f5d0"
            ],
            [
             0.7,
             "#b8e186"
            ],
            [
             0.8,
             "#7fbc41"
            ],
            [
             0.9,
             "#4d9221"
            ],
            [
             1,
             "#276419"
            ]
           ],
           "sequential": [
            [
             0,
             "#0d0887"
            ],
            [
             0.1111111111111111,
             "#46039f"
            ],
            [
             0.2222222222222222,
             "#7201a8"
            ],
            [
             0.3333333333333333,
             "#9c179e"
            ],
            [
             0.4444444444444444,
             "#bd3786"
            ],
            [
             0.5555555555555556,
             "#d8576b"
            ],
            [
             0.6666666666666666,
             "#ed7953"
            ],
            [
             0.7777777777777778,
             "#fb9f3a"
            ],
            [
             0.8888888888888888,
             "#fdca26"
            ],
            [
             1,
             "#f0f921"
            ]
           ],
           "sequentialminus": [
            [
             0,
             "#0d0887"
            ],
            [
             0.1111111111111111,
             "#46039f"
            ],
            [
             0.2222222222222222,
             "#7201a8"
            ],
            [
             0.3333333333333333,
             "#9c179e"
            ],
            [
             0.4444444444444444,
             "#bd3786"
            ],
            [
             0.5555555555555556,
             "#d8576b"
            ],
            [
             0.6666666666666666,
             "#ed7953"
            ],
            [
             0.7777777777777778,
             "#fb9f3a"
            ],
            [
             0.8888888888888888,
             "#fdca26"
            ],
            [
             1,
             "#f0f921"
            ]
           ]
          },
          "colorway": [
           "#636efa",
           "#EF553B",
           "#00cc96",
           "#ab63fa",
           "#FFA15A",
           "#19d3f3",
           "#FF6692",
           "#B6E880",
           "#FF97FF",
           "#FECB52"
          ],
          "font": {
           "color": "#2a3f5f"
          },
          "geo": {
           "bgcolor": "white",
           "lakecolor": "white",
           "landcolor": "#E5ECF6",
           "showlakes": true,
           "showland": true,
           "subunitcolor": "white"
          },
          "hoverlabel": {
           "align": "left"
          },
          "hovermode": "closest",
          "mapbox": {
           "style": "light"
          },
          "paper_bgcolor": "white",
          "plot_bgcolor": "#E5ECF6",
          "polar": {
           "angularaxis": {
            "gridcolor": "white",
            "linecolor": "white",
            "ticks": ""
           },
           "bgcolor": "#E5ECF6",
           "radialaxis": {
            "gridcolor": "white",
            "linecolor": "white",
            "ticks": ""
           }
          },
          "scene": {
           "xaxis": {
            "backgroundcolor": "#E5ECF6",
            "gridcolor": "white",
            "gridwidth": 2,
            "linecolor": "white",
            "showbackground": true,
            "ticks": "",
            "zerolinecolor": "white"
           },
           "yaxis": {
            "backgroundcolor": "#E5ECF6",
            "gridcolor": "white",
            "gridwidth": 2,
            "linecolor": "white",
            "showbackground": true,
            "ticks": "",
            "zerolinecolor": "white"
           },
           "zaxis": {
            "backgroundcolor": "#E5ECF6",
            "gridcolor": "white",
            "gridwidth": 2,
            "linecolor": "white",
            "showbackground": true,
            "ticks": "",
            "zerolinecolor": "white"
           }
          },
          "shapedefaults": {
           "line": {
            "color": "#2a3f5f"
           }
          },
          "ternary": {
           "aaxis": {
            "gridcolor": "white",
            "linecolor": "white",
            "ticks": ""
           },
           "baxis": {
            "gridcolor": "white",
            "linecolor": "white",
            "ticks": ""
           },
           "bgcolor": "#E5ECF6",
           "caxis": {
            "gridcolor": "white",
            "linecolor": "white",
            "ticks": ""
           }
          },
          "title": {
           "x": 0.05
          },
          "xaxis": {
           "automargin": true,
           "gridcolor": "white",
           "linecolor": "white",
           "ticks": "",
           "title": {
            "standoff": 15
           },
           "zerolinecolor": "white",
           "zerolinewidth": 2
          },
          "yaxis": {
           "automargin": true,
           "gridcolor": "white",
           "linecolor": "white",
           "ticks": "",
           "title": {
            "standoff": 15
           },
           "zerolinecolor": "white",
           "zerolinewidth": 2
          }
         }
        },
        "title": {
         "text": "Order Count by Age Group and Gender"
        },
        "xaxis": {
         "anchor": "y",
         "domain": [
          0,
          1
         ],
         "title": {
          "text": "Order Count"
         }
        },
        "yaxis": {
         "anchor": "x",
         "categoryarray": [
          "66+",
          "56-65",
          "46-55",
          "36-45",
          "26-35",
          "19-25",
          "0-18"
         ],
         "categoryorder": "array",
         "domain": [
          0,
          1
         ],
         "title": {
          "text": "Age Group"
         }
        }
       }
      },
      "text/html": [
       "<div>                            <div id=\"2079885b-05a8-4889-9d1f-78d4f79d10e4\" class=\"plotly-graph-div\" style=\"height:525px; width:100%;\"></div>            <script type=\"text/javascript\">                require([\"plotly\"], function(Plotly) {                    window.PLOTLYENV=window.PLOTLYENV || {};                                    if (document.getElementById(\"2079885b-05a8-4889-9d1f-78d4f79d10e4\")) {                    Plotly.newPlot(                        \"2079885b-05a8-4889-9d1f-78d4f79d10e4\",                        [{\"alignmentgroup\":\"True\",\"hovertemplate\":\"gender=Female<br>order_count=%{x}<br>age_group=%{y}<extra></extra>\",\"legendgroup\":\"Female\",\"marker\":{\"color\":\"lightcoral\",\"pattern\":{\"shape\":\"\"}},\"name\":\"Female\",\"offsetgroup\":\"Female\",\"orientation\":\"h\",\"showlegend\":true,\"textposition\":\"auto\",\"x\":[0,578,2185,2126,2013,2155,1794],\"xaxis\":\"x\",\"y\":[\"0-18\",\"19-25\",\"26-35\",\"36-45\",\"46-55\",\"56-65\",\"66+\"],\"yaxis\":\"y\",\"type\":\"bar\"},{\"alignmentgroup\":\"True\",\"hovertemplate\":\"gender=Male<br>order_count=%{x}<br>age_group=%{y}<extra></extra>\",\"legendgroup\":\"Male\",\"marker\":{\"color\":\"cornflowerblue\",\"pattern\":{\"shape\":\"\"}},\"name\":\"Male\",\"offsetgroup\":\"Male\",\"orientation\":\"h\",\"showlegend\":true,\"textposition\":\"auto\",\"x\":[0,241,1586,1595,1477,1779,1544],\"xaxis\":\"x\",\"y\":[\"0-18\",\"19-25\",\"26-35\",\"36-45\",\"46-55\",\"56-65\",\"66+\"],\"yaxis\":\"y\",\"type\":\"bar\"}],                        {\"template\":{\"data\":{\"histogram2dcontour\":[{\"type\":\"histogram2dcontour\",\"colorbar\":{\"outlinewidth\":0,\"ticks\":\"\"},\"colorscale\":[[0.0,\"#0d0887\"],[0.1111111111111111,\"#46039f\"],[0.2222222222222222,\"#7201a8\"],[0.3333333333333333,\"#9c179e\"],[0.4444444444444444,\"#bd3786\"],[0.5555555555555556,\"#d8576b\"],[0.6666666666666666,\"#ed7953\"],[0.7777777777777778,\"#fb9f3a\"],[0.8888888888888888,\"#fdca26\"],[1.0,\"#f0f921\"]]}],\"choropleth\":[{\"type\":\"choropleth\",\"colorbar\":{\"outlinewidth\":0,\"ticks\":\"\"}}],\"histogram2d\":[{\"type\":\"histogram2d\",\"colorbar\":{\"outlinewidth\":0,\"ticks\":\"\"},\"colorscale\":[[0.0,\"#0d0887\"],[0.1111111111111111,\"#46039f\"],[0.2222222222222222,\"#7201a8\"],[0.3333333333333333,\"#9c179e\"],[0.4444444444444444,\"#bd3786\"],[0.5555555555555556,\"#d8576b\"],[0.6666666666666666,\"#ed7953\"],[0.7777777777777778,\"#fb9f3a\"],[0.8888888888888888,\"#fdca26\"],[1.0,\"#f0f921\"]]}],\"heatmap\":[{\"type\":\"heatmap\",\"colorbar\":{\"outlinewidth\":0,\"ticks\":\"\"},\"colorscale\":[[0.0,\"#0d0887\"],[0.1111111111111111,\"#46039f\"],[0.2222222222222222,\"#7201a8\"],[0.3333333333333333,\"#9c179e\"],[0.4444444444444444,\"#bd3786\"],[0.5555555555555556,\"#d8576b\"],[0.6666666666666666,\"#ed7953\"],[0.7777777777777778,\"#fb9f3a\"],[0.8888888888888888,\"#fdca26\"],[1.0,\"#f0f921\"]]}],\"heatmapgl\":[{\"type\":\"heatmapgl\",\"colorbar\":{\"outlinewidth\":0,\"ticks\":\"\"},\"colorscale\":[[0.0,\"#0d0887\"],[0.1111111111111111,\"#46039f\"],[0.2222222222222222,\"#7201a8\"],[0.3333333333333333,\"#9c179e\"],[0.4444444444444444,\"#bd3786\"],[0.5555555555555556,\"#d8576b\"],[0.6666666666666666,\"#ed7953\"],[0.7777777777777778,\"#fb9f3a\"],[0.8888888888888888,\"#fdca26\"],[1.0,\"#f0f921\"]]}],\"contourcarpet\":[{\"type\":\"contourcarpet\",\"colorbar\":{\"outlinewidth\":0,\"ticks\":\"\"}}],\"contour\":[{\"type\":\"contour\",\"colorbar\":{\"outlinewidth\":0,\"ticks\":\"\"},\"colorscale\":[[0.0,\"#0d0887\"],[0.1111111111111111,\"#46039f\"],[0.2222222222222222,\"#7201a8\"],[0.3333333333333333,\"#9c179e\"],[0.4444444444444444,\"#bd3786\"],[0.5555555555555556,\"#d8576b\"],[0.6666666666666666,\"#ed7953\"],[0.7777777777777778,\"#fb9f3a\"],[0.8888888888888888,\"#fdca26\"],[1.0,\"#f0f921\"]]}],\"surface\":[{\"type\":\"surface\",\"colorbar\":{\"outlinewidth\":0,\"ticks\":\"\"},\"colorscale\":[[0.0,\"#0d0887\"],[0.1111111111111111,\"#46039f\"],[0.2222222222222222,\"#7201a8\"],[0.3333333333333333,\"#9c179e\"],[0.4444444444444444,\"#bd3786\"],[0.5555555555555556,\"#d8576b\"],[0.6666666666666666,\"#ed7953\"],[0.7777777777777778,\"#fb9f3a\"],[0.8888888888888888,\"#fdca26\"],[1.0,\"#f0f921\"]]}],\"mesh3d\":[{\"type\":\"mesh3d\",\"colorbar\":{\"outlinewidth\":0,\"ticks\":\"\"}}],\"scatter\":[{\"fillpattern\":{\"fillmode\":\"overlay\",\"size\":10,\"solidity\":0.2},\"type\":\"scatter\"}],\"parcoords\":[{\"type\":\"parcoords\",\"line\":{\"colorbar\":{\"outlinewidth\":0,\"ticks\":\"\"}}}],\"scatterpolargl\":[{\"type\":\"scatterpolargl\",\"marker\":{\"colorbar\":{\"outlinewidth\":0,\"ticks\":\"\"}}}],\"bar\":[{\"error_x\":{\"color\":\"#2a3f5f\"},\"error_y\":{\"color\":\"#2a3f5f\"},\"marker\":{\"line\":{\"color\":\"#E5ECF6\",\"width\":0.5},\"pattern\":{\"fillmode\":\"overlay\",\"size\":10,\"solidity\":0.2}},\"type\":\"bar\"}],\"scattergeo\":[{\"type\":\"scattergeo\",\"marker\":{\"colorbar\":{\"outlinewidth\":0,\"ticks\":\"\"}}}],\"scatterpolar\":[{\"type\":\"scatterpolar\",\"marker\":{\"colorbar\":{\"outlinewidth\":0,\"ticks\":\"\"}}}],\"histogram\":[{\"marker\":{\"pattern\":{\"fillmode\":\"overlay\",\"size\":10,\"solidity\":0.2}},\"type\":\"histogram\"}],\"scattergl\":[{\"type\":\"scattergl\",\"marker\":{\"colorbar\":{\"outlinewidth\":0,\"ticks\":\"\"}}}],\"scatter3d\":[{\"type\":\"scatter3d\",\"line\":{\"colorbar\":{\"outlinewidth\":0,\"ticks\":\"\"}},\"marker\":{\"colorbar\":{\"outlinewidth\":0,\"ticks\":\"\"}}}],\"scattermapbox\":[{\"type\":\"scattermapbox\",\"marker\":{\"colorbar\":{\"outlinewidth\":0,\"ticks\":\"\"}}}],\"scatterternary\":[{\"type\":\"scatterternary\",\"marker\":{\"colorbar\":{\"outlinewidth\":0,\"ticks\":\"\"}}}],\"scattercarpet\":[{\"type\":\"scattercarpet\",\"marker\":{\"colorbar\":{\"outlinewidth\":0,\"ticks\":\"\"}}}],\"carpet\":[{\"aaxis\":{\"endlinecolor\":\"#2a3f5f\",\"gridcolor\":\"white\",\"linecolor\":\"white\",\"minorgridcolor\":\"white\",\"startlinecolor\":\"#2a3f5f\"},\"baxis\":{\"endlinecolor\":\"#2a3f5f\",\"gridcolor\":\"white\",\"linecolor\":\"white\",\"minorgridcolor\":\"white\",\"startlinecolor\":\"#2a3f5f\"},\"type\":\"carpet\"}],\"table\":[{\"cells\":{\"fill\":{\"color\":\"#EBF0F8\"},\"line\":{\"color\":\"white\"}},\"header\":{\"fill\":{\"color\":\"#C8D4E3\"},\"line\":{\"color\":\"white\"}},\"type\":\"table\"}],\"barpolar\":[{\"marker\":{\"line\":{\"color\":\"#E5ECF6\",\"width\":0.5},\"pattern\":{\"fillmode\":\"overlay\",\"size\":10,\"solidity\":0.2}},\"type\":\"barpolar\"}],\"pie\":[{\"automargin\":true,\"type\":\"pie\"}]},\"layout\":{\"autotypenumbers\":\"strict\",\"colorway\":[\"#636efa\",\"#EF553B\",\"#00cc96\",\"#ab63fa\",\"#FFA15A\",\"#19d3f3\",\"#FF6692\",\"#B6E880\",\"#FF97FF\",\"#FECB52\"],\"font\":{\"color\":\"#2a3f5f\"},\"hovermode\":\"closest\",\"hoverlabel\":{\"align\":\"left\"},\"paper_bgcolor\":\"white\",\"plot_bgcolor\":\"#E5ECF6\",\"polar\":{\"bgcolor\":\"#E5ECF6\",\"angularaxis\":{\"gridcolor\":\"white\",\"linecolor\":\"white\",\"ticks\":\"\"},\"radialaxis\":{\"gridcolor\":\"white\",\"linecolor\":\"white\",\"ticks\":\"\"}},\"ternary\":{\"bgcolor\":\"#E5ECF6\",\"aaxis\":{\"gridcolor\":\"white\",\"linecolor\":\"white\",\"ticks\":\"\"},\"baxis\":{\"gridcolor\":\"white\",\"linecolor\":\"white\",\"ticks\":\"\"},\"caxis\":{\"gridcolor\":\"white\",\"linecolor\":\"white\",\"ticks\":\"\"}},\"coloraxis\":{\"colorbar\":{\"outlinewidth\":0,\"ticks\":\"\"}},\"colorscale\":{\"sequential\":[[0.0,\"#0d0887\"],[0.1111111111111111,\"#46039f\"],[0.2222222222222222,\"#7201a8\"],[0.3333333333333333,\"#9c179e\"],[0.4444444444444444,\"#bd3786\"],[0.5555555555555556,\"#d8576b\"],[0.6666666666666666,\"#ed7953\"],[0.7777777777777778,\"#fb9f3a\"],[0.8888888888888888,\"#fdca26\"],[1.0,\"#f0f921\"]],\"sequentialminus\":[[0.0,\"#0d0887\"],[0.1111111111111111,\"#46039f\"],[0.2222222222222222,\"#7201a8\"],[0.3333333333333333,\"#9c179e\"],[0.4444444444444444,\"#bd3786\"],[0.5555555555555556,\"#d8576b\"],[0.6666666666666666,\"#ed7953\"],[0.7777777777777778,\"#fb9f3a\"],[0.8888888888888888,\"#fdca26\"],[1.0,\"#f0f921\"]],\"diverging\":[[0,\"#8e0152\"],[0.1,\"#c51b7d\"],[0.2,\"#de77ae\"],[0.3,\"#f1b6da\"],[0.4,\"#fde0ef\"],[0.5,\"#f7f7f7\"],[0.6,\"#e6f5d0\"],[0.7,\"#b8e186\"],[0.8,\"#7fbc41\"],[0.9,\"#4d9221\"],[1,\"#276419\"]]},\"xaxis\":{\"gridcolor\":\"white\",\"linecolor\":\"white\",\"ticks\":\"\",\"title\":{\"standoff\":15},\"zerolinecolor\":\"white\",\"automargin\":true,\"zerolinewidth\":2},\"yaxis\":{\"gridcolor\":\"white\",\"linecolor\":\"white\",\"ticks\":\"\",\"title\":{\"standoff\":15},\"zerolinecolor\":\"white\",\"automargin\":true,\"zerolinewidth\":2},\"scene\":{\"xaxis\":{\"backgroundcolor\":\"#E5ECF6\",\"gridcolor\":\"white\",\"linecolor\":\"white\",\"showbackground\":true,\"ticks\":\"\",\"zerolinecolor\":\"white\",\"gridwidth\":2},\"yaxis\":{\"backgroundcolor\":\"#E5ECF6\",\"gridcolor\":\"white\",\"linecolor\":\"white\",\"showbackground\":true,\"ticks\":\"\",\"zerolinecolor\":\"white\",\"gridwidth\":2},\"zaxis\":{\"backgroundcolor\":\"#E5ECF6\",\"gridcolor\":\"white\",\"linecolor\":\"white\",\"showbackground\":true,\"ticks\":\"\",\"zerolinecolor\":\"white\",\"gridwidth\":2}},\"shapedefaults\":{\"line\":{\"color\":\"#2a3f5f\"}},\"annotationdefaults\":{\"arrowcolor\":\"#2a3f5f\",\"arrowhead\":0,\"arrowwidth\":1},\"geo\":{\"bgcolor\":\"white\",\"landcolor\":\"#E5ECF6\",\"subunitcolor\":\"white\",\"showland\":true,\"showlakes\":true,\"lakecolor\":\"white\"},\"title\":{\"x\":0.05},\"mapbox\":{\"style\":\"light\"}}},\"xaxis\":{\"anchor\":\"y\",\"domain\":[0.0,1.0],\"title\":{\"text\":\"Order Count\"}},\"yaxis\":{\"anchor\":\"x\",\"domain\":[0.0,1.0],\"title\":{\"text\":\"Age Group\"},\"categoryorder\":\"array\",\"categoryarray\":[\"66+\",\"56-65\",\"46-55\",\"36-45\",\"26-35\",\"19-25\",\"0-18\"]},\"legend\":{\"title\":{\"text\":\"gender\"},\"tracegroupgap\":0},\"margin\":{\"t\":60},\"barmode\":\"group\",\"title\":{\"text\":\"Order Count by Age Group and Gender\"}},                        {\"responsive\": true}                    ).then(function(){\n",
       "                            \n",
       "var gd = document.getElementById('2079885b-05a8-4889-9d1f-78d4f79d10e4');\n",
       "var x = new MutationObserver(function (mutations, observer) {{\n",
       "        var display = window.getComputedStyle(gd).display;\n",
       "        if (!display || display === 'none') {{\n",
       "            console.log([gd, 'removed!']);\n",
       "            Plotly.purge(gd);\n",
       "            observer.disconnect();\n",
       "        }}\n",
       "}});\n",
       "\n",
       "// Listen for the removal of the full notebook cells\n",
       "var notebookContainer = gd.closest('#notebook-container');\n",
       "if (notebookContainer) {{\n",
       "    x.observe(notebookContainer, {childList: true});\n",
       "}}\n",
       "\n",
       "// Listen for the clearing of the current output cell\n",
       "var outputEl = gd.closest('.output');\n",
       "if (outputEl) {{\n",
       "    x.observe(outputEl, {childList: true});\n",
       "}}\n",
       "\n",
       "                        })                };                });            </script>        </div>"
      ]
     },
     "metadata": {},
     "output_type": "display_data"
    }
   ],
   "source": [
    "\n",
    "# Define the order of age groups\n",
    "age_group_order = sorted(segmented_df['age_group'].unique())\n",
    "\n",
    "# Create a horizontal bar chart using Plotly Express\n",
    "fig = px.bar(segmented_df, x='order_count', y='age_group', color='gender',\n",
    "             orientation='h', barmode='group',\n",
    "             color_discrete_map={'Female': 'lightcoral', 'Male': 'cornflowerblue'},\n",
    "             category_orders={'age_group': age_group_order})\n",
    "\n",
    "# Set axis labels and chart title\n",
    "fig.update_layout(title='Order Count by Age Group and Gender',\n",
    "                  xaxis_title='Order Count',\n",
    "                  yaxis_title='Age Group')\n",
    "\n",
    "# Show the plot\n",
    "fig.show()"
   ]
  },
  {
   "cell_type": "markdown",
   "id": "493dd2b8",
   "metadata": {},
   "source": [
    "### How many items were bought per each group"
   ]
  },
  {
   "cell_type": "code",
   "execution_count": 185,
   "id": "c89bef44",
   "metadata": {},
   "outputs": [
    {
     "name": "stdout",
     "output_type": "stream",
     "text": [
      "   age_group  gender  item_count\n",
      "0       0-18  Female           0\n",
      "1       0-18    Male           0\n",
      "2      19-25  Female         845\n",
      "3      19-25    Male         343\n",
      "4      26-35  Female        3140\n",
      "5      26-35    Male        2244\n",
      "6      36-45  Female        3033\n",
      "7      36-45    Male        2251\n",
      "8      46-55  Female        2895\n",
      "9      46-55    Male        2119\n",
      "10     56-65  Female        3129\n",
      "11     56-65    Male        2589\n",
      "12       66+  Female        2536\n",
      "13       66+    Male        2171\n"
     ]
    }
   ],
   "source": [
    "df_items = df.copy()\n",
    "\n",
    "# Convert numeric gender values to strings\n",
    "df_items['gender'] = df_items['gender'].map({0: 'Male', 1: 'Female'})\n",
    "\n",
    "# Group by age group and gender, and sum the quantity of items in each group\n",
    "items_by_group = df_items.groupby(['age_group', 'gender'])['quantity'].sum().reset_index(name='item_count')\n",
    "\n",
    "# Display the calculated values as a DataFrame\n",
    "print(items_by_group)"
   ]
  },
  {
   "cell_type": "code",
   "execution_count": 184,
   "id": "c9e5087e",
   "metadata": {},
   "outputs": [
    {
     "data": {
      "application/vnd.plotly.v1+json": {
       "config": {
        "plotlyServerURL": "https://plot.ly"
       },
       "data": [
        {
         "alignmentgroup": "True",
         "hovertemplate": "gender=Female<br>Item Count=%{x}<br>Age Group=%{y}<extra></extra>",
         "legendgroup": "Female",
         "marker": {
          "color": "lightcoral",
          "pattern": {
           "shape": ""
          }
         },
         "name": "Female",
         "offsetgroup": "Female",
         "orientation": "h",
         "showlegend": true,
         "textposition": "auto",
         "type": "bar",
         "x": [
          0,
          845,
          3140,
          3033,
          2895,
          3129,
          2536
         ],
         "xaxis": "x",
         "y": [
          "0-18",
          "19-25",
          "26-35",
          "36-45",
          "46-55",
          "56-65",
          "66+"
         ],
         "yaxis": "y"
        },
        {
         "alignmentgroup": "True",
         "hovertemplate": "gender=Male<br>Item Count=%{x}<br>Age Group=%{y}<extra></extra>",
         "legendgroup": "Male",
         "marker": {
          "color": "cornflowerblue",
          "pattern": {
           "shape": ""
          }
         },
         "name": "Male",
         "offsetgroup": "Male",
         "orientation": "h",
         "showlegend": true,
         "textposition": "auto",
         "type": "bar",
         "x": [
          0,
          343,
          2244,
          2251,
          2119,
          2589,
          2171
         ],
         "xaxis": "x",
         "y": [
          "0-18",
          "19-25",
          "26-35",
          "36-45",
          "46-55",
          "56-65",
          "66+"
         ],
         "yaxis": "y"
        }
       ],
       "layout": {
        "barmode": "group",
        "legend": {
         "title": {
          "text": "gender"
         },
         "tracegroupgap": 0
        },
        "margin": {
         "t": 60
        },
        "template": {
         "data": {
          "bar": [
           {
            "error_x": {
             "color": "#2a3f5f"
            },
            "error_y": {
             "color": "#2a3f5f"
            },
            "marker": {
             "line": {
              "color": "#E5ECF6",
              "width": 0.5
             },
             "pattern": {
              "fillmode": "overlay",
              "size": 10,
              "solidity": 0.2
             }
            },
            "type": "bar"
           }
          ],
          "barpolar": [
           {
            "marker": {
             "line": {
              "color": "#E5ECF6",
              "width": 0.5
             },
             "pattern": {
              "fillmode": "overlay",
              "size": 10,
              "solidity": 0.2
             }
            },
            "type": "barpolar"
           }
          ],
          "carpet": [
           {
            "aaxis": {
             "endlinecolor": "#2a3f5f",
             "gridcolor": "white",
             "linecolor": "white",
             "minorgridcolor": "white",
             "startlinecolor": "#2a3f5f"
            },
            "baxis": {
             "endlinecolor": "#2a3f5f",
             "gridcolor": "white",
             "linecolor": "white",
             "minorgridcolor": "white",
             "startlinecolor": "#2a3f5f"
            },
            "type": "carpet"
           }
          ],
          "choropleth": [
           {
            "colorbar": {
             "outlinewidth": 0,
             "ticks": ""
            },
            "type": "choropleth"
           }
          ],
          "contour": [
           {
            "colorbar": {
             "outlinewidth": 0,
             "ticks": ""
            },
            "colorscale": [
             [
              0,
              "#0d0887"
             ],
             [
              0.1111111111111111,
              "#46039f"
             ],
             [
              0.2222222222222222,
              "#7201a8"
             ],
             [
              0.3333333333333333,
              "#9c179e"
             ],
             [
              0.4444444444444444,
              "#bd3786"
             ],
             [
              0.5555555555555556,
              "#d8576b"
             ],
             [
              0.6666666666666666,
              "#ed7953"
             ],
             [
              0.7777777777777778,
              "#fb9f3a"
             ],
             [
              0.8888888888888888,
              "#fdca26"
             ],
             [
              1,
              "#f0f921"
             ]
            ],
            "type": "contour"
           }
          ],
          "contourcarpet": [
           {
            "colorbar": {
             "outlinewidth": 0,
             "ticks": ""
            },
            "type": "contourcarpet"
           }
          ],
          "heatmap": [
           {
            "colorbar": {
             "outlinewidth": 0,
             "ticks": ""
            },
            "colorscale": [
             [
              0,
              "#0d0887"
             ],
             [
              0.1111111111111111,
              "#46039f"
             ],
             [
              0.2222222222222222,
              "#7201a8"
             ],
             [
              0.3333333333333333,
              "#9c179e"
             ],
             [
              0.4444444444444444,
              "#bd3786"
             ],
             [
              0.5555555555555556,
              "#d8576b"
             ],
             [
              0.6666666666666666,
              "#ed7953"
             ],
             [
              0.7777777777777778,
              "#fb9f3a"
             ],
             [
              0.8888888888888888,
              "#fdca26"
             ],
             [
              1,
              "#f0f921"
             ]
            ],
            "type": "heatmap"
           }
          ],
          "heatmapgl": [
           {
            "colorbar": {
             "outlinewidth": 0,
             "ticks": ""
            },
            "colorscale": [
             [
              0,
              "#0d0887"
             ],
             [
              0.1111111111111111,
              "#46039f"
             ],
             [
              0.2222222222222222,
              "#7201a8"
             ],
             [
              0.3333333333333333,
              "#9c179e"
             ],
             [
              0.4444444444444444,
              "#bd3786"
             ],
             [
              0.5555555555555556,
              "#d8576b"
             ],
             [
              0.6666666666666666,
              "#ed7953"
             ],
             [
              0.7777777777777778,
              "#fb9f3a"
             ],
             [
              0.8888888888888888,
              "#fdca26"
             ],
             [
              1,
              "#f0f921"
             ]
            ],
            "type": "heatmapgl"
           }
          ],
          "histogram": [
           {
            "marker": {
             "pattern": {
              "fillmode": "overlay",
              "size": 10,
              "solidity": 0.2
             }
            },
            "type": "histogram"
           }
          ],
          "histogram2d": [
           {
            "colorbar": {
             "outlinewidth": 0,
             "ticks": ""
            },
            "colorscale": [
             [
              0,
              "#0d0887"
             ],
             [
              0.1111111111111111,
              "#46039f"
             ],
             [
              0.2222222222222222,
              "#7201a8"
             ],
             [
              0.3333333333333333,
              "#9c179e"
             ],
             [
              0.4444444444444444,
              "#bd3786"
             ],
             [
              0.5555555555555556,
              "#d8576b"
             ],
             [
              0.6666666666666666,
              "#ed7953"
             ],
             [
              0.7777777777777778,
              "#fb9f3a"
             ],
             [
              0.8888888888888888,
              "#fdca26"
             ],
             [
              1,
              "#f0f921"
             ]
            ],
            "type": "histogram2d"
           }
          ],
          "histogram2dcontour": [
           {
            "colorbar": {
             "outlinewidth": 0,
             "ticks": ""
            },
            "colorscale": [
             [
              0,
              "#0d0887"
             ],
             [
              0.1111111111111111,
              "#46039f"
             ],
             [
              0.2222222222222222,
              "#7201a8"
             ],
             [
              0.3333333333333333,
              "#9c179e"
             ],
             [
              0.4444444444444444,
              "#bd3786"
             ],
             [
              0.5555555555555556,
              "#d8576b"
             ],
             [
              0.6666666666666666,
              "#ed7953"
             ],
             [
              0.7777777777777778,
              "#fb9f3a"
             ],
             [
              0.8888888888888888,
              "#fdca26"
             ],
             [
              1,
              "#f0f921"
             ]
            ],
            "type": "histogram2dcontour"
           }
          ],
          "mesh3d": [
           {
            "colorbar": {
             "outlinewidth": 0,
             "ticks": ""
            },
            "type": "mesh3d"
           }
          ],
          "parcoords": [
           {
            "line": {
             "colorbar": {
              "outlinewidth": 0,
              "ticks": ""
             }
            },
            "type": "parcoords"
           }
          ],
          "pie": [
           {
            "automargin": true,
            "type": "pie"
           }
          ],
          "scatter": [
           {
            "fillpattern": {
             "fillmode": "overlay",
             "size": 10,
             "solidity": 0.2
            },
            "type": "scatter"
           }
          ],
          "scatter3d": [
           {
            "line": {
             "colorbar": {
              "outlinewidth": 0,
              "ticks": ""
             }
            },
            "marker": {
             "colorbar": {
              "outlinewidth": 0,
              "ticks": ""
             }
            },
            "type": "scatter3d"
           }
          ],
          "scattercarpet": [
           {
            "marker": {
             "colorbar": {
              "outlinewidth": 0,
              "ticks": ""
             }
            },
            "type": "scattercarpet"
           }
          ],
          "scattergeo": [
           {
            "marker": {
             "colorbar": {
              "outlinewidth": 0,
              "ticks": ""
             }
            },
            "type": "scattergeo"
           }
          ],
          "scattergl": [
           {
            "marker": {
             "colorbar": {
              "outlinewidth": 0,
              "ticks": ""
             }
            },
            "type": "scattergl"
           }
          ],
          "scattermapbox": [
           {
            "marker": {
             "colorbar": {
              "outlinewidth": 0,
              "ticks": ""
             }
            },
            "type": "scattermapbox"
           }
          ],
          "scatterpolar": [
           {
            "marker": {
             "colorbar": {
              "outlinewidth": 0,
              "ticks": ""
             }
            },
            "type": "scatterpolar"
           }
          ],
          "scatterpolargl": [
           {
            "marker": {
             "colorbar": {
              "outlinewidth": 0,
              "ticks": ""
             }
            },
            "type": "scatterpolargl"
           }
          ],
          "scatterternary": [
           {
            "marker": {
             "colorbar": {
              "outlinewidth": 0,
              "ticks": ""
             }
            },
            "type": "scatterternary"
           }
          ],
          "surface": [
           {
            "colorbar": {
             "outlinewidth": 0,
             "ticks": ""
            },
            "colorscale": [
             [
              0,
              "#0d0887"
             ],
             [
              0.1111111111111111,
              "#46039f"
             ],
             [
              0.2222222222222222,
              "#7201a8"
             ],
             [
              0.3333333333333333,
              "#9c179e"
             ],
             [
              0.4444444444444444,
              "#bd3786"
             ],
             [
              0.5555555555555556,
              "#d8576b"
             ],
             [
              0.6666666666666666,
              "#ed7953"
             ],
             [
              0.7777777777777778,
              "#fb9f3a"
             ],
             [
              0.8888888888888888,
              "#fdca26"
             ],
             [
              1,
              "#f0f921"
             ]
            ],
            "type": "surface"
           }
          ],
          "table": [
           {
            "cells": {
             "fill": {
              "color": "#EBF0F8"
             },
             "line": {
              "color": "white"
             }
            },
            "header": {
             "fill": {
              "color": "#C8D4E3"
             },
             "line": {
              "color": "white"
             }
            },
            "type": "table"
           }
          ]
         },
         "layout": {
          "annotationdefaults": {
           "arrowcolor": "#2a3f5f",
           "arrowhead": 0,
           "arrowwidth": 1
          },
          "autotypenumbers": "strict",
          "coloraxis": {
           "colorbar": {
            "outlinewidth": 0,
            "ticks": ""
           }
          },
          "colorscale": {
           "diverging": [
            [
             0,
             "#8e0152"
            ],
            [
             0.1,
             "#c51b7d"
            ],
            [
             0.2,
             "#de77ae"
            ],
            [
             0.3,
             "#f1b6da"
            ],
            [
             0.4,
             "#fde0ef"
            ],
            [
             0.5,
             "#f7f7f7"
            ],
            [
             0.6,
             "#e6f5d0"
            ],
            [
             0.7,
             "#b8e186"
            ],
            [
             0.8,
             "#7fbc41"
            ],
            [
             0.9,
             "#4d9221"
            ],
            [
             1,
             "#276419"
            ]
           ],
           "sequential": [
            [
             0,
             "#0d0887"
            ],
            [
             0.1111111111111111,
             "#46039f"
            ],
            [
             0.2222222222222222,
             "#7201a8"
            ],
            [
             0.3333333333333333,
             "#9c179e"
            ],
            [
             0.4444444444444444,
             "#bd3786"
            ],
            [
             0.5555555555555556,
             "#d8576b"
            ],
            [
             0.6666666666666666,
             "#ed7953"
            ],
            [
             0.7777777777777778,
             "#fb9f3a"
            ],
            [
             0.8888888888888888,
             "#fdca26"
            ],
            [
             1,
             "#f0f921"
            ]
           ],
           "sequentialminus": [
            [
             0,
             "#0d0887"
            ],
            [
             0.1111111111111111,
             "#46039f"
            ],
            [
             0.2222222222222222,
             "#7201a8"
            ],
            [
             0.3333333333333333,
             "#9c179e"
            ],
            [
             0.4444444444444444,
             "#bd3786"
            ],
            [
             0.5555555555555556,
             "#d8576b"
            ],
            [
             0.6666666666666666,
             "#ed7953"
            ],
            [
             0.7777777777777778,
             "#fb9f3a"
            ],
            [
             0.8888888888888888,
             "#fdca26"
            ],
            [
             1,
             "#f0f921"
            ]
           ]
          },
          "colorway": [
           "#636efa",
           "#EF553B",
           "#00cc96",
           "#ab63fa",
           "#FFA15A",
           "#19d3f3",
           "#FF6692",
           "#B6E880",
           "#FF97FF",
           "#FECB52"
          ],
          "font": {
           "color": "#2a3f5f"
          },
          "geo": {
           "bgcolor": "white",
           "lakecolor": "white",
           "landcolor": "#E5ECF6",
           "showlakes": true,
           "showland": true,
           "subunitcolor": "white"
          },
          "hoverlabel": {
           "align": "left"
          },
          "hovermode": "closest",
          "mapbox": {
           "style": "light"
          },
          "paper_bgcolor": "white",
          "plot_bgcolor": "#E5ECF6",
          "polar": {
           "angularaxis": {
            "gridcolor": "white",
            "linecolor": "white",
            "ticks": ""
           },
           "bgcolor": "#E5ECF6",
           "radialaxis": {
            "gridcolor": "white",
            "linecolor": "white",
            "ticks": ""
           }
          },
          "scene": {
           "xaxis": {
            "backgroundcolor": "#E5ECF6",
            "gridcolor": "white",
            "gridwidth": 2,
            "linecolor": "white",
            "showbackground": true,
            "ticks": "",
            "zerolinecolor": "white"
           },
           "yaxis": {
            "backgroundcolor": "#E5ECF6",
            "gridcolor": "white",
            "gridwidth": 2,
            "linecolor": "white",
            "showbackground": true,
            "ticks": "",
            "zerolinecolor": "white"
           },
           "zaxis": {
            "backgroundcolor": "#E5ECF6",
            "gridcolor": "white",
            "gridwidth": 2,
            "linecolor": "white",
            "showbackground": true,
            "ticks": "",
            "zerolinecolor": "white"
           }
          },
          "shapedefaults": {
           "line": {
            "color": "#2a3f5f"
           }
          },
          "ternary": {
           "aaxis": {
            "gridcolor": "white",
            "linecolor": "white",
            "ticks": ""
           },
           "baxis": {
            "gridcolor": "white",
            "linecolor": "white",
            "ticks": ""
           },
           "bgcolor": "#E5ECF6",
           "caxis": {
            "gridcolor": "white",
            "linecolor": "white",
            "ticks": ""
           }
          },
          "title": {
           "x": 0.05
          },
          "xaxis": {
           "automargin": true,
           "gridcolor": "white",
           "linecolor": "white",
           "ticks": "",
           "title": {
            "standoff": 15
           },
           "zerolinecolor": "white",
           "zerolinewidth": 2
          },
          "yaxis": {
           "automargin": true,
           "gridcolor": "white",
           "linecolor": "white",
           "ticks": "",
           "title": {
            "standoff": 15
           },
           "zerolinecolor": "white",
           "zerolinewidth": 2
          }
         }
        },
        "title": {
         "text": "Item Count by Age Group and Gender"
        },
        "xaxis": {
         "anchor": "y",
         "domain": [
          0,
          1
         ],
         "title": {
          "text": "Item Count"
         }
        },
        "yaxis": {
         "anchor": "x",
         "categoryarray": [
          "66+",
          "56-65",
          "46-55",
          "36-45",
          "26-35",
          "19-25",
          "0-18"
         ],
         "categoryorder": "array",
         "domain": [
          0,
          1
         ],
         "title": {
          "text": "Age Group"
         }
        }
       }
      },
      "text/html": [
       "<div>                            <div id=\"351bad46-eb31-4f26-a794-3e12bcf57574\" class=\"plotly-graph-div\" style=\"height:525px; width:100%;\"></div>            <script type=\"text/javascript\">                require([\"plotly\"], function(Plotly) {                    window.PLOTLYENV=window.PLOTLYENV || {};                                    if (document.getElementById(\"351bad46-eb31-4f26-a794-3e12bcf57574\")) {                    Plotly.newPlot(                        \"351bad46-eb31-4f26-a794-3e12bcf57574\",                        [{\"alignmentgroup\":\"True\",\"hovertemplate\":\"gender=Female<br>Item Count=%{x}<br>Age Group=%{y}<extra></extra>\",\"legendgroup\":\"Female\",\"marker\":{\"color\":\"lightcoral\",\"pattern\":{\"shape\":\"\"}},\"name\":\"Female\",\"offsetgroup\":\"Female\",\"orientation\":\"h\",\"showlegend\":true,\"textposition\":\"auto\",\"x\":[0,845,3140,3033,2895,3129,2536],\"xaxis\":\"x\",\"y\":[\"0-18\",\"19-25\",\"26-35\",\"36-45\",\"46-55\",\"56-65\",\"66+\"],\"yaxis\":\"y\",\"type\":\"bar\"},{\"alignmentgroup\":\"True\",\"hovertemplate\":\"gender=Male<br>Item Count=%{x}<br>Age Group=%{y}<extra></extra>\",\"legendgroup\":\"Male\",\"marker\":{\"color\":\"cornflowerblue\",\"pattern\":{\"shape\":\"\"}},\"name\":\"Male\",\"offsetgroup\":\"Male\",\"orientation\":\"h\",\"showlegend\":true,\"textposition\":\"auto\",\"x\":[0,343,2244,2251,2119,2589,2171],\"xaxis\":\"x\",\"y\":[\"0-18\",\"19-25\",\"26-35\",\"36-45\",\"46-55\",\"56-65\",\"66+\"],\"yaxis\":\"y\",\"type\":\"bar\"}],                        {\"template\":{\"data\":{\"histogram2dcontour\":[{\"type\":\"histogram2dcontour\",\"colorbar\":{\"outlinewidth\":0,\"ticks\":\"\"},\"colorscale\":[[0.0,\"#0d0887\"],[0.1111111111111111,\"#46039f\"],[0.2222222222222222,\"#7201a8\"],[0.3333333333333333,\"#9c179e\"],[0.4444444444444444,\"#bd3786\"],[0.5555555555555556,\"#d8576b\"],[0.6666666666666666,\"#ed7953\"],[0.7777777777777778,\"#fb9f3a\"],[0.8888888888888888,\"#fdca26\"],[1.0,\"#f0f921\"]]}],\"choropleth\":[{\"type\":\"choropleth\",\"colorbar\":{\"outlinewidth\":0,\"ticks\":\"\"}}],\"histogram2d\":[{\"type\":\"histogram2d\",\"colorbar\":{\"outlinewidth\":0,\"ticks\":\"\"},\"colorscale\":[[0.0,\"#0d0887\"],[0.1111111111111111,\"#46039f\"],[0.2222222222222222,\"#7201a8\"],[0.3333333333333333,\"#9c179e\"],[0.4444444444444444,\"#bd3786\"],[0.5555555555555556,\"#d8576b\"],[0.6666666666666666,\"#ed7953\"],[0.7777777777777778,\"#fb9f3a\"],[0.8888888888888888,\"#fdca26\"],[1.0,\"#f0f921\"]]}],\"heatmap\":[{\"type\":\"heatmap\",\"colorbar\":{\"outlinewidth\":0,\"ticks\":\"\"},\"colorscale\":[[0.0,\"#0d0887\"],[0.1111111111111111,\"#46039f\"],[0.2222222222222222,\"#7201a8\"],[0.3333333333333333,\"#9c179e\"],[0.4444444444444444,\"#bd3786\"],[0.5555555555555556,\"#d8576b\"],[0.6666666666666666,\"#ed7953\"],[0.7777777777777778,\"#fb9f3a\"],[0.8888888888888888,\"#fdca26\"],[1.0,\"#f0f921\"]]}],\"heatmapgl\":[{\"type\":\"heatmapgl\",\"colorbar\":{\"outlinewidth\":0,\"ticks\":\"\"},\"colorscale\":[[0.0,\"#0d0887\"],[0.1111111111111111,\"#46039f\"],[0.2222222222222222,\"#7201a8\"],[0.3333333333333333,\"#9c179e\"],[0.4444444444444444,\"#bd3786\"],[0.5555555555555556,\"#d8576b\"],[0.6666666666666666,\"#ed7953\"],[0.7777777777777778,\"#fb9f3a\"],[0.8888888888888888,\"#fdca26\"],[1.0,\"#f0f921\"]]}],\"contourcarpet\":[{\"type\":\"contourcarpet\",\"colorbar\":{\"outlinewidth\":0,\"ticks\":\"\"}}],\"contour\":[{\"type\":\"contour\",\"colorbar\":{\"outlinewidth\":0,\"ticks\":\"\"},\"colorscale\":[[0.0,\"#0d0887\"],[0.1111111111111111,\"#46039f\"],[0.2222222222222222,\"#7201a8\"],[0.3333333333333333,\"#9c179e\"],[0.4444444444444444,\"#bd3786\"],[0.5555555555555556,\"#d8576b\"],[0.6666666666666666,\"#ed7953\"],[0.7777777777777778,\"#fb9f3a\"],[0.8888888888888888,\"#fdca26\"],[1.0,\"#f0f921\"]]}],\"surface\":[{\"type\":\"surface\",\"colorbar\":{\"outlinewidth\":0,\"ticks\":\"\"},\"colorscale\":[[0.0,\"#0d0887\"],[0.1111111111111111,\"#46039f\"],[0.2222222222222222,\"#7201a8\"],[0.3333333333333333,\"#9c179e\"],[0.4444444444444444,\"#bd3786\"],[0.5555555555555556,\"#d8576b\"],[0.6666666666666666,\"#ed7953\"],[0.7777777777777778,\"#fb9f3a\"],[0.8888888888888888,\"#fdca26\"],[1.0,\"#f0f921\"]]}],\"mesh3d\":[{\"type\":\"mesh3d\",\"colorbar\":{\"outlinewidth\":0,\"ticks\":\"\"}}],\"scatter\":[{\"fillpattern\":{\"fillmode\":\"overlay\",\"size\":10,\"solidity\":0.2},\"type\":\"scatter\"}],\"parcoords\":[{\"type\":\"parcoords\",\"line\":{\"colorbar\":{\"outlinewidth\":0,\"ticks\":\"\"}}}],\"scatterpolargl\":[{\"type\":\"scatterpolargl\",\"marker\":{\"colorbar\":{\"outlinewidth\":0,\"ticks\":\"\"}}}],\"bar\":[{\"error_x\":{\"color\":\"#2a3f5f\"},\"error_y\":{\"color\":\"#2a3f5f\"},\"marker\":{\"line\":{\"color\":\"#E5ECF6\",\"width\":0.5},\"pattern\":{\"fillmode\":\"overlay\",\"size\":10,\"solidity\":0.2}},\"type\":\"bar\"}],\"scattergeo\":[{\"type\":\"scattergeo\",\"marker\":{\"colorbar\":{\"outlinewidth\":0,\"ticks\":\"\"}}}],\"scatterpolar\":[{\"type\":\"scatterpolar\",\"marker\":{\"colorbar\":{\"outlinewidth\":0,\"ticks\":\"\"}}}],\"histogram\":[{\"marker\":{\"pattern\":{\"fillmode\":\"overlay\",\"size\":10,\"solidity\":0.2}},\"type\":\"histogram\"}],\"scattergl\":[{\"type\":\"scattergl\",\"marker\":{\"colorbar\":{\"outlinewidth\":0,\"ticks\":\"\"}}}],\"scatter3d\":[{\"type\":\"scatter3d\",\"line\":{\"colorbar\":{\"outlinewidth\":0,\"ticks\":\"\"}},\"marker\":{\"colorbar\":{\"outlinewidth\":0,\"ticks\":\"\"}}}],\"scattermapbox\":[{\"type\":\"scattermapbox\",\"marker\":{\"colorbar\":{\"outlinewidth\":0,\"ticks\":\"\"}}}],\"scatterternary\":[{\"type\":\"scatterternary\",\"marker\":{\"colorbar\":{\"outlinewidth\":0,\"ticks\":\"\"}}}],\"scattercarpet\":[{\"type\":\"scattercarpet\",\"marker\":{\"colorbar\":{\"outlinewidth\":0,\"ticks\":\"\"}}}],\"carpet\":[{\"aaxis\":{\"endlinecolor\":\"#2a3f5f\",\"gridcolor\":\"white\",\"linecolor\":\"white\",\"minorgridcolor\":\"white\",\"startlinecolor\":\"#2a3f5f\"},\"baxis\":{\"endlinecolor\":\"#2a3f5f\",\"gridcolor\":\"white\",\"linecolor\":\"white\",\"minorgridcolor\":\"white\",\"startlinecolor\":\"#2a3f5f\"},\"type\":\"carpet\"}],\"table\":[{\"cells\":{\"fill\":{\"color\":\"#EBF0F8\"},\"line\":{\"color\":\"white\"}},\"header\":{\"fill\":{\"color\":\"#C8D4E3\"},\"line\":{\"color\":\"white\"}},\"type\":\"table\"}],\"barpolar\":[{\"marker\":{\"line\":{\"color\":\"#E5ECF6\",\"width\":0.5},\"pattern\":{\"fillmode\":\"overlay\",\"size\":10,\"solidity\":0.2}},\"type\":\"barpolar\"}],\"pie\":[{\"automargin\":true,\"type\":\"pie\"}]},\"layout\":{\"autotypenumbers\":\"strict\",\"colorway\":[\"#636efa\",\"#EF553B\",\"#00cc96\",\"#ab63fa\",\"#FFA15A\",\"#19d3f3\",\"#FF6692\",\"#B6E880\",\"#FF97FF\",\"#FECB52\"],\"font\":{\"color\":\"#2a3f5f\"},\"hovermode\":\"closest\",\"hoverlabel\":{\"align\":\"left\"},\"paper_bgcolor\":\"white\",\"plot_bgcolor\":\"#E5ECF6\",\"polar\":{\"bgcolor\":\"#E5ECF6\",\"angularaxis\":{\"gridcolor\":\"white\",\"linecolor\":\"white\",\"ticks\":\"\"},\"radialaxis\":{\"gridcolor\":\"white\",\"linecolor\":\"white\",\"ticks\":\"\"}},\"ternary\":{\"bgcolor\":\"#E5ECF6\",\"aaxis\":{\"gridcolor\":\"white\",\"linecolor\":\"white\",\"ticks\":\"\"},\"baxis\":{\"gridcolor\":\"white\",\"linecolor\":\"white\",\"ticks\":\"\"},\"caxis\":{\"gridcolor\":\"white\",\"linecolor\":\"white\",\"ticks\":\"\"}},\"coloraxis\":{\"colorbar\":{\"outlinewidth\":0,\"ticks\":\"\"}},\"colorscale\":{\"sequential\":[[0.0,\"#0d0887\"],[0.1111111111111111,\"#46039f\"],[0.2222222222222222,\"#7201a8\"],[0.3333333333333333,\"#9c179e\"],[0.4444444444444444,\"#bd3786\"],[0.5555555555555556,\"#d8576b\"],[0.6666666666666666,\"#ed7953\"],[0.7777777777777778,\"#fb9f3a\"],[0.8888888888888888,\"#fdca26\"],[1.0,\"#f0f921\"]],\"sequentialminus\":[[0.0,\"#0d0887\"],[0.1111111111111111,\"#46039f\"],[0.2222222222222222,\"#7201a8\"],[0.3333333333333333,\"#9c179e\"],[0.4444444444444444,\"#bd3786\"],[0.5555555555555556,\"#d8576b\"],[0.6666666666666666,\"#ed7953\"],[0.7777777777777778,\"#fb9f3a\"],[0.8888888888888888,\"#fdca26\"],[1.0,\"#f0f921\"]],\"diverging\":[[0,\"#8e0152\"],[0.1,\"#c51b7d\"],[0.2,\"#de77ae\"],[0.3,\"#f1b6da\"],[0.4,\"#fde0ef\"],[0.5,\"#f7f7f7\"],[0.6,\"#e6f5d0\"],[0.7,\"#b8e186\"],[0.8,\"#7fbc41\"],[0.9,\"#4d9221\"],[1,\"#276419\"]]},\"xaxis\":{\"gridcolor\":\"white\",\"linecolor\":\"white\",\"ticks\":\"\",\"title\":{\"standoff\":15},\"zerolinecolor\":\"white\",\"automargin\":true,\"zerolinewidth\":2},\"yaxis\":{\"gridcolor\":\"white\",\"linecolor\":\"white\",\"ticks\":\"\",\"title\":{\"standoff\":15},\"zerolinecolor\":\"white\",\"automargin\":true,\"zerolinewidth\":2},\"scene\":{\"xaxis\":{\"backgroundcolor\":\"#E5ECF6\",\"gridcolor\":\"white\",\"linecolor\":\"white\",\"showbackground\":true,\"ticks\":\"\",\"zerolinecolor\":\"white\",\"gridwidth\":2},\"yaxis\":{\"backgroundcolor\":\"#E5ECF6\",\"gridcolor\":\"white\",\"linecolor\":\"white\",\"showbackground\":true,\"ticks\":\"\",\"zerolinecolor\":\"white\",\"gridwidth\":2},\"zaxis\":{\"backgroundcolor\":\"#E5ECF6\",\"gridcolor\":\"white\",\"linecolor\":\"white\",\"showbackground\":true,\"ticks\":\"\",\"zerolinecolor\":\"white\",\"gridwidth\":2}},\"shapedefaults\":{\"line\":{\"color\":\"#2a3f5f\"}},\"annotationdefaults\":{\"arrowcolor\":\"#2a3f5f\",\"arrowhead\":0,\"arrowwidth\":1},\"geo\":{\"bgcolor\":\"white\",\"landcolor\":\"#E5ECF6\",\"subunitcolor\":\"white\",\"showland\":true,\"showlakes\":true,\"lakecolor\":\"white\"},\"title\":{\"x\":0.05},\"mapbox\":{\"style\":\"light\"}}},\"xaxis\":{\"anchor\":\"y\",\"domain\":[0.0,1.0],\"title\":{\"text\":\"Item Count\"}},\"yaxis\":{\"anchor\":\"x\",\"domain\":[0.0,1.0],\"title\":{\"text\":\"Age Group\"},\"categoryorder\":\"array\",\"categoryarray\":[\"66+\",\"56-65\",\"46-55\",\"36-45\",\"26-35\",\"19-25\",\"0-18\"]},\"legend\":{\"title\":{\"text\":\"gender\"},\"tracegroupgap\":0},\"margin\":{\"t\":60},\"barmode\":\"group\",\"title\":{\"text\":\"Item Count by Age Group and Gender\"}},                        {\"responsive\": true}                    ).then(function(){\n",
       "                            \n",
       "var gd = document.getElementById('351bad46-eb31-4f26-a794-3e12bcf57574');\n",
       "var x = new MutationObserver(function (mutations, observer) {{\n",
       "        var display = window.getComputedStyle(gd).display;\n",
       "        if (!display || display === 'none') {{\n",
       "            console.log([gd, 'removed!']);\n",
       "            Plotly.purge(gd);\n",
       "            observer.disconnect();\n",
       "        }}\n",
       "}});\n",
       "\n",
       "// Listen for the removal of the full notebook cells\n",
       "var notebookContainer = gd.closest('#notebook-container');\n",
       "if (notebookContainer) {{\n",
       "    x.observe(notebookContainer, {childList: true});\n",
       "}}\n",
       "\n",
       "// Listen for the clearing of the current output cell\n",
       "var outputEl = gd.closest('.output');\n",
       "if (outputEl) {{\n",
       "    x.observe(outputEl, {childList: true});\n",
       "}}\n",
       "\n",
       "                        })                };                });            </script>        </div>"
      ]
     },
     "metadata": {},
     "output_type": "display_data"
    }
   ],
   "source": [
    "df_items = df.copy()\n",
    "\n",
    "# Convert numeric gender values to strings\n",
    "df_items['gender'] = df_items['gender'].map({0: 'Male', 1: 'Female'})\n",
    "\n",
    "# Group by age group and gender, and sum the quantity of items in each group\n",
    "items_by_group = df_items.groupby(['age_group', 'gender'])['quantity'].sum().reset_index(name='item_count')\n",
    "\n",
    "# Create an interactive horizontal bar chart using Plotly Express\n",
    "fig = px.bar(items_by_group, x='item_count', y='age_group', color='gender',\n",
    "             orientation='h', barmode='group',\n",
    "             color_discrete_map={'Female': 'lightcoral', 'Male': 'cornflowerblue'},\n",
    "             category_orders={'age_group': sorted(items_by_group['age_group'].unique())},\n",
    "             labels={'item_count': 'Item Count', 'age_group': 'Age Group'})\n",
    "\n",
    "# Set chart title\n",
    "fig.update_layout(title='Item Count by Age Group and Gender')\n",
    "\n",
    "# Show the plot\n",
    "fig.show()"
   ]
  },
  {
   "cell_type": "markdown",
   "id": "1cff422e",
   "metadata": {},
   "source": [
    "### Number of items vs number of orders per each group"
   ]
  },
  {
   "cell_type": "code",
   "execution_count": 186,
   "id": "522e41b0",
   "metadata": {},
   "outputs": [
    {
     "name": "stdout",
     "output_type": "stream",
     "text": [
      "   age_group  gender  order_count  item_count\n",
      "0       0-18  Female            0           0\n",
      "1       0-18    Male            0           0\n",
      "2      19-25  Female          578         845\n",
      "3      19-25    Male          241         343\n",
      "4      26-35  Female         2185        3140\n",
      "5      26-35    Male         1586        2244\n",
      "6      36-45  Female         2126        3033\n",
      "7      36-45    Male         1595        2251\n",
      "8      46-55  Female         2013        2895\n",
      "9      46-55    Male         1477        2119\n",
      "10     56-65  Female         2155        3129\n",
      "11     56-65    Male         1779        2589\n",
      "12       66+  Female         1794        2536\n",
      "13       66+    Male         1544        2171\n"
     ]
    }
   ],
   "source": [
    "# Merge the DataFrames on 'age_group' and 'gender'\n",
    "order_vs_items = pd.merge(segmented_df, items_by_group, on=['age_group', 'gender'], how='left')\n",
    "\n",
    "# Display the merged DataFrame\n",
    "print(order_vs_items)"
   ]
  },
  {
   "cell_type": "code",
   "execution_count": 188,
   "id": "94dc9e00",
   "metadata": {},
   "outputs": [
    {
     "name": "stdout",
     "output_type": "stream",
     "text": [
      "   age_group  gender  order_count  item_count  item_order_ratio\n",
      "0       0-18  Female            0           0               NaN\n",
      "1       0-18    Male            0           0               NaN\n",
      "2      19-25  Female          578         845          1.461938\n",
      "3      19-25    Male          241         343          1.423237\n",
      "4      26-35  Female         2185        3140          1.437071\n",
      "5      26-35    Male         1586        2244          1.414880\n",
      "6      36-45  Female         2126        3033          1.426623\n",
      "7      36-45    Male         1595        2251          1.411285\n",
      "8      46-55  Female         2013        2895          1.438152\n",
      "9      46-55    Male         1477        2119          1.434665\n",
      "10     56-65  Female         2155        3129          1.451972\n",
      "11     56-65    Male         1779        2589          1.455312\n",
      "12       66+  Female         1794        2536          1.413601\n",
      "13       66+    Male         1544        2171          1.406088\n"
     ]
    }
   ],
   "source": [
    "# Calculate the ratio of item_count to order_count\n",
    "order_vs_items['item_order_ratio'] = order_vs_items['item_count'] / order_vs_items['order_count']\n",
    "\n",
    "# Display the updated DataFrame\n",
    "print(order_vs_items)"
   ]
  },
  {
   "cell_type": "code",
   "execution_count": null,
   "id": "842efc73",
   "metadata": {},
   "outputs": [],
   "source": []
  }
 ],
 "metadata": {
  "kernelspec": {
   "display_name": "Python 3 (ipykernel)",
   "language": "python",
   "name": "python3"
  },
  "language_info": {
   "codemirror_mode": {
    "name": "ipython",
    "version": 3
   },
   "file_extension": ".py",
   "mimetype": "text/x-python",
   "name": "python",
   "nbconvert_exporter": "python",
   "pygments_lexer": "ipython3",
   "version": "3.9.12"
  }
 },
 "nbformat": 4,
 "nbformat_minor": 5
}
